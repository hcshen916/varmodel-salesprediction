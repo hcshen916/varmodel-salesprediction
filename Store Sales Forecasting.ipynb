{
 "cells": [
  {
   "cell_type": "markdown",
   "id": "3313205b",
   "metadata": {
    "papermill": {
     "duration": 0.027968,
     "end_time": "2024-01-19T11:14:47.810252",
     "exception": false,
     "start_time": "2024-01-19T11:14:47.782284",
     "status": "completed"
    },
    "tags": []
   },
   "source": [
    "# Time Series Forecasting"
   ]
  },
  {
   "cell_type": "markdown",
   "id": "03dde880",
   "metadata": {
    "papermill": {
     "duration": 0.030638,
     "end_time": "2024-01-19T11:14:47.867519",
     "exception": false,
     "start_time": "2024-01-19T11:14:47.836881",
     "status": "completed"
    },
    "tags": []
   },
   "source": [
    "# Import Data and Packages"
   ]
  },
  {
   "cell_type": "code",
   "execution_count": 1,
   "id": "be997a57",
   "metadata": {
    "execution": {
     "iopub.execute_input": "2024-01-19T11:14:47.924326Z",
     "iopub.status.busy": "2024-01-19T11:14:47.923612Z",
     "iopub.status.idle": "2024-01-19T11:14:51.170038Z",
     "shell.execute_reply": "2024-01-19T11:14:51.169140Z"
    },
    "papermill": {
     "duration": 3.277228,
     "end_time": "2024-01-19T11:14:51.172539",
     "exception": false,
     "start_time": "2024-01-19T11:14:47.895311",
     "status": "completed"
    },
    "tags": []
   },
   "outputs": [],
   "source": [
    "import seaborn as sns\n",
    "import matplotlib.pyplot as plt\n",
    "import statsmodels.api as sm\n",
    "import statsmodels.tsa.stattools as ts\n",
    "\n",
    "# from sklearn.preprocessing import MinMaxScaler\n",
    "# import tensorflow as tf\n",
    "# from tensorflow import keras\n",
    "# from tensorflow.keras import layers\n",
    "# from tensorflow.keras.layers import SimpleRNN, LSTM, Dense, Embedding"
   ]
  },
  {
   "cell_type": "code",
   "execution_count": 2,
   "id": "5a2718ef",
   "metadata": {
    "_cell_guid": "b1076dfc-b9ad-4769-8c92-a6c4dae69d19",
    "_uuid": "8f2839f25d086af736a60e9eeb907d3b93b6e0e5",
    "execution": {
     "iopub.execute_input": "2024-01-19T11:14:51.229598Z",
     "iopub.status.busy": "2024-01-19T11:14:51.228740Z",
     "iopub.status.idle": "2024-01-19T11:14:51.238320Z",
     "shell.execute_reply": "2024-01-19T11:14:51.237092Z"
    },
    "papermill": {
     "duration": 0.040525,
     "end_time": "2024-01-19T11:14:51.240699",
     "exception": false,
     "start_time": "2024-01-19T11:14:51.200174",
     "status": "completed"
    },
    "tags": []
   },
   "outputs": [
    {
     "name": "stdout",
     "output_type": "stream",
     "text": [
      "/kaggle/input/store-sales-time-series-forecasting/oil.csv\n",
      "/kaggle/input/store-sales-time-series-forecasting/sample_submission.csv\n",
      "/kaggle/input/store-sales-time-series-forecasting/holidays_events.csv\n",
      "/kaggle/input/store-sales-time-series-forecasting/stores.csv\n",
      "/kaggle/input/store-sales-time-series-forecasting/train.csv\n",
      "/kaggle/input/store-sales-time-series-forecasting/test.csv\n",
      "/kaggle/input/store-sales-time-series-forecasting/transactions.csv\n"
     ]
    }
   ],
   "source": [
    "# This Python 3 environment comes with many helpful analytics libraries installed\n",
    "# It is defined by the kaggle/python Docker image: https://github.com/kaggle/docker-python\n",
    "# For example, here's several helpful packages to load\n",
    "\n",
    "import numpy as np # linear algebra\n",
    "import pandas as pd # data processing, CSV file I/O (e.g. pd.read_csv)\n",
    "\n",
    "# Input data files are available in the read-only \"../input/\" directory\n",
    "# For example, running this (by clicking run or pressing Shift+Enter) will list all files under the input directory\n",
    "\n",
    "import os\n",
    "for dirname, _, filenames in os.walk('/kaggle/input'):\n",
    "    for filename in filenames:\n",
    "        print(os.path.join(dirname, filename))\n",
    "\n",
    "# You can write up to 20GB to the current directory (/kaggle/working/) that gets preserved as output when you create a version using \"Save & Run All\" \n",
    "# You can also write temporary files to /kaggle/temp/, but they won't be saved outside of the current session"
   ]
  },
  {
   "cell_type": "code",
   "execution_count": 3,
   "id": "a8ec76ff",
   "metadata": {
    "execution": {
     "iopub.execute_input": "2024-01-19T11:14:51.298159Z",
     "iopub.status.busy": "2024-01-19T11:14:51.297700Z",
     "iopub.status.idle": "2024-01-19T11:14:55.286199Z",
     "shell.execute_reply": "2024-01-19T11:14:55.285280Z"
    },
    "papermill": {
     "duration": 4.020275,
     "end_time": "2024-01-19T11:14:55.289006",
     "exception": false,
     "start_time": "2024-01-19T11:14:51.268731",
     "status": "completed"
    },
    "tags": []
   },
   "outputs": [],
   "source": [
    "df_train = pd.read_csv('/kaggle/input/store-sales-time-series-forecasting/train.csv')\n",
    "df_test = pd.read_csv('/kaggle/input/store-sales-time-series-forecasting/test.csv')\n",
    "df_holiday = pd.read_csv('/kaggle/input/store-sales-time-series-forecasting/holidays_events.csv')\n",
    "df_store = pd.read_csv('/kaggle/input/store-sales-time-series-forecasting/stores.csv')\n",
    "df_trans = pd.read_csv('/kaggle/input/store-sales-time-series-forecasting/transactions.csv')\n",
    "df_oil = pd.read_csv('/kaggle/input/store-sales-time-series-forecasting/oil.csv')"
   ]
  },
  {
   "cell_type": "markdown",
   "id": "9c4032d4",
   "metadata": {
    "papermill": {
     "duration": 0.026954,
     "end_time": "2024-01-19T11:14:55.401183",
     "exception": false,
     "start_time": "2024-01-19T11:14:55.374229",
     "status": "completed"
    },
    "tags": []
   },
   "source": [
    "# Data overview and Visualizations"
   ]
  },
  {
   "cell_type": "markdown",
   "id": "896b5745",
   "metadata": {
    "papermill": {
     "duration": 0.027281,
     "end_time": "2024-01-19T11:14:55.455937",
     "exception": false,
     "start_time": "2024-01-19T11:14:55.428656",
     "status": "completed"
    },
    "tags": []
   },
   "source": [
    "### Go through df_train\n",
    "---\n",
    "**Data description**\n",
    "- The training data, comprising time series of features store_nbr, family, and onpromotion as well as the target sales.\n",
    "- store_nbr identifies the store at which the products are sold.\n",
    "- family identifies the type of product sold.\n",
    "- sales gives the total sales for a product family at a particular store at a given date. Fractional values are possible since products can be sold in fractional units (1.5 kg of cheese, for instance, as opposed to 1 bag of chips).\n",
    "- onpromotion gives the total number of items in a product family that were being promoted at a store at a given date."
   ]
  },
  {
   "cell_type": "code",
   "execution_count": 4,
   "id": "84806bdd",
   "metadata": {
    "execution": {
     "iopub.execute_input": "2024-01-19T11:14:55.513972Z",
     "iopub.status.busy": "2024-01-19T11:14:55.512666Z",
     "iopub.status.idle": "2024-01-19T11:14:56.142256Z",
     "shell.execute_reply": "2024-01-19T11:14:56.140931Z"
    },
    "papermill": {
     "duration": 0.661682,
     "end_time": "2024-01-19T11:14:56.145222",
     "exception": false,
     "start_time": "2024-01-19T11:14:55.483540",
     "status": "completed"
    },
    "tags": []
   },
   "outputs": [],
   "source": [
    "df_train = df_train.set_index(['date'])\n",
    "# convert date index to datetime datatype\n",
    "df_train.index = pd.to_datetime(df_train.index)"
   ]
  },
  {
   "cell_type": "code",
   "execution_count": 5,
   "id": "b7363666",
   "metadata": {
    "execution": {
     "iopub.execute_input": "2024-01-19T11:14:56.202259Z",
     "iopub.status.busy": "2024-01-19T11:14:56.201823Z",
     "iopub.status.idle": "2024-01-19T11:14:56.265080Z",
     "shell.execute_reply": "2024-01-19T11:14:56.263945Z"
    },
    "papermill": {
     "duration": 0.094792,
     "end_time": "2024-01-19T11:14:56.267409",
     "exception": false,
     "start_time": "2024-01-19T11:14:56.172617",
     "status": "completed"
    },
    "tags": []
   },
   "outputs": [
    {
     "name": "stdout",
     "output_type": "stream",
     "text": [
      "<class 'pandas.core.frame.DataFrame'>\n",
      "DatetimeIndex: 3000888 entries, 2013-01-01 to 2017-08-15\n",
      "Data columns (total 5 columns):\n",
      " #   Column       Dtype  \n",
      "---  ------       -----  \n",
      " 0   id           int64  \n",
      " 1   store_nbr    int64  \n",
      " 2   family       object \n",
      " 3   sales        float64\n",
      " 4   onpromotion  int64  \n",
      "dtypes: float64(1), int64(3), object(1)\n",
      "memory usage: 137.4+ MB\n"
     ]
    }
   ],
   "source": [
    "df_train.info()"
   ]
  },
  {
   "cell_type": "code",
   "execution_count": 6,
   "id": "51c0e86c",
   "metadata": {
    "execution": {
     "iopub.execute_input": "2024-01-19T11:14:56.324704Z",
     "iopub.status.busy": "2024-01-19T11:14:56.324127Z",
     "iopub.status.idle": "2024-01-19T11:14:56.339921Z",
     "shell.execute_reply": "2024-01-19T11:14:56.338929Z"
    },
    "papermill": {
     "duration": 0.047311,
     "end_time": "2024-01-19T11:14:56.342450",
     "exception": false,
     "start_time": "2024-01-19T11:14:56.295139",
     "status": "completed"
    },
    "tags": []
   },
   "outputs": [
    {
     "data": {
      "text/html": [
       "<div>\n",
       "<style scoped>\n",
       "    .dataframe tbody tr th:only-of-type {\n",
       "        vertical-align: middle;\n",
       "    }\n",
       "\n",
       "    .dataframe tbody tr th {\n",
       "        vertical-align: top;\n",
       "    }\n",
       "\n",
       "    .dataframe thead th {\n",
       "        text-align: right;\n",
       "    }\n",
       "</style>\n",
       "<table border=\"1\" class=\"dataframe\">\n",
       "  <thead>\n",
       "    <tr style=\"text-align: right;\">\n",
       "      <th></th>\n",
       "      <th>id</th>\n",
       "      <th>store_nbr</th>\n",
       "      <th>family</th>\n",
       "      <th>sales</th>\n",
       "      <th>onpromotion</th>\n",
       "    </tr>\n",
       "    <tr>\n",
       "      <th>date</th>\n",
       "      <th></th>\n",
       "      <th></th>\n",
       "      <th></th>\n",
       "      <th></th>\n",
       "      <th></th>\n",
       "    </tr>\n",
       "  </thead>\n",
       "  <tbody>\n",
       "    <tr>\n",
       "      <th>2013-01-01</th>\n",
       "      <td>0</td>\n",
       "      <td>1</td>\n",
       "      <td>AUTOMOTIVE</td>\n",
       "      <td>0.0</td>\n",
       "      <td>0</td>\n",
       "    </tr>\n",
       "    <tr>\n",
       "      <th>2013-01-01</th>\n",
       "      <td>1</td>\n",
       "      <td>1</td>\n",
       "      <td>BABY CARE</td>\n",
       "      <td>0.0</td>\n",
       "      <td>0</td>\n",
       "    </tr>\n",
       "    <tr>\n",
       "      <th>2013-01-01</th>\n",
       "      <td>2</td>\n",
       "      <td>1</td>\n",
       "      <td>BEAUTY</td>\n",
       "      <td>0.0</td>\n",
       "      <td>0</td>\n",
       "    </tr>\n",
       "    <tr>\n",
       "      <th>2013-01-01</th>\n",
       "      <td>3</td>\n",
       "      <td>1</td>\n",
       "      <td>BEVERAGES</td>\n",
       "      <td>0.0</td>\n",
       "      <td>0</td>\n",
       "    </tr>\n",
       "    <tr>\n",
       "      <th>2013-01-01</th>\n",
       "      <td>4</td>\n",
       "      <td>1</td>\n",
       "      <td>BOOKS</td>\n",
       "      <td>0.0</td>\n",
       "      <td>0</td>\n",
       "    </tr>\n",
       "  </tbody>\n",
       "</table>\n",
       "</div>"
      ],
      "text/plain": [
       "            id  store_nbr      family  sales  onpromotion\n",
       "date                                                     \n",
       "2013-01-01   0          1  AUTOMOTIVE    0.0            0\n",
       "2013-01-01   1          1   BABY CARE    0.0            0\n",
       "2013-01-01   2          1      BEAUTY    0.0            0\n",
       "2013-01-01   3          1   BEVERAGES    0.0            0\n",
       "2013-01-01   4          1       BOOKS    0.0            0"
      ]
     },
     "execution_count": 6,
     "metadata": {},
     "output_type": "execute_result"
    }
   ],
   "source": [
    "df_train.head()"
   ]
  },
  {
   "cell_type": "code",
   "execution_count": 7,
   "id": "fc4b3dec",
   "metadata": {
    "execution": {
     "iopub.execute_input": "2024-01-19T11:14:56.399504Z",
     "iopub.status.busy": "2024-01-19T11:14:56.399104Z",
     "iopub.status.idle": "2024-01-19T11:14:56.471551Z",
     "shell.execute_reply": "2024-01-19T11:14:56.470412Z"
    },
    "papermill": {
     "duration": 0.103859,
     "end_time": "2024-01-19T11:14:56.474290",
     "exception": false,
     "start_time": "2024-01-19T11:14:56.370431",
     "status": "completed"
    },
    "tags": []
   },
   "outputs": [],
   "source": [
    "df_sales = pd.DataFrame(df_train['sales'].groupby(df_train.index).sum(), columns=['sales'])"
   ]
  },
  {
   "cell_type": "code",
   "execution_count": 8,
   "id": "7e339ce7",
   "metadata": {
    "execution": {
     "iopub.execute_input": "2024-01-19T11:14:56.530699Z",
     "iopub.status.busy": "2024-01-19T11:14:56.530296Z",
     "iopub.status.idle": "2024-01-19T11:14:56.537894Z",
     "shell.execute_reply": "2024-01-19T11:14:56.536896Z"
    },
    "papermill": {
     "duration": 0.038417,
     "end_time": "2024-01-19T11:14:56.540128",
     "exception": false,
     "start_time": "2024-01-19T11:14:56.501711",
     "status": "completed"
    },
    "tags": []
   },
   "outputs": [],
   "source": [
    "# convert date index to datetime datatype\n",
    "df_sales.index = pd.to_datetime(df_sales.index)"
   ]
  },
  {
   "cell_type": "code",
   "execution_count": 9,
   "id": "4537ea81",
   "metadata": {
    "execution": {
     "iopub.execute_input": "2024-01-19T11:14:56.596823Z",
     "iopub.status.busy": "2024-01-19T11:14:56.596441Z",
     "iopub.status.idle": "2024-01-19T11:14:56.616499Z",
     "shell.execute_reply": "2024-01-19T11:14:56.615542Z"
    },
    "papermill": {
     "duration": 0.051393,
     "end_time": "2024-01-19T11:14:56.619146",
     "exception": false,
     "start_time": "2024-01-19T11:14:56.567753",
     "status": "completed"
    },
    "tags": []
   },
   "outputs": [],
   "source": [
    "# group as monthly\n",
    "df_sales_M = df_sales.resample('M').sum()"
   ]
  },
  {
   "cell_type": "code",
   "execution_count": 10,
   "id": "9151fe0a",
   "metadata": {
    "execution": {
     "iopub.execute_input": "2024-01-19T11:14:56.677096Z",
     "iopub.status.busy": "2024-01-19T11:14:56.676491Z",
     "iopub.status.idle": "2024-01-19T11:14:57.430493Z",
     "shell.execute_reply": "2024-01-19T11:14:57.429373Z"
    },
    "papermill": {
     "duration": 0.785594,
     "end_time": "2024-01-19T11:14:57.432861",
     "exception": false,
     "start_time": "2024-01-19T11:14:56.647267",
     "status": "completed"
    },
    "tags": []
   },
   "outputs": [
    {
     "data": {
      "image/png": "[encoded data removed]",
      "text/plain": [
       "<Figure size 585.25x500 with 1 Axes>"
      ]
     },
     "metadata": {},
     "output_type": "display_data"
    }
   ],
   "source": [
    "sns.displot(data=df_sales, kde=True);"
   ]
  },
  {
   "cell_type": "code",
   "execution_count": 11,
   "id": "8aebb7af",
   "metadata": {
    "execution": {
     "iopub.execute_input": "2024-01-19T11:14:57.493340Z",
     "iopub.status.busy": "2024-01-19T11:14:57.492294Z",
     "iopub.status.idle": "2024-01-19T11:14:57.967079Z",
     "shell.execute_reply": "2024-01-19T11:14:57.966117Z"
    },
    "papermill": {
     "duration": 0.508075,
     "end_time": "2024-01-19T11:14:57.970025",
     "exception": false,
     "start_time": "2024-01-19T11:14:57.461950",
     "status": "completed"
    },
    "tags": []
   },
   "outputs": [
    {
     "data": {
      "text/plain": [
       "<Axes: xlabel='date', ylabel='sales'>"
      ]
     },
     "execution_count": 11,
     "metadata": {},
     "output_type": "execute_result"
    },
    {
     "data": {
      "image/png": "[encoded data removed]",
      "text/plain": [
       "<Figure size 900x500 with 1 Axes>"
      ]
     },
     "metadata": {},
     "output_type": "display_data"
    }
   ],
   "source": [
    "plt.figure(figsize=(9,5))\n",
    "sns.lineplot(data=df_sales_M[:-1], x='date', y='sales')"
   ]
  },
  {
   "cell_type": "markdown",
   "id": "3ad75c81",
   "metadata": {
    "papermill": {
     "duration": 0.029686,
     "end_time": "2024-01-19T11:14:58.029484",
     "exception": false,
     "start_time": "2024-01-19T11:14:57.999798",
     "status": "completed"
    },
    "tags": []
   },
   "source": [
    "### Go through holiday\n",
    "\n",
    "---\n",
    "**data description:**\n",
    "- Holidays and Events, with metadata\n",
    "- NOTE: Pay special attention to the transferred column. A holiday that is transferred officially falls on that calendar day, but was moved to another date by the government. A transferred day is more like a normal day than a holiday. To find the day that it was actually celebrated, look for the corresponding row where type is Transfer. For example, the holiday Independencia de Guayaquil was transferred from 2012-10-09 to 2012-10-12, which means it was celebrated on 2012-10-12. Days that are type Bridge are extra days that are added to a holiday (e.g., to extend the break across a long weekend). These are frequently made up by the type Work Day which is a day not normally scheduled for work (e.g., Saturday) that is meant to payback the Bridge.\n",
    "- Additional holidays are days added a regular calendar holiday, for example, as typically happens around Christmas (making Christmas Eve a holiday)."
   ]
  },
  {
   "cell_type": "code",
   "execution_count": 12,
   "id": "a9c1c854",
   "metadata": {
    "execution": {
     "iopub.execute_input": "2024-01-19T11:14:58.091328Z",
     "iopub.status.busy": "2024-01-19T11:14:58.090929Z",
     "iopub.status.idle": "2024-01-19T11:14:58.102497Z",
     "shell.execute_reply": "2024-01-19T11:14:58.101488Z"
    },
    "papermill": {
     "duration": 0.045068,
     "end_time": "2024-01-19T11:14:58.104818",
     "exception": false,
     "start_time": "2024-01-19T11:14:58.059750",
     "status": "completed"
    },
    "tags": []
   },
   "outputs": [
    {
     "name": "stdout",
     "output_type": "stream",
     "text": [
      "<class 'pandas.core.frame.DataFrame'>\n",
      "RangeIndex: 350 entries, 0 to 349\n",
      "Data columns (total 6 columns):\n",
      " #   Column       Non-Null Count  Dtype \n",
      "---  ------       --------------  ----- \n",
      " 0   date         350 non-null    object\n",
      " 1   type         350 non-null    object\n",
      " 2   locale       350 non-null    object\n",
      " 3   locale_name  350 non-null    object\n",
      " 4   description  350 non-null    object\n",
      " 5   transferred  350 non-null    bool  \n",
      "dtypes: bool(1), object(5)\n",
      "memory usage: 14.1+ KB\n"
     ]
    }
   ],
   "source": [
    "df_holiday.info()"
   ]
  },
  {
   "cell_type": "code",
   "execution_count": 13,
   "id": "954f9e0d",
   "metadata": {
    "execution": {
     "iopub.execute_input": "2024-01-19T11:14:58.165624Z",
     "iopub.status.busy": "2024-01-19T11:14:58.165214Z",
     "iopub.status.idle": "2024-01-19T11:14:58.177870Z",
     "shell.execute_reply": "2024-01-19T11:14:58.177108Z"
    },
    "papermill": {
     "duration": 0.045766,
     "end_time": "2024-01-19T11:14:58.180180",
     "exception": false,
     "start_time": "2024-01-19T11:14:58.134414",
     "status": "completed"
    },
    "tags": []
   },
   "outputs": [
    {
     "data": {
      "text/html": [
       "<div>\n",
       "<style scoped>\n",
       "    .dataframe tbody tr th:only-of-type {\n",
       "        vertical-align: middle;\n",
       "    }\n",
       "\n",
       "    .dataframe tbody tr th {\n",
       "        vertical-align: top;\n",
       "    }\n",
       "\n",
       "    .dataframe thead th {\n",
       "        text-align: right;\n",
       "    }\n",
       "</style>\n",
       "<table border=\"1\" class=\"dataframe\">\n",
       "  <thead>\n",
       "    <tr style=\"text-align: right;\">\n",
       "      <th></th>\n",
       "      <th>date</th>\n",
       "      <th>type</th>\n",
       "      <th>locale</th>\n",
       "      <th>locale_name</th>\n",
       "      <th>description</th>\n",
       "      <th>transferred</th>\n",
       "    </tr>\n",
       "  </thead>\n",
       "  <tbody>\n",
       "    <tr>\n",
       "      <th>0</th>\n",
       "      <td>2012-03-02</td>\n",
       "      <td>Holiday</td>\n",
       "      <td>Local</td>\n",
       "      <td>Manta</td>\n",
       "      <td>Fundacion de Manta</td>\n",
       "      <td>False</td>\n",
       "    </tr>\n",
       "    <tr>\n",
       "      <th>1</th>\n",
       "      <td>2012-04-01</td>\n",
       "      <td>Holiday</td>\n",
       "      <td>Regional</td>\n",
       "      <td>Cotopaxi</td>\n",
       "      <td>Provincializacion de Cotopaxi</td>\n",
       "      <td>False</td>\n",
       "    </tr>\n",
       "    <tr>\n",
       "      <th>2</th>\n",
       "      <td>2012-04-12</td>\n",
       "      <td>Holiday</td>\n",
       "      <td>Local</td>\n",
       "      <td>Cuenca</td>\n",
       "      <td>Fundacion de Cuenca</td>\n",
       "      <td>False</td>\n",
       "    </tr>\n",
       "    <tr>\n",
       "      <th>3</th>\n",
       "      <td>2012-04-14</td>\n",
       "      <td>Holiday</td>\n",
       "      <td>Local</td>\n",
       "      <td>Libertad</td>\n",
       "      <td>Cantonizacion de Libertad</td>\n",
       "      <td>False</td>\n",
       "    </tr>\n",
       "    <tr>\n",
       "      <th>4</th>\n",
       "      <td>2012-04-21</td>\n",
       "      <td>Holiday</td>\n",
       "      <td>Local</td>\n",
       "      <td>Riobamba</td>\n",
       "      <td>Cantonizacion de Riobamba</td>\n",
       "      <td>False</td>\n",
       "    </tr>\n",
       "  </tbody>\n",
       "</table>\n",
       "</div>"
      ],
      "text/plain": [
       "         date     type    locale locale_name                    description  \\\n",
       "0  2012-03-02  Holiday     Local       Manta             Fundacion de Manta   \n",
       "1  2012-04-01  Holiday  Regional    Cotopaxi  Provincializacion de Cotopaxi   \n",
       "2  2012-04-12  Holiday     Local      Cuenca            Fundacion de Cuenca   \n",
       "3  2012-04-14  Holiday     Local    Libertad      Cantonizacion de Libertad   \n",
       "4  2012-04-21  Holiday     Local    Riobamba      Cantonizacion de Riobamba   \n",
       "\n",
       "   transferred  \n",
       "0        False  \n",
       "1        False  \n",
       "2        False  \n",
       "3        False  \n",
       "4        False  "
      ]
     },
     "execution_count": 13,
     "metadata": {},
     "output_type": "execute_result"
    }
   ],
   "source": [
    "df_holiday.head()"
   ]
  },
  {
   "cell_type": "code",
   "execution_count": 14,
   "id": "cf75457a",
   "metadata": {
    "execution": {
     "iopub.execute_input": "2024-01-19T11:14:58.243692Z",
     "iopub.status.busy": "2024-01-19T11:14:58.243268Z",
     "iopub.status.idle": "2024-01-19T11:14:58.250670Z",
     "shell.execute_reply": "2024-01-19T11:14:58.249567Z"
    },
    "papermill": {
     "duration": 0.041187,
     "end_time": "2024-01-19T11:14:58.253025",
     "exception": false,
     "start_time": "2024-01-19T11:14:58.211838",
     "status": "completed"
    },
    "tags": []
   },
   "outputs": [],
   "source": [
    "df_holiday = df_holiday.set_index(['date'])\n",
    "# convert date index to datetime datatype\n",
    "df_holiday.index = pd.to_datetime(df_holiday.index)"
   ]
  },
  {
   "cell_type": "code",
   "execution_count": 15,
   "id": "6f9ceb7a",
   "metadata": {
    "execution": {
     "iopub.execute_input": "2024-01-19T11:14:58.315039Z",
     "iopub.status.busy": "2024-01-19T11:14:58.314180Z",
     "iopub.status.idle": "2024-01-19T11:14:58.323279Z",
     "shell.execute_reply": "2024-01-19T11:14:58.322469Z"
    },
    "papermill": {
     "duration": 0.042796,
     "end_time": "2024-01-19T11:14:58.325686",
     "exception": false,
     "start_time": "2024-01-19T11:14:58.282890",
     "status": "completed"
    },
    "tags": []
   },
   "outputs": [
    {
     "data": {
      "text/plain": [
       "transferred\n",
       "False    338\n",
       "True      12\n",
       "Name: count, dtype: int64"
      ]
     },
     "execution_count": 15,
     "metadata": {},
     "output_type": "execute_result"
    }
   ],
   "source": [
    "df_holiday['transferred'].value_counts()"
   ]
  },
  {
   "cell_type": "markdown",
   "id": "788c577e",
   "metadata": {
    "papermill": {
     "duration": 0.029757,
     "end_time": "2024-01-19T11:14:58.385317",
     "exception": false,
     "start_time": "2024-01-19T11:14:58.355560",
     "status": "completed"
    },
    "tags": []
   },
   "source": [
    "Since some real holiday is transfered to the other day, try delete (transfered=True) rows"
   ]
  },
  {
   "cell_type": "code",
   "execution_count": 16,
   "id": "6f809a77",
   "metadata": {
    "execution": {
     "iopub.execute_input": "2024-01-19T11:14:58.447303Z",
     "iopub.status.busy": "2024-01-19T11:14:58.446189Z",
     "iopub.status.idle": "2024-01-19T11:14:58.452304Z",
     "shell.execute_reply": "2024-01-19T11:14:58.451365Z"
    },
    "papermill": {
     "duration": 0.03953,
     "end_time": "2024-01-19T11:14:58.454483",
     "exception": false,
     "start_time": "2024-01-19T11:14:58.414953",
     "status": "completed"
    },
    "tags": []
   },
   "outputs": [],
   "source": [
    "df_holiday = df_holiday[df_holiday['transferred']!=True]"
   ]
  },
  {
   "cell_type": "markdown",
   "id": "4add3383",
   "metadata": {
    "papermill": {
     "duration": 0.029594,
     "end_time": "2024-01-19T11:14:58.513733",
     "exception": false,
     "start_time": "2024-01-19T11:14:58.484139",
     "status": "completed"
    },
    "tags": []
   },
   "source": [
    "### Go through store\n",
    "---\n",
    "**data description:**\n",
    "- Store metadata, including city, state, type, and cluster.\n",
    "- cluster is a grouping of similar stores."
   ]
  },
  {
   "cell_type": "code",
   "execution_count": 17,
   "id": "4d123a28",
   "metadata": {
    "execution": {
     "iopub.execute_input": "2024-01-19T11:14:58.575623Z",
     "iopub.status.busy": "2024-01-19T11:14:58.575243Z",
     "iopub.status.idle": "2024-01-19T11:14:58.586648Z",
     "shell.execute_reply": "2024-01-19T11:14:58.585583Z"
    },
    "papermill": {
     "duration": 0.045625,
     "end_time": "2024-01-19T11:14:58.589200",
     "exception": false,
     "start_time": "2024-01-19T11:14:58.543575",
     "status": "completed"
    },
    "tags": []
   },
   "outputs": [
    {
     "name": "stdout",
     "output_type": "stream",
     "text": [
      "<class 'pandas.core.frame.DataFrame'>\n",
      "RangeIndex: 54 entries, 0 to 53\n",
      "Data columns (total 5 columns):\n",
      " #   Column     Non-Null Count  Dtype \n",
      "---  ------     --------------  ----- \n",
      " 0   store_nbr  54 non-null     int64 \n",
      " 1   city       54 non-null     object\n",
      " 2   state      54 non-null     object\n",
      " 3   type       54 non-null     object\n",
      " 4   cluster    54 non-null     int64 \n",
      "dtypes: int64(2), object(3)\n",
      "memory usage: 2.2+ KB\n"
     ]
    }
   ],
   "source": [
    "df_store.info()"
   ]
  },
  {
   "cell_type": "code",
   "execution_count": 18,
   "id": "a138880c",
   "metadata": {
    "execution": {
     "iopub.execute_input": "2024-01-19T11:14:58.652028Z",
     "iopub.status.busy": "2024-01-19T11:14:58.651641Z",
     "iopub.status.idle": "2024-01-19T11:14:58.663268Z",
     "shell.execute_reply": "2024-01-19T11:14:58.662133Z"
    },
    "papermill": {
     "duration": 0.045845,
     "end_time": "2024-01-19T11:14:58.665743",
     "exception": false,
     "start_time": "2024-01-19T11:14:58.619898",
     "status": "completed"
    },
    "tags": []
   },
   "outputs": [
    {
     "data": {
      "text/html": [
       "<div>\n",
       "<style scoped>\n",
       "    .dataframe tbody tr th:only-of-type {\n",
       "        vertical-align: middle;\n",
       "    }\n",
       "\n",
       "    .dataframe tbody tr th {\n",
       "        vertical-align: top;\n",
       "    }\n",
       "\n",
       "    .dataframe thead th {\n",
       "        text-align: right;\n",
       "    }\n",
       "</style>\n",
       "<table border=\"1\" class=\"dataframe\">\n",
       "  <thead>\n",
       "    <tr style=\"text-align: right;\">\n",
       "      <th></th>\n",
       "      <th>store_nbr</th>\n",
       "      <th>city</th>\n",
       "      <th>state</th>\n",
       "      <th>type</th>\n",
       "      <th>cluster</th>\n",
       "    </tr>\n",
       "  </thead>\n",
       "  <tbody>\n",
       "    <tr>\n",
       "      <th>0</th>\n",
       "      <td>1</td>\n",
       "      <td>Quito</td>\n",
       "      <td>Pichincha</td>\n",
       "      <td>D</td>\n",
       "      <td>13</td>\n",
       "    </tr>\n",
       "    <tr>\n",
       "      <th>1</th>\n",
       "      <td>2</td>\n",
       "      <td>Quito</td>\n",
       "      <td>Pichincha</td>\n",
       "      <td>D</td>\n",
       "      <td>13</td>\n",
       "    </tr>\n",
       "    <tr>\n",
       "      <th>2</th>\n",
       "      <td>3</td>\n",
       "      <td>Quito</td>\n",
       "      <td>Pichincha</td>\n",
       "      <td>D</td>\n",
       "      <td>8</td>\n",
       "    </tr>\n",
       "    <tr>\n",
       "      <th>3</th>\n",
       "      <td>4</td>\n",
       "      <td>Quito</td>\n",
       "      <td>Pichincha</td>\n",
       "      <td>D</td>\n",
       "      <td>9</td>\n",
       "    </tr>\n",
       "    <tr>\n",
       "      <th>4</th>\n",
       "      <td>5</td>\n",
       "      <td>Santo Domingo</td>\n",
       "      <td>Santo Domingo de los Tsachilas</td>\n",
       "      <td>D</td>\n",
       "      <td>4</td>\n",
       "    </tr>\n",
       "  </tbody>\n",
       "</table>\n",
       "</div>"
      ],
      "text/plain": [
       "   store_nbr           city                           state type  cluster\n",
       "0          1          Quito                       Pichincha    D       13\n",
       "1          2          Quito                       Pichincha    D       13\n",
       "2          3          Quito                       Pichincha    D        8\n",
       "3          4          Quito                       Pichincha    D        9\n",
       "4          5  Santo Domingo  Santo Domingo de los Tsachilas    D        4"
      ]
     },
     "execution_count": 18,
     "metadata": {},
     "output_type": "execute_result"
    }
   ],
   "source": [
    "df_store.head()"
   ]
  },
  {
   "cell_type": "markdown",
   "id": "f552e90d",
   "metadata": {
    "papermill": {
     "duration": 0.030392,
     "end_time": "2024-01-19T11:14:58.726561",
     "exception": false,
     "start_time": "2024-01-19T11:14:58.696169",
     "status": "completed"
    },
    "tags": []
   },
   "source": [
    "### Go through df_trans\n",
    "---\n"
   ]
  },
  {
   "cell_type": "code",
   "execution_count": 19,
   "id": "d735b7e0",
   "metadata": {
    "execution": {
     "iopub.execute_input": "2024-01-19T11:14:58.789531Z",
     "iopub.status.busy": "2024-01-19T11:14:58.789132Z",
     "iopub.status.idle": "2024-01-19T11:14:58.799627Z",
     "shell.execute_reply": "2024-01-19T11:14:58.798484Z"
    },
    "papermill": {
     "duration": 0.044595,
     "end_time": "2024-01-19T11:14:58.801783",
     "exception": false,
     "start_time": "2024-01-19T11:14:58.757188",
     "status": "completed"
    },
    "tags": []
   },
   "outputs": [
    {
     "data": {
      "text/html": [
       "<div>\n",
       "<style scoped>\n",
       "    .dataframe tbody tr th:only-of-type {\n",
       "        vertical-align: middle;\n",
       "    }\n",
       "\n",
       "    .dataframe tbody tr th {\n",
       "        vertical-align: top;\n",
       "    }\n",
       "\n",
       "    .dataframe thead th {\n",
       "        text-align: right;\n",
       "    }\n",
       "</style>\n",
       "<table border=\"1\" class=\"dataframe\">\n",
       "  <thead>\n",
       "    <tr style=\"text-align: right;\">\n",
       "      <th></th>\n",
       "      <th>date</th>\n",
       "      <th>store_nbr</th>\n",
       "      <th>transactions</th>\n",
       "    </tr>\n",
       "  </thead>\n",
       "  <tbody>\n",
       "    <tr>\n",
       "      <th>0</th>\n",
       "      <td>2013-01-01</td>\n",
       "      <td>25</td>\n",
       "      <td>770</td>\n",
       "    </tr>\n",
       "    <tr>\n",
       "      <th>1</th>\n",
       "      <td>2013-01-02</td>\n",
       "      <td>1</td>\n",
       "      <td>2111</td>\n",
       "    </tr>\n",
       "    <tr>\n",
       "      <th>2</th>\n",
       "      <td>2013-01-02</td>\n",
       "      <td>2</td>\n",
       "      <td>2358</td>\n",
       "    </tr>\n",
       "    <tr>\n",
       "      <th>3</th>\n",
       "      <td>2013-01-02</td>\n",
       "      <td>3</td>\n",
       "      <td>3487</td>\n",
       "    </tr>\n",
       "    <tr>\n",
       "      <th>4</th>\n",
       "      <td>2013-01-02</td>\n",
       "      <td>4</td>\n",
       "      <td>1922</td>\n",
       "    </tr>\n",
       "  </tbody>\n",
       "</table>\n",
       "</div>"
      ],
      "text/plain": [
       "         date  store_nbr  transactions\n",
       "0  2013-01-01         25           770\n",
       "1  2013-01-02          1          2111\n",
       "2  2013-01-02          2          2358\n",
       "3  2013-01-02          3          3487\n",
       "4  2013-01-02          4          1922"
      ]
     },
     "execution_count": 19,
     "metadata": {},
     "output_type": "execute_result"
    }
   ],
   "source": [
    "df_trans.head()"
   ]
  },
  {
   "cell_type": "markdown",
   "id": "5ba91307",
   "metadata": {
    "papermill": {
     "duration": 0.030515,
     "end_time": "2024-01-19T11:14:58.863155",
     "exception": false,
     "start_time": "2024-01-19T11:14:58.832640",
     "status": "completed"
    },
    "tags": []
   },
   "source": [
    "### Go through df_oil\n",
    "---\n",
    "- Daily oil price. Includes values during both the train and test data timeframes. (Ecuador is an oil-dependent country and it's economical health is highly vulnerable to shocks in oil prices.)"
   ]
  },
  {
   "cell_type": "code",
   "execution_count": 20,
   "id": "6f25945c",
   "metadata": {
    "execution": {
     "iopub.execute_input": "2024-01-19T11:14:58.926398Z",
     "iopub.status.busy": "2024-01-19T11:14:58.925944Z",
     "iopub.status.idle": "2024-01-19T11:14:58.938694Z",
     "shell.execute_reply": "2024-01-19T11:14:58.937712Z"
    },
    "papermill": {
     "duration": 0.046722,
     "end_time": "2024-01-19T11:14:58.940776",
     "exception": false,
     "start_time": "2024-01-19T11:14:58.894054",
     "status": "completed"
    },
    "tags": []
   },
   "outputs": [
    {
     "name": "stdout",
     "output_type": "stream",
     "text": [
      "<class 'pandas.core.frame.DataFrame'>\n",
      "RangeIndex: 1218 entries, 0 to 1217\n",
      "Data columns (total 2 columns):\n",
      " #   Column      Non-Null Count  Dtype  \n",
      "---  ------      --------------  -----  \n",
      " 0   date        1218 non-null   object \n",
      " 1   dcoilwtico  1175 non-null   float64\n",
      "dtypes: float64(1), object(1)\n",
      "memory usage: 19.2+ KB\n"
     ]
    }
   ],
   "source": [
    "df_oil.info()"
   ]
  },
  {
   "cell_type": "code",
   "execution_count": 21,
   "id": "b618eb18",
   "metadata": {
    "execution": {
     "iopub.execute_input": "2024-01-19T11:14:59.004232Z",
     "iopub.status.busy": "2024-01-19T11:14:59.003844Z",
     "iopub.status.idle": "2024-01-19T11:14:59.011278Z",
     "shell.execute_reply": "2024-01-19T11:14:59.010006Z"
    },
    "papermill": {
     "duration": 0.041869,
     "end_time": "2024-01-19T11:14:59.013485",
     "exception": false,
     "start_time": "2024-01-19T11:14:58.971616",
     "status": "completed"
    },
    "tags": []
   },
   "outputs": [],
   "source": [
    "df_oil = df_oil.set_index('date')\n",
    "# convert date index to datetime datatype\n",
    "df_oil.index = pd.to_datetime(df_oil.index)"
   ]
  },
  {
   "cell_type": "code",
   "execution_count": 22,
   "id": "10238ae2",
   "metadata": {
    "execution": {
     "iopub.execute_input": "2024-01-19T11:14:59.078309Z",
     "iopub.status.busy": "2024-01-19T11:14:59.077732Z",
     "iopub.status.idle": "2024-01-19T11:14:59.089810Z",
     "shell.execute_reply": "2024-01-19T11:14:59.088971Z"
    },
    "papermill": {
     "duration": 0.047661,
     "end_time": "2024-01-19T11:14:59.091970",
     "exception": false,
     "start_time": "2024-01-19T11:14:59.044309",
     "status": "completed"
    },
    "tags": []
   },
   "outputs": [],
   "source": [
    "# group as monthly\n",
    "df_oil_M = df_oil.resample('M').mean()"
   ]
  },
  {
   "cell_type": "code",
   "execution_count": 23,
   "id": "f5b7e475",
   "metadata": {
    "execution": {
     "iopub.execute_input": "2024-01-19T11:14:59.155726Z",
     "iopub.status.busy": "2024-01-19T11:14:59.155308Z",
     "iopub.status.idle": "2024-01-19T11:14:59.532247Z",
     "shell.execute_reply": "2024-01-19T11:14:59.531068Z"
    },
    "papermill": {
     "duration": 0.411529,
     "end_time": "2024-01-19T11:14:59.534564",
     "exception": false,
     "start_time": "2024-01-19T11:14:59.123035",
     "status": "completed"
    },
    "tags": []
   },
   "outputs": [
    {
     "data": {
      "text/plain": [
       "<Axes: xlabel='date', ylabel='dcoilwtico'>"
      ]
     },
     "execution_count": 23,
     "metadata": {},
     "output_type": "execute_result"
    },
    {
     "data": {
      "image/png": "[encoded data removed]",
      "text/plain": [
       "<Figure size 640x480 with 1 Axes>"
      ]
     },
     "metadata": {},
     "output_type": "display_data"
    }
   ],
   "source": [
    "sns.lineplot(data=df_oil_M, x='date', y='dcoilwtico')"
   ]
  },
  {
   "cell_type": "markdown",
   "id": "9bb67d86",
   "metadata": {
    "papermill": {
     "duration": 0.03189,
     "end_time": "2024-01-19T11:14:59.598293",
     "exception": false,
     "start_time": "2024-01-19T11:14:59.566403",
     "status": "completed"
    },
    "tags": []
   },
   "source": [
    "# Data Preprocessing"
   ]
  },
  {
   "cell_type": "markdown",
   "id": "fdd62702",
   "metadata": {
    "papermill": {
     "duration": 0.031149,
     "end_time": "2024-01-19T11:14:59.660985",
     "exception": false,
     "start_time": "2024-01-19T11:14:59.629836",
     "status": "completed"
    },
    "tags": []
   },
   "source": [
    "### Clean/Combine df_train, df_test"
   ]
  },
  {
   "cell_type": "code",
   "execution_count": 24,
   "id": "a406773b",
   "metadata": {
    "execution": {
     "iopub.execute_input": "2024-01-19T11:14:59.726152Z",
     "iopub.status.busy": "2024-01-19T11:14:59.725719Z",
     "iopub.status.idle": "2024-01-19T11:14:59.812657Z",
     "shell.execute_reply": "2024-01-19T11:14:59.811399Z"
    },
    "papermill": {
     "duration": 0.1232,
     "end_time": "2024-01-19T11:14:59.815653",
     "exception": false,
     "start_time": "2024-01-19T11:14:59.692453",
     "status": "completed"
    },
    "tags": []
   },
   "outputs": [],
   "source": [
    "#df_train = df_train.set_index(['date'])\n",
    "# convert date index to datetime datatype\n",
    "df_train.index = pd.to_datetime(df_train.index)\n",
    "\n",
    "df_test = df_test.set_index(['date'])\n",
    "# convert date index to datetime datatype\n",
    "df_test.index = pd.to_datetime(df_test.index)"
   ]
  },
  {
   "cell_type": "code",
   "execution_count": 25,
   "id": "a744ef55",
   "metadata": {
    "execution": {
     "iopub.execute_input": "2024-01-19T11:14:59.880765Z",
     "iopub.status.busy": "2024-01-19T11:14:59.880112Z",
     "iopub.status.idle": "2024-01-19T11:14:59.888613Z",
     "shell.execute_reply": "2024-01-19T11:14:59.887584Z"
    },
    "papermill": {
     "duration": 0.043544,
     "end_time": "2024-01-19T11:14:59.890867",
     "exception": false,
     "start_time": "2024-01-19T11:14:59.847323",
     "status": "completed"
    },
    "tags": []
   },
   "outputs": [],
   "source": [
    "df_test['test'] = 1\n",
    "df_train['test'] = 0"
   ]
  },
  {
   "cell_type": "code",
   "execution_count": 26,
   "id": "c1608df6",
   "metadata": {
    "execution": {
     "iopub.execute_input": "2024-01-19T11:14:59.957169Z",
     "iopub.status.busy": "2024-01-19T11:14:59.956757Z",
     "iopub.status.idle": "2024-01-19T11:15:00.068286Z",
     "shell.execute_reply": "2024-01-19T11:15:00.067183Z"
    },
    "papermill": {
     "duration": 0.147733,
     "end_time": "2024-01-19T11:15:00.071127",
     "exception": false,
     "start_time": "2024-01-19T11:14:59.923394",
     "status": "completed"
    },
    "tags": []
   },
   "outputs": [],
   "source": [
    "# combine train and test to do feture engineering later\n",
    "df_all = pd.concat([df_train, df_test])"
   ]
  },
  {
   "cell_type": "markdown",
   "id": "c498b96b",
   "metadata": {
    "papermill": {
     "duration": 0.031068,
     "end_time": "2024-01-19T11:15:00.137704",
     "exception": false,
     "start_time": "2024-01-19T11:15:00.106636",
     "status": "completed"
    },
    "tags": []
   },
   "source": [
    "### df_holiday"
   ]
  },
  {
   "cell_type": "code",
   "execution_count": 27,
   "id": "9e158097",
   "metadata": {
    "execution": {
     "iopub.execute_input": "2024-01-19T11:15:00.203951Z",
     "iopub.status.busy": "2024-01-19T11:15:00.203572Z",
     "iopub.status.idle": "2024-01-19T11:15:00.211438Z",
     "shell.execute_reply": "2024-01-19T11:15:00.210694Z"
    },
    "papermill": {
     "duration": 0.044759,
     "end_time": "2024-01-19T11:15:00.213691",
     "exception": false,
     "start_time": "2024-01-19T11:15:00.168932",
     "status": "completed"
    },
    "tags": []
   },
   "outputs": [
    {
     "data": {
      "text/plain": [
       "date\n",
       "2012-03-02       Manta\n",
       "2012-04-01    Cotopaxi\n",
       "2012-04-12      Cuenca\n",
       "2012-04-14    Libertad\n",
       "2012-04-21    Riobamba\n",
       "                ...   \n",
       "2017-12-22     Ecuador\n",
       "2017-12-23     Ecuador\n",
       "2017-12-24     Ecuador\n",
       "2017-12-25     Ecuador\n",
       "2017-12-26     Ecuador\n",
       "Name: locale_name, Length: 338, dtype: object"
      ]
     },
     "execution_count": 27,
     "metadata": {},
     "output_type": "execute_result"
    }
   ],
   "source": [
    "df_holiday['locale_name']\n"
   ]
  },
  {
   "cell_type": "code",
   "execution_count": 28,
   "id": "96be1d6c",
   "metadata": {
    "execution": {
     "iopub.execute_input": "2024-01-19T11:15:00.278986Z",
     "iopub.status.busy": "2024-01-19T11:15:00.278038Z",
     "iopub.status.idle": "2024-01-19T11:15:00.284297Z",
     "shell.execute_reply": "2024-01-19T11:15:00.283372Z"
    },
    "papermill": {
     "duration": 0.041327,
     "end_time": "2024-01-19T11:15:00.286589",
     "exception": false,
     "start_time": "2024-01-19T11:15:00.245262",
     "status": "completed"
    },
    "tags": []
   },
   "outputs": [
    {
     "data": {
      "text/plain": [
       "Index(['type', 'locale', 'locale_name', 'description', 'transferred'], dtype='object')"
      ]
     },
     "execution_count": 28,
     "metadata": {},
     "output_type": "execute_result"
    }
   ],
   "source": [
    "df_holiday.columns"
   ]
  },
  {
   "cell_type": "code",
   "execution_count": 29,
   "id": "656c9465",
   "metadata": {
    "execution": {
     "iopub.execute_input": "2024-01-19T11:15:00.354569Z",
     "iopub.status.busy": "2024-01-19T11:15:00.353898Z",
     "iopub.status.idle": "2024-01-19T11:15:00.370577Z",
     "shell.execute_reply": "2024-01-19T11:15:00.369633Z"
    },
    "papermill": {
     "duration": 0.053678,
     "end_time": "2024-01-19T11:15:00.372873",
     "exception": false,
     "start_time": "2024-01-19T11:15:00.319195",
     "status": "completed"
    },
    "tags": []
   },
   "outputs": [
    {
     "data": {
      "text/html": [
       "<div>\n",
       "<style scoped>\n",
       "    .dataframe tbody tr th:only-of-type {\n",
       "        vertical-align: middle;\n",
       "    }\n",
       "\n",
       "    .dataframe tbody tr th {\n",
       "        vertical-align: top;\n",
       "    }\n",
       "\n",
       "    .dataframe thead th {\n",
       "        text-align: right;\n",
       "    }\n",
       "</style>\n",
       "<table border=\"1\" class=\"dataframe\">\n",
       "  <thead>\n",
       "    <tr style=\"text-align: right;\">\n",
       "      <th></th>\n",
       "      <th>locale</th>\n",
       "      <th>locale_name</th>\n",
       "      <th>holiday</th>\n",
       "    </tr>\n",
       "    <tr>\n",
       "      <th>date</th>\n",
       "      <th></th>\n",
       "      <th></th>\n",
       "      <th></th>\n",
       "    </tr>\n",
       "  </thead>\n",
       "  <tbody>\n",
       "    <tr>\n",
       "      <th>2012-03-02</th>\n",
       "      <td>Local</td>\n",
       "      <td>Manta</td>\n",
       "      <td>1</td>\n",
       "    </tr>\n",
       "    <tr>\n",
       "      <th>2012-04-01</th>\n",
       "      <td>Regional</td>\n",
       "      <td>Cotopaxi</td>\n",
       "      <td>1</td>\n",
       "    </tr>\n",
       "    <tr>\n",
       "      <th>2012-04-12</th>\n",
       "      <td>Local</td>\n",
       "      <td>Cuenca</td>\n",
       "      <td>1</td>\n",
       "    </tr>\n",
       "    <tr>\n",
       "      <th>2012-04-14</th>\n",
       "      <td>Local</td>\n",
       "      <td>Libertad</td>\n",
       "      <td>1</td>\n",
       "    </tr>\n",
       "    <tr>\n",
       "      <th>2012-04-21</th>\n",
       "      <td>Local</td>\n",
       "      <td>Riobamba</td>\n",
       "      <td>1</td>\n",
       "    </tr>\n",
       "    <tr>\n",
       "      <th>...</th>\n",
       "      <td>...</td>\n",
       "      <td>...</td>\n",
       "      <td>...</td>\n",
       "    </tr>\n",
       "    <tr>\n",
       "      <th>2017-12-22</th>\n",
       "      <td>National</td>\n",
       "      <td>Ecuador</td>\n",
       "      <td>1</td>\n",
       "    </tr>\n",
       "    <tr>\n",
       "      <th>2017-12-23</th>\n",
       "      <td>National</td>\n",
       "      <td>Ecuador</td>\n",
       "      <td>1</td>\n",
       "    </tr>\n",
       "    <tr>\n",
       "      <th>2017-12-24</th>\n",
       "      <td>National</td>\n",
       "      <td>Ecuador</td>\n",
       "      <td>1</td>\n",
       "    </tr>\n",
       "    <tr>\n",
       "      <th>2017-12-25</th>\n",
       "      <td>National</td>\n",
       "      <td>Ecuador</td>\n",
       "      <td>1</td>\n",
       "    </tr>\n",
       "    <tr>\n",
       "      <th>2017-12-26</th>\n",
       "      <td>National</td>\n",
       "      <td>Ecuador</td>\n",
       "      <td>1</td>\n",
       "    </tr>\n",
       "  </tbody>\n",
       "</table>\n",
       "<p>338 rows × 3 columns</p>\n",
       "</div>"
      ],
      "text/plain": [
       "              locale locale_name  holiday\n",
       "date                                     \n",
       "2012-03-02     Local       Manta        1\n",
       "2012-04-01  Regional    Cotopaxi        1\n",
       "2012-04-12     Local      Cuenca        1\n",
       "2012-04-14     Local    Libertad        1\n",
       "2012-04-21     Local    Riobamba        1\n",
       "...              ...         ...      ...\n",
       "2017-12-22  National     Ecuador        1\n",
       "2017-12-23  National     Ecuador        1\n",
       "2017-12-24  National     Ecuador        1\n",
       "2017-12-25  National     Ecuador        1\n",
       "2017-12-26  National     Ecuador        1\n",
       "\n",
       "[338 rows x 3 columns]"
      ]
     },
     "execution_count": 29,
     "metadata": {},
     "output_type": "execute_result"
    }
   ],
   "source": [
    "# keep the date that actually holiday\n",
    "df_holiday = df_holiday[df_holiday['transferred']!=True]\n",
    "# rename 'transferred'\n",
    "df_holiday = df_holiday.rename(columns={'transferred':'holiday'})\n",
    "df_holiday['holiday'] = 1\n",
    "# drop some columns not useful later\n",
    "df_holiday = df_holiday.drop(['type', 'description'], axis=1)\n",
    "df_holiday"
   ]
  },
  {
   "cell_type": "code",
   "execution_count": 30,
   "id": "b9cd0b04",
   "metadata": {
    "execution": {
     "iopub.execute_input": "2024-01-19T11:15:00.443303Z",
     "iopub.status.busy": "2024-01-19T11:15:00.442612Z",
     "iopub.status.idle": "2024-01-19T11:15:01.246905Z",
     "shell.execute_reply": "2024-01-19T11:15:01.245793Z"
    },
    "papermill": {
     "duration": 0.8437,
     "end_time": "2024-01-19T11:15:01.249083",
     "exception": false,
     "start_time": "2024-01-19T11:15:00.405383",
     "status": "completed"
    },
    "tags": []
   },
   "outputs": [
    {
     "data": {
      "text/html": [
       "<div>\n",
       "<style scoped>\n",
       "    .dataframe tbody tr th:only-of-type {\n",
       "        vertical-align: middle;\n",
       "    }\n",
       "\n",
       "    .dataframe tbody tr th {\n",
       "        vertical-align: top;\n",
       "    }\n",
       "\n",
       "    .dataframe thead th {\n",
       "        text-align: right;\n",
       "    }\n",
       "</style>\n",
       "<table border=\"1\" class=\"dataframe\">\n",
       "  <thead>\n",
       "    <tr style=\"text-align: right;\">\n",
       "      <th></th>\n",
       "      <th>id</th>\n",
       "      <th>store_nbr</th>\n",
       "      <th>family</th>\n",
       "      <th>sales</th>\n",
       "      <th>onpromotion</th>\n",
       "      <th>test</th>\n",
       "      <th>locale</th>\n",
       "      <th>locale_name</th>\n",
       "      <th>holiday</th>\n",
       "    </tr>\n",
       "    <tr>\n",
       "      <th>date</th>\n",
       "      <th></th>\n",
       "      <th></th>\n",
       "      <th></th>\n",
       "      <th></th>\n",
       "      <th></th>\n",
       "      <th></th>\n",
       "      <th></th>\n",
       "      <th></th>\n",
       "      <th></th>\n",
       "    </tr>\n",
       "  </thead>\n",
       "  <tbody>\n",
       "    <tr>\n",
       "      <th>2012-03-02</th>\n",
       "      <td>NaN</td>\n",
       "      <td>NaN</td>\n",
       "      <td>NaN</td>\n",
       "      <td>NaN</td>\n",
       "      <td>NaN</td>\n",
       "      <td>NaN</td>\n",
       "      <td>Local</td>\n",
       "      <td>Manta</td>\n",
       "      <td>1.0</td>\n",
       "    </tr>\n",
       "    <tr>\n",
       "      <th>2012-04-01</th>\n",
       "      <td>NaN</td>\n",
       "      <td>NaN</td>\n",
       "      <td>NaN</td>\n",
       "      <td>NaN</td>\n",
       "      <td>NaN</td>\n",
       "      <td>NaN</td>\n",
       "      <td>Regional</td>\n",
       "      <td>Cotopaxi</td>\n",
       "      <td>1.0</td>\n",
       "    </tr>\n",
       "    <tr>\n",
       "      <th>2012-04-12</th>\n",
       "      <td>NaN</td>\n",
       "      <td>NaN</td>\n",
       "      <td>NaN</td>\n",
       "      <td>NaN</td>\n",
       "      <td>NaN</td>\n",
       "      <td>NaN</td>\n",
       "      <td>Local</td>\n",
       "      <td>Cuenca</td>\n",
       "      <td>1.0</td>\n",
       "    </tr>\n",
       "    <tr>\n",
       "      <th>2012-04-14</th>\n",
       "      <td>NaN</td>\n",
       "      <td>NaN</td>\n",
       "      <td>NaN</td>\n",
       "      <td>NaN</td>\n",
       "      <td>NaN</td>\n",
       "      <td>NaN</td>\n",
       "      <td>Local</td>\n",
       "      <td>Libertad</td>\n",
       "      <td>1.0</td>\n",
       "    </tr>\n",
       "    <tr>\n",
       "      <th>2012-04-21</th>\n",
       "      <td>NaN</td>\n",
       "      <td>NaN</td>\n",
       "      <td>NaN</td>\n",
       "      <td>NaN</td>\n",
       "      <td>NaN</td>\n",
       "      <td>NaN</td>\n",
       "      <td>Local</td>\n",
       "      <td>Riobamba</td>\n",
       "      <td>1.0</td>\n",
       "    </tr>\n",
       "    <tr>\n",
       "      <th>...</th>\n",
       "      <td>...</td>\n",
       "      <td>...</td>\n",
       "      <td>...</td>\n",
       "      <td>...</td>\n",
       "      <td>...</td>\n",
       "      <td>...</td>\n",
       "      <td>...</td>\n",
       "      <td>...</td>\n",
       "      <td>...</td>\n",
       "    </tr>\n",
       "    <tr>\n",
       "      <th>2017-12-22</th>\n",
       "      <td>NaN</td>\n",
       "      <td>NaN</td>\n",
       "      <td>NaN</td>\n",
       "      <td>NaN</td>\n",
       "      <td>NaN</td>\n",
       "      <td>NaN</td>\n",
       "      <td>National</td>\n",
       "      <td>Ecuador</td>\n",
       "      <td>1.0</td>\n",
       "    </tr>\n",
       "    <tr>\n",
       "      <th>2017-12-23</th>\n",
       "      <td>NaN</td>\n",
       "      <td>NaN</td>\n",
       "      <td>NaN</td>\n",
       "      <td>NaN</td>\n",
       "      <td>NaN</td>\n",
       "      <td>NaN</td>\n",
       "      <td>National</td>\n",
       "      <td>Ecuador</td>\n",
       "      <td>1.0</td>\n",
       "    </tr>\n",
       "    <tr>\n",
       "      <th>2017-12-24</th>\n",
       "      <td>NaN</td>\n",
       "      <td>NaN</td>\n",
       "      <td>NaN</td>\n",
       "      <td>NaN</td>\n",
       "      <td>NaN</td>\n",
       "      <td>NaN</td>\n",
       "      <td>National</td>\n",
       "      <td>Ecuador</td>\n",
       "      <td>1.0</td>\n",
       "    </tr>\n",
       "    <tr>\n",
       "      <th>2017-12-25</th>\n",
       "      <td>NaN</td>\n",
       "      <td>NaN</td>\n",
       "      <td>NaN</td>\n",
       "      <td>NaN</td>\n",
       "      <td>NaN</td>\n",
       "      <td>NaN</td>\n",
       "      <td>National</td>\n",
       "      <td>Ecuador</td>\n",
       "      <td>1.0</td>\n",
       "    </tr>\n",
       "    <tr>\n",
       "      <th>2017-12-26</th>\n",
       "      <td>NaN</td>\n",
       "      <td>NaN</td>\n",
       "      <td>NaN</td>\n",
       "      <td>NaN</td>\n",
       "      <td>NaN</td>\n",
       "      <td>NaN</td>\n",
       "      <td>National</td>\n",
       "      <td>Ecuador</td>\n",
       "      <td>1.0</td>\n",
       "    </tr>\n",
       "  </tbody>\n",
       "</table>\n",
       "<p>3082924 rows × 9 columns</p>\n",
       "</div>"
      ],
      "text/plain": [
       "            id  store_nbr family  sales  onpromotion  test    locale  \\\n",
       "date                                                                   \n",
       "2012-03-02 NaN        NaN    NaN    NaN          NaN   NaN     Local   \n",
       "2012-04-01 NaN        NaN    NaN    NaN          NaN   NaN  Regional   \n",
       "2012-04-12 NaN        NaN    NaN    NaN          NaN   NaN     Local   \n",
       "2012-04-14 NaN        NaN    NaN    NaN          NaN   NaN     Local   \n",
       "2012-04-21 NaN        NaN    NaN    NaN          NaN   NaN     Local   \n",
       "...         ..        ...    ...    ...          ...   ...       ...   \n",
       "2017-12-22 NaN        NaN    NaN    NaN          NaN   NaN  National   \n",
       "2017-12-23 NaN        NaN    NaN    NaN          NaN   NaN  National   \n",
       "2017-12-24 NaN        NaN    NaN    NaN          NaN   NaN  National   \n",
       "2017-12-25 NaN        NaN    NaN    NaN          NaN   NaN  National   \n",
       "2017-12-26 NaN        NaN    NaN    NaN          NaN   NaN  National   \n",
       "\n",
       "           locale_name  holiday  \n",
       "date                             \n",
       "2012-03-02       Manta      1.0  \n",
       "2012-04-01    Cotopaxi      1.0  \n",
       "2012-04-12      Cuenca      1.0  \n",
       "2012-04-14    Libertad      1.0  \n",
       "2012-04-21    Riobamba      1.0  \n",
       "...                ...      ...  \n",
       "2017-12-22     Ecuador      1.0  \n",
       "2017-12-23     Ecuador      1.0  \n",
       "2017-12-24     Ecuador      1.0  \n",
       "2017-12-25     Ecuador      1.0  \n",
       "2017-12-26     Ecuador      1.0  \n",
       "\n",
       "[3082924 rows x 9 columns]"
      ]
     },
     "execution_count": 30,
     "metadata": {},
     "output_type": "execute_result"
    }
   ],
   "source": [
    "merged_df = df_all.join(df_holiday, how='outer')\n",
    "merged_df"
   ]
  },
  {
   "cell_type": "code",
   "execution_count": 31,
   "id": "36b08185",
   "metadata": {
    "execution": {
     "iopub.execute_input": "2024-01-19T11:15:01.316663Z",
     "iopub.status.busy": "2024-01-19T11:15:01.316241Z",
     "iopub.status.idle": "2024-01-19T11:15:01.573458Z",
     "shell.execute_reply": "2024-01-19T11:15:01.572257Z"
    },
    "papermill": {
     "duration": 0.294355,
     "end_time": "2024-01-19T11:15:01.576292",
     "exception": false,
     "start_time": "2024-01-19T11:15:01.281937",
     "status": "completed"
    },
    "tags": []
   },
   "outputs": [],
   "source": [
    "merged_df = merged_df.loc[merged_df['id'].notnull()]"
   ]
  },
  {
   "cell_type": "code",
   "execution_count": 32,
   "id": "7ef0b49e",
   "metadata": {
    "execution": {
     "iopub.execute_input": "2024-01-19T11:15:01.643310Z",
     "iopub.status.busy": "2024-01-19T11:15:01.642865Z",
     "iopub.status.idle": "2024-01-19T11:15:02.180445Z",
     "shell.execute_reply": "2024-01-19T11:15:02.179338Z"
    },
    "papermill": {
     "duration": 0.574203,
     "end_time": "2024-01-19T11:15:02.183087",
     "exception": false,
     "start_time": "2024-01-19T11:15:01.608884",
     "status": "completed"
    },
    "tags": []
   },
   "outputs": [],
   "source": [
    "merged_df.loc[:, 'locale'] = merged_df['locale'].fillna('')\n",
    "merged_df.loc[:, 'locale_name'] = merged_df['locale_name'].fillna('')"
   ]
  },
  {
   "cell_type": "code",
   "execution_count": 33,
   "id": "1629beba",
   "metadata": {
    "execution": {
     "iopub.execute_input": "2024-01-19T11:15:02.252512Z",
     "iopub.status.busy": "2024-01-19T11:15:02.252121Z",
     "iopub.status.idle": "2024-01-19T11:15:05.160687Z",
     "shell.execute_reply": "2024-01-19T11:15:05.159655Z"
    },
    "papermill": {
     "duration": 2.945622,
     "end_time": "2024-01-19T11:15:05.163709",
     "exception": false,
     "start_time": "2024-01-19T11:15:02.218087",
     "status": "completed"
    },
    "tags": []
   },
   "outputs": [
    {
     "data": {
      "text/html": [
       "<div>\n",
       "<style scoped>\n",
       "    .dataframe tbody tr th:only-of-type {\n",
       "        vertical-align: middle;\n",
       "    }\n",
       "\n",
       "    .dataframe tbody tr th {\n",
       "        vertical-align: top;\n",
       "    }\n",
       "\n",
       "    .dataframe thead th {\n",
       "        text-align: right;\n",
       "    }\n",
       "</style>\n",
       "<table border=\"1\" class=\"dataframe\">\n",
       "  <thead>\n",
       "    <tr style=\"text-align: right;\">\n",
       "      <th></th>\n",
       "      <th>Total</th>\n",
       "      <th>Ratio</th>\n",
       "    </tr>\n",
       "  </thead>\n",
       "  <tbody>\n",
       "    <tr>\n",
       "      <th>holiday</th>\n",
       "      <td>2594592</td>\n",
       "      <td>0.841618</td>\n",
       "    </tr>\n",
       "    <tr>\n",
       "      <th>sales</th>\n",
       "      <td>28512</td>\n",
       "      <td>0.009249</td>\n",
       "    </tr>\n",
       "    <tr>\n",
       "      <th>id</th>\n",
       "      <td>0</td>\n",
       "      <td>0.000000</td>\n",
       "    </tr>\n",
       "    <tr>\n",
       "      <th>store_nbr</th>\n",
       "      <td>0</td>\n",
       "      <td>0.000000</td>\n",
       "    </tr>\n",
       "    <tr>\n",
       "      <th>family</th>\n",
       "      <td>0</td>\n",
       "      <td>0.000000</td>\n",
       "    </tr>\n",
       "    <tr>\n",
       "      <th>onpromotion</th>\n",
       "      <td>0</td>\n",
       "      <td>0.000000</td>\n",
       "    </tr>\n",
       "    <tr>\n",
       "      <th>test</th>\n",
       "      <td>0</td>\n",
       "      <td>0.000000</td>\n",
       "    </tr>\n",
       "    <tr>\n",
       "      <th>locale</th>\n",
       "      <td>0</td>\n",
       "      <td>0.000000</td>\n",
       "    </tr>\n",
       "    <tr>\n",
       "      <th>locale_name</th>\n",
       "      <td>0</td>\n",
       "      <td>0.000000</td>\n",
       "    </tr>\n",
       "  </tbody>\n",
       "</table>\n",
       "</div>"
      ],
      "text/plain": [
       "               Total     Ratio\n",
       "holiday      2594592  0.841618\n",
       "sales          28512  0.009249\n",
       "id                 0  0.000000\n",
       "store_nbr          0  0.000000\n",
       "family             0  0.000000\n",
       "onpromotion        0  0.000000\n",
       "test               0  0.000000\n",
       "locale             0  0.000000\n",
       "locale_name        0  0.000000"
      ]
     },
     "execution_count": 33,
     "metadata": {},
     "output_type": "execute_result"
    }
   ],
   "source": [
    "# check missing data\n",
    "null_count = merged_df.isnull().sum().sort_values(ascending=False)\n",
    "ratio = (merged_df.isnull().sum()/merged_df.isnull().count()).sort_values(ascending=False)\n",
    "missing_columns_count = pd.concat([null_count, ratio], axis=1, keys=['Total', 'Ratio'])\n",
    "missing_columns_count.head(40)"
   ]
  },
  {
   "cell_type": "code",
   "execution_count": 34,
   "id": "805c370b",
   "metadata": {
    "execution": {
     "iopub.execute_input": "2024-01-19T11:15:05.234044Z",
     "iopub.status.busy": "2024-01-19T11:15:05.233567Z",
     "iopub.status.idle": "2024-01-19T11:15:05.389980Z",
     "shell.execute_reply": "2024-01-19T11:15:05.388977Z"
    },
    "papermill": {
     "duration": 0.195752,
     "end_time": "2024-01-19T11:15:05.392664",
     "exception": false,
     "start_time": "2024-01-19T11:15:05.196912",
     "status": "completed"
    },
    "tags": []
   },
   "outputs": [],
   "source": [
    "merged_df.loc[:, 'store_nbr'] = merged_df['store_nbr'].astype('int')\n",
    "merged_df.loc[:, 'onpromotion'] = merged_df['onpromotion'].astype('int')"
   ]
  },
  {
   "cell_type": "code",
   "execution_count": 35,
   "id": "fcee90ec",
   "metadata": {
    "execution": {
     "iopub.execute_input": "2024-01-19T11:15:05.462887Z",
     "iopub.status.busy": "2024-01-19T11:15:05.462473Z",
     "iopub.status.idle": "2024-01-19T11:15:06.143355Z",
     "shell.execute_reply": "2024-01-19T11:15:06.142104Z"
    },
    "papermill": {
     "duration": 0.719009,
     "end_time": "2024-01-19T11:15:06.146211",
     "exception": false,
     "start_time": "2024-01-19T11:15:05.427202",
     "status": "completed"
    },
    "tags": []
   },
   "outputs": [],
   "source": [
    "# keep date column\n",
    "merged_df = merged_df.reset_index()"
   ]
  },
  {
   "cell_type": "code",
   "execution_count": 36,
   "id": "21e746a4",
   "metadata": {
    "execution": {
     "iopub.execute_input": "2024-01-19T11:15:06.214831Z",
     "iopub.status.busy": "2024-01-19T11:15:06.214404Z",
     "iopub.status.idle": "2024-01-19T11:15:06.244145Z",
     "shell.execute_reply": "2024-01-19T11:15:06.243085Z"
    },
    "papermill": {
     "duration": 0.066447,
     "end_time": "2024-01-19T11:15:06.246589",
     "exception": false,
     "start_time": "2024-01-19T11:15:06.180142",
     "status": "completed"
    },
    "tags": []
   },
   "outputs": [
    {
     "data": {
      "text/html": [
       "<div>\n",
       "<style scoped>\n",
       "    .dataframe tbody tr th:only-of-type {\n",
       "        vertical-align: middle;\n",
       "    }\n",
       "\n",
       "    .dataframe tbody tr th {\n",
       "        vertical-align: top;\n",
       "    }\n",
       "\n",
       "    .dataframe thead th {\n",
       "        text-align: right;\n",
       "    }\n",
       "</style>\n",
       "<table border=\"1\" class=\"dataframe\">\n",
       "  <thead>\n",
       "    <tr style=\"text-align: right;\">\n",
       "      <th></th>\n",
       "      <th>date</th>\n",
       "      <th>id</th>\n",
       "      <th>store_nbr</th>\n",
       "      <th>family</th>\n",
       "      <th>sales</th>\n",
       "      <th>onpromotion</th>\n",
       "      <th>test</th>\n",
       "      <th>locale</th>\n",
       "      <th>locale_name</th>\n",
       "      <th>holiday</th>\n",
       "    </tr>\n",
       "  </thead>\n",
       "  <tbody>\n",
       "    <tr>\n",
       "      <th>0</th>\n",
       "      <td>2013-01-01</td>\n",
       "      <td>0.0</td>\n",
       "      <td>1.0</td>\n",
       "      <td>AUTOMOTIVE</td>\n",
       "      <td>0.0</td>\n",
       "      <td>0.0</td>\n",
       "      <td>0.0</td>\n",
       "      <td>National</td>\n",
       "      <td>Ecuador</td>\n",
       "      <td>1.0</td>\n",
       "    </tr>\n",
       "    <tr>\n",
       "      <th>1</th>\n",
       "      <td>2013-01-01</td>\n",
       "      <td>1.0</td>\n",
       "      <td>1.0</td>\n",
       "      <td>BABY CARE</td>\n",
       "      <td>0.0</td>\n",
       "      <td>0.0</td>\n",
       "      <td>0.0</td>\n",
       "      <td>National</td>\n",
       "      <td>Ecuador</td>\n",
       "      <td>1.0</td>\n",
       "    </tr>\n",
       "    <tr>\n",
       "      <th>2</th>\n",
       "      <td>2013-01-01</td>\n",
       "      <td>2.0</td>\n",
       "      <td>1.0</td>\n",
       "      <td>BEAUTY</td>\n",
       "      <td>0.0</td>\n",
       "      <td>0.0</td>\n",
       "      <td>0.0</td>\n",
       "      <td>National</td>\n",
       "      <td>Ecuador</td>\n",
       "      <td>1.0</td>\n",
       "    </tr>\n",
       "    <tr>\n",
       "      <th>3</th>\n",
       "      <td>2013-01-01</td>\n",
       "      <td>3.0</td>\n",
       "      <td>1.0</td>\n",
       "      <td>BEVERAGES</td>\n",
       "      <td>0.0</td>\n",
       "      <td>0.0</td>\n",
       "      <td>0.0</td>\n",
       "      <td>National</td>\n",
       "      <td>Ecuador</td>\n",
       "      <td>1.0</td>\n",
       "    </tr>\n",
       "    <tr>\n",
       "      <th>4</th>\n",
       "      <td>2013-01-01</td>\n",
       "      <td>4.0</td>\n",
       "      <td>1.0</td>\n",
       "      <td>BOOKS</td>\n",
       "      <td>0.0</td>\n",
       "      <td>0.0</td>\n",
       "      <td>0.0</td>\n",
       "      <td>National</td>\n",
       "      <td>Ecuador</td>\n",
       "      <td>1.0</td>\n",
       "    </tr>\n",
       "    <tr>\n",
       "      <th>...</th>\n",
       "      <td>...</td>\n",
       "      <td>...</td>\n",
       "      <td>...</td>\n",
       "      <td>...</td>\n",
       "      <td>...</td>\n",
       "      <td>...</td>\n",
       "      <td>...</td>\n",
       "      <td>...</td>\n",
       "      <td>...</td>\n",
       "      <td>...</td>\n",
       "    </tr>\n",
       "    <tr>\n",
       "      <th>3082855</th>\n",
       "      <td>2017-08-31</td>\n",
       "      <td>3029395.0</td>\n",
       "      <td>9.0</td>\n",
       "      <td>POULTRY</td>\n",
       "      <td>NaN</td>\n",
       "      <td>1.0</td>\n",
       "      <td>1.0</td>\n",
       "      <td></td>\n",
       "      <td></td>\n",
       "      <td>NaN</td>\n",
       "    </tr>\n",
       "    <tr>\n",
       "      <th>3082856</th>\n",
       "      <td>2017-08-31</td>\n",
       "      <td>3029396.0</td>\n",
       "      <td>9.0</td>\n",
       "      <td>PREPARED FOODS</td>\n",
       "      <td>NaN</td>\n",
       "      <td>0.0</td>\n",
       "      <td>1.0</td>\n",
       "      <td></td>\n",
       "      <td></td>\n",
       "      <td>NaN</td>\n",
       "    </tr>\n",
       "    <tr>\n",
       "      <th>3082857</th>\n",
       "      <td>2017-08-31</td>\n",
       "      <td>3029397.0</td>\n",
       "      <td>9.0</td>\n",
       "      <td>PRODUCE</td>\n",
       "      <td>NaN</td>\n",
       "      <td>1.0</td>\n",
       "      <td>1.0</td>\n",
       "      <td></td>\n",
       "      <td></td>\n",
       "      <td>NaN</td>\n",
       "    </tr>\n",
       "    <tr>\n",
       "      <th>3082858</th>\n",
       "      <td>2017-08-31</td>\n",
       "      <td>3029398.0</td>\n",
       "      <td>9.0</td>\n",
       "      <td>SCHOOL AND OFFICE SUPPLIES</td>\n",
       "      <td>NaN</td>\n",
       "      <td>9.0</td>\n",
       "      <td>1.0</td>\n",
       "      <td></td>\n",
       "      <td></td>\n",
       "      <td>NaN</td>\n",
       "    </tr>\n",
       "    <tr>\n",
       "      <th>3082859</th>\n",
       "      <td>2017-08-31</td>\n",
       "      <td>3029399.0</td>\n",
       "      <td>9.0</td>\n",
       "      <td>SEAFOOD</td>\n",
       "      <td>NaN</td>\n",
       "      <td>0.0</td>\n",
       "      <td>1.0</td>\n",
       "      <td></td>\n",
       "      <td></td>\n",
       "      <td>NaN</td>\n",
       "    </tr>\n",
       "  </tbody>\n",
       "</table>\n",
       "<p>3082860 rows × 10 columns</p>\n",
       "</div>"
      ],
      "text/plain": [
       "              date         id  store_nbr                      family  sales  \\\n",
       "0       2013-01-01        0.0        1.0                  AUTOMOTIVE    0.0   \n",
       "1       2013-01-01        1.0        1.0                   BABY CARE    0.0   \n",
       "2       2013-01-01        2.0        1.0                      BEAUTY    0.0   \n",
       "3       2013-01-01        3.0        1.0                   BEVERAGES    0.0   \n",
       "4       2013-01-01        4.0        1.0                       BOOKS    0.0   \n",
       "...            ...        ...        ...                         ...    ...   \n",
       "3082855 2017-08-31  3029395.0        9.0                     POULTRY    NaN   \n",
       "3082856 2017-08-31  3029396.0        9.0              PREPARED FOODS    NaN   \n",
       "3082857 2017-08-31  3029397.0        9.0                     PRODUCE    NaN   \n",
       "3082858 2017-08-31  3029398.0        9.0  SCHOOL AND OFFICE SUPPLIES    NaN   \n",
       "3082859 2017-08-31  3029399.0        9.0                     SEAFOOD    NaN   \n",
       "\n",
       "         onpromotion  test    locale locale_name  holiday  \n",
       "0                0.0   0.0  National     Ecuador      1.0  \n",
       "1                0.0   0.0  National     Ecuador      1.0  \n",
       "2                0.0   0.0  National     Ecuador      1.0  \n",
       "3                0.0   0.0  National     Ecuador      1.0  \n",
       "4                0.0   0.0  National     Ecuador      1.0  \n",
       "...              ...   ...       ...         ...      ...  \n",
       "3082855          1.0   1.0                            NaN  \n",
       "3082856          0.0   1.0                            NaN  \n",
       "3082857          1.0   1.0                            NaN  \n",
       "3082858          9.0   1.0                            NaN  \n",
       "3082859          0.0   1.0                            NaN  \n",
       "\n",
       "[3082860 rows x 10 columns]"
      ]
     },
     "execution_count": 36,
     "metadata": {},
     "output_type": "execute_result"
    }
   ],
   "source": [
    "merged_df"
   ]
  },
  {
   "cell_type": "markdown",
   "id": "1157d23a",
   "metadata": {
    "papermill": {
     "duration": 0.033012,
     "end_time": "2024-01-19T11:15:06.313279",
     "exception": false,
     "start_time": "2024-01-19T11:15:06.280267",
     "status": "completed"
    },
    "tags": []
   },
   "source": [
    "### df_store, check holidays' city/state and stores' locale_name"
   ]
  },
  {
   "cell_type": "code",
   "execution_count": 37,
   "id": "d388eda2",
   "metadata": {
    "execution": {
     "iopub.execute_input": "2024-01-19T11:15:06.382386Z",
     "iopub.status.busy": "2024-01-19T11:15:06.381895Z",
     "iopub.status.idle": "2024-01-19T11:15:07.297968Z",
     "shell.execute_reply": "2024-01-19T11:15:07.296748Z"
    },
    "papermill": {
     "duration": 0.953795,
     "end_time": "2024-01-19T11:15:07.300545",
     "exception": false,
     "start_time": "2024-01-19T11:15:06.346750",
     "status": "completed"
    },
    "tags": []
   },
   "outputs": [
    {
     "data": {
      "text/html": [
       "<div>\n",
       "<style scoped>\n",
       "    .dataframe tbody tr th:only-of-type {\n",
       "        vertical-align: middle;\n",
       "    }\n",
       "\n",
       "    .dataframe tbody tr th {\n",
       "        vertical-align: top;\n",
       "    }\n",
       "\n",
       "    .dataframe thead th {\n",
       "        text-align: right;\n",
       "    }\n",
       "</style>\n",
       "<table border=\"1\" class=\"dataframe\">\n",
       "  <thead>\n",
       "    <tr style=\"text-align: right;\">\n",
       "      <th></th>\n",
       "      <th>date</th>\n",
       "      <th>id</th>\n",
       "      <th>store_nbr</th>\n",
       "      <th>family</th>\n",
       "      <th>sales</th>\n",
       "      <th>onpromotion</th>\n",
       "      <th>test</th>\n",
       "      <th>locale</th>\n",
       "      <th>locale_name</th>\n",
       "      <th>holiday</th>\n",
       "      <th>city</th>\n",
       "      <th>state</th>\n",
       "      <th>type</th>\n",
       "      <th>cluster</th>\n",
       "    </tr>\n",
       "  </thead>\n",
       "  <tbody>\n",
       "    <tr>\n",
       "      <th>0</th>\n",
       "      <td>2013-01-01</td>\n",
       "      <td>0.0</td>\n",
       "      <td>1.0</td>\n",
       "      <td>AUTOMOTIVE</td>\n",
       "      <td>0.0</td>\n",
       "      <td>0.0</td>\n",
       "      <td>0.0</td>\n",
       "      <td>National</td>\n",
       "      <td>Ecuador</td>\n",
       "      <td>1.0</td>\n",
       "      <td>Quito</td>\n",
       "      <td>Pichincha</td>\n",
       "      <td>D</td>\n",
       "      <td>13</td>\n",
       "    </tr>\n",
       "    <tr>\n",
       "      <th>1</th>\n",
       "      <td>2013-01-01</td>\n",
       "      <td>1.0</td>\n",
       "      <td>1.0</td>\n",
       "      <td>BABY CARE</td>\n",
       "      <td>0.0</td>\n",
       "      <td>0.0</td>\n",
       "      <td>0.0</td>\n",
       "      <td>National</td>\n",
       "      <td>Ecuador</td>\n",
       "      <td>1.0</td>\n",
       "      <td>Quito</td>\n",
       "      <td>Pichincha</td>\n",
       "      <td>D</td>\n",
       "      <td>13</td>\n",
       "    </tr>\n",
       "    <tr>\n",
       "      <th>2</th>\n",
       "      <td>2013-01-01</td>\n",
       "      <td>2.0</td>\n",
       "      <td>1.0</td>\n",
       "      <td>BEAUTY</td>\n",
       "      <td>0.0</td>\n",
       "      <td>0.0</td>\n",
       "      <td>0.0</td>\n",
       "      <td>National</td>\n",
       "      <td>Ecuador</td>\n",
       "      <td>1.0</td>\n",
       "      <td>Quito</td>\n",
       "      <td>Pichincha</td>\n",
       "      <td>D</td>\n",
       "      <td>13</td>\n",
       "    </tr>\n",
       "    <tr>\n",
       "      <th>3</th>\n",
       "      <td>2013-01-01</td>\n",
       "      <td>3.0</td>\n",
       "      <td>1.0</td>\n",
       "      <td>BEVERAGES</td>\n",
       "      <td>0.0</td>\n",
       "      <td>0.0</td>\n",
       "      <td>0.0</td>\n",
       "      <td>National</td>\n",
       "      <td>Ecuador</td>\n",
       "      <td>1.0</td>\n",
       "      <td>Quito</td>\n",
       "      <td>Pichincha</td>\n",
       "      <td>D</td>\n",
       "      <td>13</td>\n",
       "    </tr>\n",
       "    <tr>\n",
       "      <th>4</th>\n",
       "      <td>2013-01-01</td>\n",
       "      <td>4.0</td>\n",
       "      <td>1.0</td>\n",
       "      <td>BOOKS</td>\n",
       "      <td>0.0</td>\n",
       "      <td>0.0</td>\n",
       "      <td>0.0</td>\n",
       "      <td>National</td>\n",
       "      <td>Ecuador</td>\n",
       "      <td>1.0</td>\n",
       "      <td>Quito</td>\n",
       "      <td>Pichincha</td>\n",
       "      <td>D</td>\n",
       "      <td>13</td>\n",
       "    </tr>\n",
       "    <tr>\n",
       "      <th>...</th>\n",
       "      <td>...</td>\n",
       "      <td>...</td>\n",
       "      <td>...</td>\n",
       "      <td>...</td>\n",
       "      <td>...</td>\n",
       "      <td>...</td>\n",
       "      <td>...</td>\n",
       "      <td>...</td>\n",
       "      <td>...</td>\n",
       "      <td>...</td>\n",
       "      <td>...</td>\n",
       "      <td>...</td>\n",
       "      <td>...</td>\n",
       "      <td>...</td>\n",
       "    </tr>\n",
       "    <tr>\n",
       "      <th>3082855</th>\n",
       "      <td>2017-08-31</td>\n",
       "      <td>3029395.0</td>\n",
       "      <td>9.0</td>\n",
       "      <td>POULTRY</td>\n",
       "      <td>NaN</td>\n",
       "      <td>1.0</td>\n",
       "      <td>1.0</td>\n",
       "      <td></td>\n",
       "      <td></td>\n",
       "      <td>NaN</td>\n",
       "      <td>Quito</td>\n",
       "      <td>Pichincha</td>\n",
       "      <td>B</td>\n",
       "      <td>6</td>\n",
       "    </tr>\n",
       "    <tr>\n",
       "      <th>3082856</th>\n",
       "      <td>2017-08-31</td>\n",
       "      <td>3029396.0</td>\n",
       "      <td>9.0</td>\n",
       "      <td>PREPARED FOODS</td>\n",
       "      <td>NaN</td>\n",
       "      <td>0.0</td>\n",
       "      <td>1.0</td>\n",
       "      <td></td>\n",
       "      <td></td>\n",
       "      <td>NaN</td>\n",
       "      <td>Quito</td>\n",
       "      <td>Pichincha</td>\n",
       "      <td>B</td>\n",
       "      <td>6</td>\n",
       "    </tr>\n",
       "    <tr>\n",
       "      <th>3082857</th>\n",
       "      <td>2017-08-31</td>\n",
       "      <td>3029397.0</td>\n",
       "      <td>9.0</td>\n",
       "      <td>PRODUCE</td>\n",
       "      <td>NaN</td>\n",
       "      <td>1.0</td>\n",
       "      <td>1.0</td>\n",
       "      <td></td>\n",
       "      <td></td>\n",
       "      <td>NaN</td>\n",
       "      <td>Quito</td>\n",
       "      <td>Pichincha</td>\n",
       "      <td>B</td>\n",
       "      <td>6</td>\n",
       "    </tr>\n",
       "    <tr>\n",
       "      <th>3082858</th>\n",
       "      <td>2017-08-31</td>\n",
       "      <td>3029398.0</td>\n",
       "      <td>9.0</td>\n",
       "      <td>SCHOOL AND OFFICE SUPPLIES</td>\n",
       "      <td>NaN</td>\n",
       "      <td>9.0</td>\n",
       "      <td>1.0</td>\n",
       "      <td></td>\n",
       "      <td></td>\n",
       "      <td>NaN</td>\n",
       "      <td>Quito</td>\n",
       "      <td>Pichincha</td>\n",
       "      <td>B</td>\n",
       "      <td>6</td>\n",
       "    </tr>\n",
       "    <tr>\n",
       "      <th>3082859</th>\n",
       "      <td>2017-08-31</td>\n",
       "      <td>3029399.0</td>\n",
       "      <td>9.0</td>\n",
       "      <td>SEAFOOD</td>\n",
       "      <td>NaN</td>\n",
       "      <td>0.0</td>\n",
       "      <td>1.0</td>\n",
       "      <td></td>\n",
       "      <td></td>\n",
       "      <td>NaN</td>\n",
       "      <td>Quito</td>\n",
       "      <td>Pichincha</td>\n",
       "      <td>B</td>\n",
       "      <td>6</td>\n",
       "    </tr>\n",
       "  </tbody>\n",
       "</table>\n",
       "<p>3082860 rows × 14 columns</p>\n",
       "</div>"
      ],
      "text/plain": [
       "              date         id  store_nbr                      family  sales  \\\n",
       "0       2013-01-01        0.0        1.0                  AUTOMOTIVE    0.0   \n",
       "1       2013-01-01        1.0        1.0                   BABY CARE    0.0   \n",
       "2       2013-01-01        2.0        1.0                      BEAUTY    0.0   \n",
       "3       2013-01-01        3.0        1.0                   BEVERAGES    0.0   \n",
       "4       2013-01-01        4.0        1.0                       BOOKS    0.0   \n",
       "...            ...        ...        ...                         ...    ...   \n",
       "3082855 2017-08-31  3029395.0        9.0                     POULTRY    NaN   \n",
       "3082856 2017-08-31  3029396.0        9.0              PREPARED FOODS    NaN   \n",
       "3082857 2017-08-31  3029397.0        9.0                     PRODUCE    NaN   \n",
       "3082858 2017-08-31  3029398.0        9.0  SCHOOL AND OFFICE SUPPLIES    NaN   \n",
       "3082859 2017-08-31  3029399.0        9.0                     SEAFOOD    NaN   \n",
       "\n",
       "         onpromotion  test    locale locale_name  holiday   city      state  \\\n",
       "0                0.0   0.0  National     Ecuador      1.0  Quito  Pichincha   \n",
       "1                0.0   0.0  National     Ecuador      1.0  Quito  Pichincha   \n",
       "2                0.0   0.0  National     Ecuador      1.0  Quito  Pichincha   \n",
       "3                0.0   0.0  National     Ecuador      1.0  Quito  Pichincha   \n",
       "4                0.0   0.0  National     Ecuador      1.0  Quito  Pichincha   \n",
       "...              ...   ...       ...         ...      ...    ...        ...   \n",
       "3082855          1.0   1.0                            NaN  Quito  Pichincha   \n",
       "3082856          0.0   1.0                            NaN  Quito  Pichincha   \n",
       "3082857          1.0   1.0                            NaN  Quito  Pichincha   \n",
       "3082858          9.0   1.0                            NaN  Quito  Pichincha   \n",
       "3082859          0.0   1.0                            NaN  Quito  Pichincha   \n",
       "\n",
       "        type  cluster  \n",
       "0          D       13  \n",
       "1          D       13  \n",
       "2          D       13  \n",
       "3          D       13  \n",
       "4          D       13  \n",
       "...      ...      ...  \n",
       "3082855    B        6  \n",
       "3082856    B        6  \n",
       "3082857    B        6  \n",
       "3082858    B        6  \n",
       "3082859    B        6  \n",
       "\n",
       "[3082860 rows x 14 columns]"
      ]
     },
     "execution_count": 37,
     "metadata": {},
     "output_type": "execute_result"
    }
   ],
   "source": [
    "merged_df = pd.merge(merged_df, df_store, on='store_nbr', how='outer')\n",
    "merged_df"
   ]
  },
  {
   "cell_type": "code",
   "execution_count": 38,
   "id": "ee8ef212",
   "metadata": {
    "execution": {
     "iopub.execute_input": "2024-01-19T11:15:07.370130Z",
     "iopub.status.busy": "2024-01-19T11:15:07.369718Z",
     "iopub.status.idle": "2024-01-19T11:15:13.119045Z",
     "shell.execute_reply": "2024-01-19T11:15:13.118129Z"
    },
    "papermill": {
     "duration": 5.786841,
     "end_time": "2024-01-19T11:15:13.121357",
     "exception": false,
     "start_time": "2024-01-19T11:15:07.334516",
     "status": "completed"
    },
    "tags": []
   },
   "outputs": [
    {
     "data": {
      "text/html": [
       "<div>\n",
       "<style scoped>\n",
       "    .dataframe tbody tr th:only-of-type {\n",
       "        vertical-align: middle;\n",
       "    }\n",
       "\n",
       "    .dataframe tbody tr th {\n",
       "        vertical-align: top;\n",
       "    }\n",
       "\n",
       "    .dataframe thead th {\n",
       "        text-align: right;\n",
       "    }\n",
       "</style>\n",
       "<table border=\"1\" class=\"dataframe\">\n",
       "  <thead>\n",
       "    <tr style=\"text-align: right;\">\n",
       "      <th></th>\n",
       "      <th>Total</th>\n",
       "      <th>Ratio</th>\n",
       "    </tr>\n",
       "  </thead>\n",
       "  <tbody>\n",
       "    <tr>\n",
       "      <th>holiday</th>\n",
       "      <td>2594592</td>\n",
       "      <td>0.841618</td>\n",
       "    </tr>\n",
       "    <tr>\n",
       "      <th>sales</th>\n",
       "      <td>28512</td>\n",
       "      <td>0.009249</td>\n",
       "    </tr>\n",
       "    <tr>\n",
       "      <th>date</th>\n",
       "      <td>0</td>\n",
       "      <td>0.000000</td>\n",
       "    </tr>\n",
       "    <tr>\n",
       "      <th>id</th>\n",
       "      <td>0</td>\n",
       "      <td>0.000000</td>\n",
       "    </tr>\n",
       "    <tr>\n",
       "      <th>store_nbr</th>\n",
       "      <td>0</td>\n",
       "      <td>0.000000</td>\n",
       "    </tr>\n",
       "    <tr>\n",
       "      <th>family</th>\n",
       "      <td>0</td>\n",
       "      <td>0.000000</td>\n",
       "    </tr>\n",
       "    <tr>\n",
       "      <th>onpromotion</th>\n",
       "      <td>0</td>\n",
       "      <td>0.000000</td>\n",
       "    </tr>\n",
       "    <tr>\n",
       "      <th>test</th>\n",
       "      <td>0</td>\n",
       "      <td>0.000000</td>\n",
       "    </tr>\n",
       "    <tr>\n",
       "      <th>locale</th>\n",
       "      <td>0</td>\n",
       "      <td>0.000000</td>\n",
       "    </tr>\n",
       "    <tr>\n",
       "      <th>locale_name</th>\n",
       "      <td>0</td>\n",
       "      <td>0.000000</td>\n",
       "    </tr>\n",
       "    <tr>\n",
       "      <th>city</th>\n",
       "      <td>0</td>\n",
       "      <td>0.000000</td>\n",
       "    </tr>\n",
       "    <tr>\n",
       "      <th>state</th>\n",
       "      <td>0</td>\n",
       "      <td>0.000000</td>\n",
       "    </tr>\n",
       "    <tr>\n",
       "      <th>type</th>\n",
       "      <td>0</td>\n",
       "      <td>0.000000</td>\n",
       "    </tr>\n",
       "    <tr>\n",
       "      <th>cluster</th>\n",
       "      <td>0</td>\n",
       "      <td>0.000000</td>\n",
       "    </tr>\n",
       "  </tbody>\n",
       "</table>\n",
       "</div>"
      ],
      "text/plain": [
       "               Total     Ratio\n",
       "holiday      2594592  0.841618\n",
       "sales          28512  0.009249\n",
       "date               0  0.000000\n",
       "id                 0  0.000000\n",
       "store_nbr          0  0.000000\n",
       "family             0  0.000000\n",
       "onpromotion        0  0.000000\n",
       "test               0  0.000000\n",
       "locale             0  0.000000\n",
       "locale_name        0  0.000000\n",
       "city               0  0.000000\n",
       "state              0  0.000000\n",
       "type               0  0.000000\n",
       "cluster            0  0.000000"
      ]
     },
     "execution_count": 38,
     "metadata": {},
     "output_type": "execute_result"
    }
   ],
   "source": [
    "# check missing data\n",
    "null_count = merged_df.isnull().sum().sort_values(ascending=False)\n",
    "ratio = (merged_df.isnull().sum()/merged_df.isnull().count()).sort_values(ascending=False)\n",
    "missing_columns_count = pd.concat([null_count, ratio], axis=1, keys=['Total', 'Ratio'])\n",
    "missing_columns_count.head(40)"
   ]
  },
  {
   "cell_type": "markdown",
   "id": "28b266b6",
   "metadata": {
    "papermill": {
     "duration": 0.035744,
     "end_time": "2024-01-19T11:15:13.193173",
     "exception": false,
     "start_time": "2024-01-19T11:15:13.157429",
     "status": "completed"
    },
    "tags": []
   },
   "source": [
    "### find local holidays in local stores"
   ]
  },
  {
   "cell_type": "code",
   "execution_count": 39,
   "id": "e73eb491",
   "metadata": {
    "execution": {
     "iopub.execute_input": "2024-01-19T11:15:13.264106Z",
     "iopub.status.busy": "2024-01-19T11:15:13.263667Z",
     "iopub.status.idle": "2024-01-19T11:17:06.304734Z",
     "shell.execute_reply": "2024-01-19T11:17:06.303581Z"
    },
    "papermill": {
     "duration": 113.079885,
     "end_time": "2024-01-19T11:17:06.307793",
     "exception": false,
     "start_time": "2024-01-19T11:15:13.227908",
     "status": "completed"
    },
    "tags": []
   },
   "outputs": [],
   "source": [
    "# check if locale_name contains city or state\n",
    "check_contains_city = lambda row: row['city'] in row['locale_name']\n",
    "check_contains_state = lambda row: row['state'] in row['locale_name']\n",
    "# \n",
    "merged_df['contains_city'] = merged_df.apply(check_contains_city, axis=1)\n",
    "merged_df['contains_state'] = merged_df.apply(check_contains_state, axis=1)"
   ]
  },
  {
   "cell_type": "code",
   "execution_count": 40,
   "id": "e7330a60",
   "metadata": {
    "execution": {
     "iopub.execute_input": "2024-01-19T11:17:06.378129Z",
     "iopub.status.busy": "2024-01-19T11:17:06.377725Z",
     "iopub.status.idle": "2024-01-19T11:17:06.410468Z",
     "shell.execute_reply": "2024-01-19T11:17:06.409353Z"
    },
    "papermill": {
     "duration": 0.070275,
     "end_time": "2024-01-19T11:17:06.412804",
     "exception": false,
     "start_time": "2024-01-19T11:17:06.342529",
     "status": "completed"
    },
    "tags": []
   },
   "outputs": [
    {
     "data": {
      "text/plain": [
       "contains_state\n",
       "False    3081540\n",
       "True        1320\n",
       "Name: count, dtype: int64"
      ]
     },
     "execution_count": 40,
     "metadata": {},
     "output_type": "execute_result"
    }
   ],
   "source": [
    "merged_df['contains_state'].value_counts()"
   ]
  },
  {
   "cell_type": "markdown",
   "id": "92946e0b",
   "metadata": {
    "papermill": {
     "duration": 0.033423,
     "end_time": "2024-01-19T11:17:06.480627",
     "exception": false,
     "start_time": "2024-01-19T11:17:06.447204",
     "status": "completed"
    },
    "tags": []
   },
   "source": [
    "### combine df_trans"
   ]
  },
  {
   "cell_type": "code",
   "execution_count": 41,
   "id": "db0202dc",
   "metadata": {
    "execution": {
     "iopub.execute_input": "2024-01-19T11:17:06.551777Z",
     "iopub.status.busy": "2024-01-19T11:17:06.551074Z",
     "iopub.status.idle": "2024-01-19T11:17:06.576089Z",
     "shell.execute_reply": "2024-01-19T11:17:06.574933Z"
    },
    "papermill": {
     "duration": 0.063416,
     "end_time": "2024-01-19T11:17:06.578750",
     "exception": false,
     "start_time": "2024-01-19T11:17:06.515334",
     "status": "completed"
    },
    "tags": []
   },
   "outputs": [],
   "source": [
    "df_trans = df_trans.reset_index()\n",
    "df_trans['date'] = pd.to_datetime(df_trans['date'])\n",
    "df_trans = df_trans.drop(['index'], axis=1)"
   ]
  },
  {
   "cell_type": "code",
   "execution_count": 42,
   "id": "c228cdce",
   "metadata": {
    "execution": {
     "iopub.execute_input": "2024-01-19T11:17:06.648503Z",
     "iopub.status.busy": "2024-01-19T11:17:06.648066Z",
     "iopub.status.idle": "2024-01-19T11:17:07.157214Z",
     "shell.execute_reply": "2024-01-19T11:17:07.156121Z"
    },
    "papermill": {
     "duration": 0.546922,
     "end_time": "2024-01-19T11:17:07.159852",
     "exception": false,
     "start_time": "2024-01-19T11:17:06.612930",
     "status": "completed"
    },
    "tags": []
   },
   "outputs": [
    {
     "data": {
      "text/html": [
       "<div>\n",
       "<style scoped>\n",
       "    .dataframe tbody tr th:only-of-type {\n",
       "        vertical-align: middle;\n",
       "    }\n",
       "\n",
       "    .dataframe tbody tr th {\n",
       "        vertical-align: top;\n",
       "    }\n",
       "\n",
       "    .dataframe thead th {\n",
       "        text-align: right;\n",
       "    }\n",
       "</style>\n",
       "<table border=\"1\" class=\"dataframe\">\n",
       "  <thead>\n",
       "    <tr style=\"text-align: right;\">\n",
       "      <th></th>\n",
       "      <th>date</th>\n",
       "      <th>id</th>\n",
       "      <th>store_nbr</th>\n",
       "      <th>family</th>\n",
       "      <th>sales</th>\n",
       "      <th>onpromotion</th>\n",
       "      <th>test</th>\n",
       "      <th>locale</th>\n",
       "      <th>locale_name</th>\n",
       "      <th>holiday</th>\n",
       "      <th>city</th>\n",
       "      <th>state</th>\n",
       "      <th>type</th>\n",
       "      <th>cluster</th>\n",
       "      <th>contains_city</th>\n",
       "      <th>contains_state</th>\n",
       "      <th>transactions</th>\n",
       "    </tr>\n",
       "  </thead>\n",
       "  <tbody>\n",
       "    <tr>\n",
       "      <th>0</th>\n",
       "      <td>2013-01-01</td>\n",
       "      <td>0.0</td>\n",
       "      <td>1.0</td>\n",
       "      <td>AUTOMOTIVE</td>\n",
       "      <td>0.0</td>\n",
       "      <td>0.0</td>\n",
       "      <td>0.0</td>\n",
       "      <td>National</td>\n",
       "      <td>Ecuador</td>\n",
       "      <td>1.0</td>\n",
       "      <td>Quito</td>\n",
       "      <td>Pichincha</td>\n",
       "      <td>D</td>\n",
       "      <td>13</td>\n",
       "      <td>False</td>\n",
       "      <td>False</td>\n",
       "      <td>NaN</td>\n",
       "    </tr>\n",
       "    <tr>\n",
       "      <th>1</th>\n",
       "      <td>2013-01-01</td>\n",
       "      <td>1.0</td>\n",
       "      <td>1.0</td>\n",
       "      <td>BABY CARE</td>\n",
       "      <td>0.0</td>\n",
       "      <td>0.0</td>\n",
       "      <td>0.0</td>\n",
       "      <td>National</td>\n",
       "      <td>Ecuador</td>\n",
       "      <td>1.0</td>\n",
       "      <td>Quito</td>\n",
       "      <td>Pichincha</td>\n",
       "      <td>D</td>\n",
       "      <td>13</td>\n",
       "      <td>False</td>\n",
       "      <td>False</td>\n",
       "      <td>NaN</td>\n",
       "    </tr>\n",
       "    <tr>\n",
       "      <th>2</th>\n",
       "      <td>2013-01-01</td>\n",
       "      <td>2.0</td>\n",
       "      <td>1.0</td>\n",
       "      <td>BEAUTY</td>\n",
       "      <td>0.0</td>\n",
       "      <td>0.0</td>\n",
       "      <td>0.0</td>\n",
       "      <td>National</td>\n",
       "      <td>Ecuador</td>\n",
       "      <td>1.0</td>\n",
       "      <td>Quito</td>\n",
       "      <td>Pichincha</td>\n",
       "      <td>D</td>\n",
       "      <td>13</td>\n",
       "      <td>False</td>\n",
       "      <td>False</td>\n",
       "      <td>NaN</td>\n",
       "    </tr>\n",
       "    <tr>\n",
       "      <th>3</th>\n",
       "      <td>2013-01-01</td>\n",
       "      <td>3.0</td>\n",
       "      <td>1.0</td>\n",
       "      <td>BEVERAGES</td>\n",
       "      <td>0.0</td>\n",
       "      <td>0.0</td>\n",
       "      <td>0.0</td>\n",
       "      <td>National</td>\n",
       "      <td>Ecuador</td>\n",
       "      <td>1.0</td>\n",
       "      <td>Quito</td>\n",
       "      <td>Pichincha</td>\n",
       "      <td>D</td>\n",
       "      <td>13</td>\n",
       "      <td>False</td>\n",
       "      <td>False</td>\n",
       "      <td>NaN</td>\n",
       "    </tr>\n",
       "    <tr>\n",
       "      <th>4</th>\n",
       "      <td>2013-01-01</td>\n",
       "      <td>4.0</td>\n",
       "      <td>1.0</td>\n",
       "      <td>BOOKS</td>\n",
       "      <td>0.0</td>\n",
       "      <td>0.0</td>\n",
       "      <td>0.0</td>\n",
       "      <td>National</td>\n",
       "      <td>Ecuador</td>\n",
       "      <td>1.0</td>\n",
       "      <td>Quito</td>\n",
       "      <td>Pichincha</td>\n",
       "      <td>D</td>\n",
       "      <td>13</td>\n",
       "      <td>False</td>\n",
       "      <td>False</td>\n",
       "      <td>NaN</td>\n",
       "    </tr>\n",
       "    <tr>\n",
       "      <th>...</th>\n",
       "      <td>...</td>\n",
       "      <td>...</td>\n",
       "      <td>...</td>\n",
       "      <td>...</td>\n",
       "      <td>...</td>\n",
       "      <td>...</td>\n",
       "      <td>...</td>\n",
       "      <td>...</td>\n",
       "      <td>...</td>\n",
       "      <td>...</td>\n",
       "      <td>...</td>\n",
       "      <td>...</td>\n",
       "      <td>...</td>\n",
       "      <td>...</td>\n",
       "      <td>...</td>\n",
       "      <td>...</td>\n",
       "      <td>...</td>\n",
       "    </tr>\n",
       "    <tr>\n",
       "      <th>3082855</th>\n",
       "      <td>2017-08-31</td>\n",
       "      <td>3029395.0</td>\n",
       "      <td>9.0</td>\n",
       "      <td>POULTRY</td>\n",
       "      <td>NaN</td>\n",
       "      <td>1.0</td>\n",
       "      <td>1.0</td>\n",
       "      <td></td>\n",
       "      <td></td>\n",
       "      <td>NaN</td>\n",
       "      <td>Quito</td>\n",
       "      <td>Pichincha</td>\n",
       "      <td>B</td>\n",
       "      <td>6</td>\n",
       "      <td>False</td>\n",
       "      <td>False</td>\n",
       "      <td>NaN</td>\n",
       "    </tr>\n",
       "    <tr>\n",
       "      <th>3082856</th>\n",
       "      <td>2017-08-31</td>\n",
       "      <td>3029396.0</td>\n",
       "      <td>9.0</td>\n",
       "      <td>PREPARED FOODS</td>\n",
       "      <td>NaN</td>\n",
       "      <td>0.0</td>\n",
       "      <td>1.0</td>\n",
       "      <td></td>\n",
       "      <td></td>\n",
       "      <td>NaN</td>\n",
       "      <td>Quito</td>\n",
       "      <td>Pichincha</td>\n",
       "      <td>B</td>\n",
       "      <td>6</td>\n",
       "      <td>False</td>\n",
       "      <td>False</td>\n",
       "      <td>NaN</td>\n",
       "    </tr>\n",
       "    <tr>\n",
       "      <th>3082857</th>\n",
       "      <td>2017-08-31</td>\n",
       "      <td>3029397.0</td>\n",
       "      <td>9.0</td>\n",
       "      <td>PRODUCE</td>\n",
       "      <td>NaN</td>\n",
       "      <td>1.0</td>\n",
       "      <td>1.0</td>\n",
       "      <td></td>\n",
       "      <td></td>\n",
       "      <td>NaN</td>\n",
       "      <td>Quito</td>\n",
       "      <td>Pichincha</td>\n",
       "      <td>B</td>\n",
       "      <td>6</td>\n",
       "      <td>False</td>\n",
       "      <td>False</td>\n",
       "      <td>NaN</td>\n",
       "    </tr>\n",
       "    <tr>\n",
       "      <th>3082858</th>\n",
       "      <td>2017-08-31</td>\n",
       "      <td>3029398.0</td>\n",
       "      <td>9.0</td>\n",
       "      <td>SCHOOL AND OFFICE SUPPLIES</td>\n",
       "      <td>NaN</td>\n",
       "      <td>9.0</td>\n",
       "      <td>1.0</td>\n",
       "      <td></td>\n",
       "      <td></td>\n",
       "      <td>NaN</td>\n",
       "      <td>Quito</td>\n",
       "      <td>Pichincha</td>\n",
       "      <td>B</td>\n",
       "      <td>6</td>\n",
       "      <td>False</td>\n",
       "      <td>False</td>\n",
       "      <td>NaN</td>\n",
       "    </tr>\n",
       "    <tr>\n",
       "      <th>3082859</th>\n",
       "      <td>2017-08-31</td>\n",
       "      <td>3029399.0</td>\n",
       "      <td>9.0</td>\n",
       "      <td>SEAFOOD</td>\n",
       "      <td>NaN</td>\n",
       "      <td>0.0</td>\n",
       "      <td>1.0</td>\n",
       "      <td></td>\n",
       "      <td></td>\n",
       "      <td>NaN</td>\n",
       "      <td>Quito</td>\n",
       "      <td>Pichincha</td>\n",
       "      <td>B</td>\n",
       "      <td>6</td>\n",
       "      <td>False</td>\n",
       "      <td>False</td>\n",
       "      <td>NaN</td>\n",
       "    </tr>\n",
       "  </tbody>\n",
       "</table>\n",
       "<p>3082860 rows × 17 columns</p>\n",
       "</div>"
      ],
      "text/plain": [
       "              date         id  store_nbr                      family  sales  \\\n",
       "0       2013-01-01        0.0        1.0                  AUTOMOTIVE    0.0   \n",
       "1       2013-01-01        1.0        1.0                   BABY CARE    0.0   \n",
       "2       2013-01-01        2.0        1.0                      BEAUTY    0.0   \n",
       "3       2013-01-01        3.0        1.0                   BEVERAGES    0.0   \n",
       "4       2013-01-01        4.0        1.0                       BOOKS    0.0   \n",
       "...            ...        ...        ...                         ...    ...   \n",
       "3082855 2017-08-31  3029395.0        9.0                     POULTRY    NaN   \n",
       "3082856 2017-08-31  3029396.0        9.0              PREPARED FOODS    NaN   \n",
       "3082857 2017-08-31  3029397.0        9.0                     PRODUCE    NaN   \n",
       "3082858 2017-08-31  3029398.0        9.0  SCHOOL AND OFFICE SUPPLIES    NaN   \n",
       "3082859 2017-08-31  3029399.0        9.0                     SEAFOOD    NaN   \n",
       "\n",
       "         onpromotion  test    locale locale_name  holiday   city      state  \\\n",
       "0                0.0   0.0  National     Ecuador      1.0  Quito  Pichincha   \n",
       "1                0.0   0.0  National     Ecuador      1.0  Quito  Pichincha   \n",
       "2                0.0   0.0  National     Ecuador      1.0  Quito  Pichincha   \n",
       "3                0.0   0.0  National     Ecuador      1.0  Quito  Pichincha   \n",
       "4                0.0   0.0  National     Ecuador      1.0  Quito  Pichincha   \n",
       "...              ...   ...       ...         ...      ...    ...        ...   \n",
       "3082855          1.0   1.0                            NaN  Quito  Pichincha   \n",
       "3082856          0.0   1.0                            NaN  Quito  Pichincha   \n",
       "3082857          1.0   1.0                            NaN  Quito  Pichincha   \n",
       "3082858          9.0   1.0                            NaN  Quito  Pichincha   \n",
       "3082859          0.0   1.0                            NaN  Quito  Pichincha   \n",
       "\n",
       "        type  cluster  contains_city  contains_state  transactions  \n",
       "0          D       13          False           False           NaN  \n",
       "1          D       13          False           False           NaN  \n",
       "2          D       13          False           False           NaN  \n",
       "3          D       13          False           False           NaN  \n",
       "4          D       13          False           False           NaN  \n",
       "...      ...      ...            ...             ...           ...  \n",
       "3082855    B        6          False           False           NaN  \n",
       "3082856    B        6          False           False           NaN  \n",
       "3082857    B        6          False           False           NaN  \n",
       "3082858    B        6          False           False           NaN  \n",
       "3082859    B        6          False           False           NaN  \n",
       "\n",
       "[3082860 rows x 17 columns]"
      ]
     },
     "execution_count": 42,
     "metadata": {},
     "output_type": "execute_result"
    }
   ],
   "source": [
    "merged_df = pd.merge(merged_df, df_trans, on=['date', 'store_nbr'], how='outer')\n",
    "merged_df"
   ]
  },
  {
   "cell_type": "code",
   "execution_count": 43,
   "id": "96d0a9be",
   "metadata": {
    "execution": {
     "iopub.execute_input": "2024-01-19T11:17:07.234682Z",
     "iopub.status.busy": "2024-01-19T11:17:07.233988Z",
     "iopub.status.idle": "2024-01-19T11:17:07.570837Z",
     "shell.execute_reply": "2024-01-19T11:17:07.569677Z"
    },
    "papermill": {
     "duration": 0.376846,
     "end_time": "2024-01-19T11:17:07.573714",
     "exception": false,
     "start_time": "2024-01-19T11:17:07.196868",
     "status": "completed"
    },
    "tags": []
   },
   "outputs": [],
   "source": [
    "# missing data\n",
    "merged_df.loc[:, 'transactions'] = merged_df['transactions'].fillna('')"
   ]
  },
  {
   "cell_type": "markdown",
   "id": "14f34b82",
   "metadata": {
    "papermill": {
     "duration": 0.035062,
     "end_time": "2024-01-19T11:17:07.643748",
     "exception": false,
     "start_time": "2024-01-19T11:17:07.608686",
     "status": "completed"
    },
    "tags": []
   },
   "source": [
    "### df_oil"
   ]
  },
  {
   "cell_type": "code",
   "execution_count": 44,
   "id": "a287fd2d",
   "metadata": {
    "execution": {
     "iopub.execute_input": "2024-01-19T11:17:07.715559Z",
     "iopub.status.busy": "2024-01-19T11:17:07.715163Z",
     "iopub.status.idle": "2024-01-19T11:17:07.720823Z",
     "shell.execute_reply": "2024-01-19T11:17:07.719714Z"
    },
    "papermill": {
     "duration": 0.044767,
     "end_time": "2024-01-19T11:17:07.723184",
     "exception": false,
     "start_time": "2024-01-19T11:17:07.678417",
     "status": "completed"
    },
    "tags": []
   },
   "outputs": [],
   "source": [
    "df_oil = df_oil.reset_index()"
   ]
  },
  {
   "cell_type": "code",
   "execution_count": 45,
   "id": "f2706322",
   "metadata": {
    "execution": {
     "iopub.execute_input": "2024-01-19T11:17:07.794475Z",
     "iopub.status.busy": "2024-01-19T11:17:07.794089Z",
     "iopub.status.idle": "2024-01-19T11:17:09.038504Z",
     "shell.execute_reply": "2024-01-19T11:17:09.037459Z"
    },
    "papermill": {
     "duration": 1.282764,
     "end_time": "2024-01-19T11:17:09.040864",
     "exception": false,
     "start_time": "2024-01-19T11:17:07.758100",
     "status": "completed"
    },
    "tags": []
   },
   "outputs": [
    {
     "data": {
      "text/html": [
       "<div>\n",
       "<style scoped>\n",
       "    .dataframe tbody tr th:only-of-type {\n",
       "        vertical-align: middle;\n",
       "    }\n",
       "\n",
       "    .dataframe tbody tr th {\n",
       "        vertical-align: top;\n",
       "    }\n",
       "\n",
       "    .dataframe thead th {\n",
       "        text-align: right;\n",
       "    }\n",
       "</style>\n",
       "<table border=\"1\" class=\"dataframe\">\n",
       "  <thead>\n",
       "    <tr style=\"text-align: right;\">\n",
       "      <th></th>\n",
       "      <th>date</th>\n",
       "      <th>id</th>\n",
       "      <th>store_nbr</th>\n",
       "      <th>family</th>\n",
       "      <th>sales</th>\n",
       "      <th>onpromotion</th>\n",
       "      <th>test</th>\n",
       "      <th>locale</th>\n",
       "      <th>locale_name</th>\n",
       "      <th>holiday</th>\n",
       "      <th>city</th>\n",
       "      <th>state</th>\n",
       "      <th>type</th>\n",
       "      <th>cluster</th>\n",
       "      <th>contains_city</th>\n",
       "      <th>contains_state</th>\n",
       "      <th>transactions</th>\n",
       "      <th>dcoilwtico</th>\n",
       "    </tr>\n",
       "  </thead>\n",
       "  <tbody>\n",
       "    <tr>\n",
       "      <th>0</th>\n",
       "      <td>2013-01-01</td>\n",
       "      <td>0.0</td>\n",
       "      <td>1.0</td>\n",
       "      <td>AUTOMOTIVE</td>\n",
       "      <td>0.0</td>\n",
       "      <td>0.0</td>\n",
       "      <td>0.0</td>\n",
       "      <td>National</td>\n",
       "      <td>Ecuador</td>\n",
       "      <td>1.0</td>\n",
       "      <td>Quito</td>\n",
       "      <td>Pichincha</td>\n",
       "      <td>D</td>\n",
       "      <td>13.0</td>\n",
       "      <td>False</td>\n",
       "      <td>False</td>\n",
       "      <td></td>\n",
       "      <td>NaN</td>\n",
       "    </tr>\n",
       "    <tr>\n",
       "      <th>1</th>\n",
       "      <td>2013-01-01</td>\n",
       "      <td>1.0</td>\n",
       "      <td>1.0</td>\n",
       "      <td>BABY CARE</td>\n",
       "      <td>0.0</td>\n",
       "      <td>0.0</td>\n",
       "      <td>0.0</td>\n",
       "      <td>National</td>\n",
       "      <td>Ecuador</td>\n",
       "      <td>1.0</td>\n",
       "      <td>Quito</td>\n",
       "      <td>Pichincha</td>\n",
       "      <td>D</td>\n",
       "      <td>13.0</td>\n",
       "      <td>False</td>\n",
       "      <td>False</td>\n",
       "      <td></td>\n",
       "      <td>NaN</td>\n",
       "    </tr>\n",
       "    <tr>\n",
       "      <th>2</th>\n",
       "      <td>2013-01-01</td>\n",
       "      <td>2.0</td>\n",
       "      <td>1.0</td>\n",
       "      <td>BEAUTY</td>\n",
       "      <td>0.0</td>\n",
       "      <td>0.0</td>\n",
       "      <td>0.0</td>\n",
       "      <td>National</td>\n",
       "      <td>Ecuador</td>\n",
       "      <td>1.0</td>\n",
       "      <td>Quito</td>\n",
       "      <td>Pichincha</td>\n",
       "      <td>D</td>\n",
       "      <td>13.0</td>\n",
       "      <td>False</td>\n",
       "      <td>False</td>\n",
       "      <td></td>\n",
       "      <td>NaN</td>\n",
       "    </tr>\n",
       "    <tr>\n",
       "      <th>3</th>\n",
       "      <td>2013-01-01</td>\n",
       "      <td>3.0</td>\n",
       "      <td>1.0</td>\n",
       "      <td>BEVERAGES</td>\n",
       "      <td>0.0</td>\n",
       "      <td>0.0</td>\n",
       "      <td>0.0</td>\n",
       "      <td>National</td>\n",
       "      <td>Ecuador</td>\n",
       "      <td>1.0</td>\n",
       "      <td>Quito</td>\n",
       "      <td>Pichincha</td>\n",
       "      <td>D</td>\n",
       "      <td>13.0</td>\n",
       "      <td>False</td>\n",
       "      <td>False</td>\n",
       "      <td></td>\n",
       "      <td>NaN</td>\n",
       "    </tr>\n",
       "    <tr>\n",
       "      <th>4</th>\n",
       "      <td>2013-01-01</td>\n",
       "      <td>4.0</td>\n",
       "      <td>1.0</td>\n",
       "      <td>BOOKS</td>\n",
       "      <td>0.0</td>\n",
       "      <td>0.0</td>\n",
       "      <td>0.0</td>\n",
       "      <td>National</td>\n",
       "      <td>Ecuador</td>\n",
       "      <td>1.0</td>\n",
       "      <td>Quito</td>\n",
       "      <td>Pichincha</td>\n",
       "      <td>D</td>\n",
       "      <td>13.0</td>\n",
       "      <td>False</td>\n",
       "      <td>False</td>\n",
       "      <td></td>\n",
       "      <td>NaN</td>\n",
       "    </tr>\n",
       "    <tr>\n",
       "      <th>...</th>\n",
       "      <td>...</td>\n",
       "      <td>...</td>\n",
       "      <td>...</td>\n",
       "      <td>...</td>\n",
       "      <td>...</td>\n",
       "      <td>...</td>\n",
       "      <td>...</td>\n",
       "      <td>...</td>\n",
       "      <td>...</td>\n",
       "      <td>...</td>\n",
       "      <td>...</td>\n",
       "      <td>...</td>\n",
       "      <td>...</td>\n",
       "      <td>...</td>\n",
       "      <td>...</td>\n",
       "      <td>...</td>\n",
       "      <td>...</td>\n",
       "      <td>...</td>\n",
       "    </tr>\n",
       "    <tr>\n",
       "      <th>3082858</th>\n",
       "      <td>2017-08-31</td>\n",
       "      <td>3029398.0</td>\n",
       "      <td>9.0</td>\n",
       "      <td>SCHOOL AND OFFICE SUPPLIES</td>\n",
       "      <td>NaN</td>\n",
       "      <td>9.0</td>\n",
       "      <td>1.0</td>\n",
       "      <td></td>\n",
       "      <td></td>\n",
       "      <td>NaN</td>\n",
       "      <td>Quito</td>\n",
       "      <td>Pichincha</td>\n",
       "      <td>B</td>\n",
       "      <td>6.0</td>\n",
       "      <td>False</td>\n",
       "      <td>False</td>\n",
       "      <td></td>\n",
       "      <td>47.26</td>\n",
       "    </tr>\n",
       "    <tr>\n",
       "      <th>3082859</th>\n",
       "      <td>2017-08-31</td>\n",
       "      <td>3029399.0</td>\n",
       "      <td>9.0</td>\n",
       "      <td>SEAFOOD</td>\n",
       "      <td>NaN</td>\n",
       "      <td>0.0</td>\n",
       "      <td>1.0</td>\n",
       "      <td></td>\n",
       "      <td></td>\n",
       "      <td>NaN</td>\n",
       "      <td>Quito</td>\n",
       "      <td>Pichincha</td>\n",
       "      <td>B</td>\n",
       "      <td>6.0</td>\n",
       "      <td>False</td>\n",
       "      <td>False</td>\n",
       "      <td></td>\n",
       "      <td>47.26</td>\n",
       "    </tr>\n",
       "    <tr>\n",
       "      <th>3082860</th>\n",
       "      <td>2013-12-25</td>\n",
       "      <td>NaN</td>\n",
       "      <td>NaN</td>\n",
       "      <td>NaN</td>\n",
       "      <td>NaN</td>\n",
       "      <td>NaN</td>\n",
       "      <td>NaN</td>\n",
       "      <td>NaN</td>\n",
       "      <td>NaN</td>\n",
       "      <td>NaN</td>\n",
       "      <td>NaN</td>\n",
       "      <td>NaN</td>\n",
       "      <td>NaN</td>\n",
       "      <td>NaN</td>\n",
       "      <td>NaN</td>\n",
       "      <td>NaN</td>\n",
       "      <td>NaN</td>\n",
       "      <td>NaN</td>\n",
       "    </tr>\n",
       "    <tr>\n",
       "      <th>3082861</th>\n",
       "      <td>2014-12-25</td>\n",
       "      <td>NaN</td>\n",
       "      <td>NaN</td>\n",
       "      <td>NaN</td>\n",
       "      <td>NaN</td>\n",
       "      <td>NaN</td>\n",
       "      <td>NaN</td>\n",
       "      <td>NaN</td>\n",
       "      <td>NaN</td>\n",
       "      <td>NaN</td>\n",
       "      <td>NaN</td>\n",
       "      <td>NaN</td>\n",
       "      <td>NaN</td>\n",
       "      <td>NaN</td>\n",
       "      <td>NaN</td>\n",
       "      <td>NaN</td>\n",
       "      <td>NaN</td>\n",
       "      <td>NaN</td>\n",
       "    </tr>\n",
       "    <tr>\n",
       "      <th>3082862</th>\n",
       "      <td>2015-12-25</td>\n",
       "      <td>NaN</td>\n",
       "      <td>NaN</td>\n",
       "      <td>NaN</td>\n",
       "      <td>NaN</td>\n",
       "      <td>NaN</td>\n",
       "      <td>NaN</td>\n",
       "      <td>NaN</td>\n",
       "      <td>NaN</td>\n",
       "      <td>NaN</td>\n",
       "      <td>NaN</td>\n",
       "      <td>NaN</td>\n",
       "      <td>NaN</td>\n",
       "      <td>NaN</td>\n",
       "      <td>NaN</td>\n",
       "      <td>NaN</td>\n",
       "      <td>NaN</td>\n",
       "      <td>NaN</td>\n",
       "    </tr>\n",
       "  </tbody>\n",
       "</table>\n",
       "<p>3082863 rows × 18 columns</p>\n",
       "</div>"
      ],
      "text/plain": [
       "              date         id  store_nbr                      family  sales  \\\n",
       "0       2013-01-01        0.0        1.0                  AUTOMOTIVE    0.0   \n",
       "1       2013-01-01        1.0        1.0                   BABY CARE    0.0   \n",
       "2       2013-01-01        2.0        1.0                      BEAUTY    0.0   \n",
       "3       2013-01-01        3.0        1.0                   BEVERAGES    0.0   \n",
       "4       2013-01-01        4.0        1.0                       BOOKS    0.0   \n",
       "...            ...        ...        ...                         ...    ...   \n",
       "3082858 2017-08-31  3029398.0        9.0  SCHOOL AND OFFICE SUPPLIES    NaN   \n",
       "3082859 2017-08-31  3029399.0        9.0                     SEAFOOD    NaN   \n",
       "3082860 2013-12-25        NaN        NaN                         NaN    NaN   \n",
       "3082861 2014-12-25        NaN        NaN                         NaN    NaN   \n",
       "3082862 2015-12-25        NaN        NaN                         NaN    NaN   \n",
       "\n",
       "         onpromotion  test    locale locale_name  holiday   city      state  \\\n",
       "0                0.0   0.0  National     Ecuador      1.0  Quito  Pichincha   \n",
       "1                0.0   0.0  National     Ecuador      1.0  Quito  Pichincha   \n",
       "2                0.0   0.0  National     Ecuador      1.0  Quito  Pichincha   \n",
       "3                0.0   0.0  National     Ecuador      1.0  Quito  Pichincha   \n",
       "4                0.0   0.0  National     Ecuador      1.0  Quito  Pichincha   \n",
       "...              ...   ...       ...         ...      ...    ...        ...   \n",
       "3082858          9.0   1.0                            NaN  Quito  Pichincha   \n",
       "3082859          0.0   1.0                            NaN  Quito  Pichincha   \n",
       "3082860          NaN   NaN       NaN         NaN      NaN    NaN        NaN   \n",
       "3082861          NaN   NaN       NaN         NaN      NaN    NaN        NaN   \n",
       "3082862          NaN   NaN       NaN         NaN      NaN    NaN        NaN   \n",
       "\n",
       "        type  cluster contains_city contains_state transactions  dcoilwtico  \n",
       "0          D     13.0         False          False                      NaN  \n",
       "1          D     13.0         False          False                      NaN  \n",
       "2          D     13.0         False          False                      NaN  \n",
       "3          D     13.0         False          False                      NaN  \n",
       "4          D     13.0         False          False                      NaN  \n",
       "...      ...      ...           ...            ...          ...         ...  \n",
       "3082858    B      6.0         False          False                    47.26  \n",
       "3082859    B      6.0         False          False                    47.26  \n",
       "3082860  NaN      NaN           NaN            NaN          NaN         NaN  \n",
       "3082861  NaN      NaN           NaN            NaN          NaN         NaN  \n",
       "3082862  NaN      NaN           NaN            NaN          NaN         NaN  \n",
       "\n",
       "[3082863 rows x 18 columns]"
      ]
     },
     "execution_count": 45,
     "metadata": {},
     "output_type": "execute_result"
    }
   ],
   "source": [
    "merged_df = pd.merge(merged_df, df_oil, on=['date'], how='outer')\n",
    "merged_df"
   ]
  },
  {
   "cell_type": "markdown",
   "id": "b658bad8",
   "metadata": {
    "papermill": {
     "duration": 0.034739,
     "end_time": "2024-01-19T11:17:09.111081",
     "exception": false,
     "start_time": "2024-01-19T11:17:09.076342",
     "status": "completed"
    },
    "tags": []
   },
   "source": [
    "### Check missing values, and clean data"
   ]
  },
  {
   "cell_type": "code",
   "execution_count": 46,
   "id": "70c280df",
   "metadata": {
    "execution": {
     "iopub.execute_input": "2024-01-19T11:17:09.183378Z",
     "iopub.status.busy": "2024-01-19T11:17:09.182655Z",
     "iopub.status.idle": "2024-01-19T11:17:17.400846Z",
     "shell.execute_reply": "2024-01-19T11:17:17.399772Z"
    },
    "papermill": {
     "duration": 8.25716,
     "end_time": "2024-01-19T11:17:17.403293",
     "exception": false,
     "start_time": "2024-01-19T11:17:09.146133",
     "status": "completed"
    },
    "tags": []
   },
   "outputs": [
    {
     "data": {
      "text/html": [
       "<div>\n",
       "<style scoped>\n",
       "    .dataframe tbody tr th:only-of-type {\n",
       "        vertical-align: middle;\n",
       "    }\n",
       "\n",
       "    .dataframe tbody tr th {\n",
       "        vertical-align: top;\n",
       "    }\n",
       "\n",
       "    .dataframe thead th {\n",
       "        text-align: right;\n",
       "    }\n",
       "</style>\n",
       "<table border=\"1\" class=\"dataframe\">\n",
       "  <thead>\n",
       "    <tr style=\"text-align: right;\">\n",
       "      <th></th>\n",
       "      <th>Total</th>\n",
       "      <th>Ratio</th>\n",
       "    </tr>\n",
       "  </thead>\n",
       "  <tbody>\n",
       "    <tr>\n",
       "      <th>holiday</th>\n",
       "      <td>2594595</td>\n",
       "      <td>8.416187e-01</td>\n",
       "    </tr>\n",
       "    <tr>\n",
       "      <th>dcoilwtico</th>\n",
       "      <td>962283</td>\n",
       "      <td>3.121394e-01</td>\n",
       "    </tr>\n",
       "    <tr>\n",
       "      <th>sales</th>\n",
       "      <td>28515</td>\n",
       "      <td>9.249519e-03</td>\n",
       "    </tr>\n",
       "    <tr>\n",
       "      <th>store_nbr</th>\n",
       "      <td>3</td>\n",
       "      <td>9.731214e-07</td>\n",
       "    </tr>\n",
       "    <tr>\n",
       "      <th>family</th>\n",
       "      <td>3</td>\n",
       "      <td>9.731214e-07</td>\n",
       "    </tr>\n",
       "    <tr>\n",
       "      <th>onpromotion</th>\n",
       "      <td>3</td>\n",
       "      <td>9.731214e-07</td>\n",
       "    </tr>\n",
       "    <tr>\n",
       "      <th>test</th>\n",
       "      <td>3</td>\n",
       "      <td>9.731214e-07</td>\n",
       "    </tr>\n",
       "    <tr>\n",
       "      <th>locale</th>\n",
       "      <td>3</td>\n",
       "      <td>9.731214e-07</td>\n",
       "    </tr>\n",
       "    <tr>\n",
       "      <th>locale_name</th>\n",
       "      <td>3</td>\n",
       "      <td>9.731214e-07</td>\n",
       "    </tr>\n",
       "    <tr>\n",
       "      <th>id</th>\n",
       "      <td>3</td>\n",
       "      <td>9.731214e-07</td>\n",
       "    </tr>\n",
       "    <tr>\n",
       "      <th>city</th>\n",
       "      <td>3</td>\n",
       "      <td>9.731214e-07</td>\n",
       "    </tr>\n",
       "    <tr>\n",
       "      <th>state</th>\n",
       "      <td>3</td>\n",
       "      <td>9.731214e-07</td>\n",
       "    </tr>\n",
       "    <tr>\n",
       "      <th>type</th>\n",
       "      <td>3</td>\n",
       "      <td>9.731214e-07</td>\n",
       "    </tr>\n",
       "    <tr>\n",
       "      <th>cluster</th>\n",
       "      <td>3</td>\n",
       "      <td>9.731214e-07</td>\n",
       "    </tr>\n",
       "    <tr>\n",
       "      <th>contains_city</th>\n",
       "      <td>3</td>\n",
       "      <td>9.731214e-07</td>\n",
       "    </tr>\n",
       "    <tr>\n",
       "      <th>contains_state</th>\n",
       "      <td>3</td>\n",
       "      <td>9.731214e-07</td>\n",
       "    </tr>\n",
       "    <tr>\n",
       "      <th>transactions</th>\n",
       "      <td>3</td>\n",
       "      <td>9.731214e-07</td>\n",
       "    </tr>\n",
       "    <tr>\n",
       "      <th>date</th>\n",
       "      <td>0</td>\n",
       "      <td>0.000000e+00</td>\n",
       "    </tr>\n",
       "  </tbody>\n",
       "</table>\n",
       "</div>"
      ],
      "text/plain": [
       "                  Total         Ratio\n",
       "holiday         2594595  8.416187e-01\n",
       "dcoilwtico       962283  3.121394e-01\n",
       "sales             28515  9.249519e-03\n",
       "store_nbr             3  9.731214e-07\n",
       "family                3  9.731214e-07\n",
       "onpromotion           3  9.731214e-07\n",
       "test                  3  9.731214e-07\n",
       "locale                3  9.731214e-07\n",
       "locale_name           3  9.731214e-07\n",
       "id                    3  9.731214e-07\n",
       "city                  3  9.731214e-07\n",
       "state                 3  9.731214e-07\n",
       "type                  3  9.731214e-07\n",
       "cluster               3  9.731214e-07\n",
       "contains_city         3  9.731214e-07\n",
       "contains_state        3  9.731214e-07\n",
       "transactions          3  9.731214e-07\n",
       "date                  0  0.000000e+00"
      ]
     },
     "execution_count": 46,
     "metadata": {},
     "output_type": "execute_result"
    }
   ],
   "source": [
    "# check missing data\n",
    "null_count = merged_df.isnull().sum().sort_values(ascending=False)\n",
    "ratio = (merged_df.isnull().sum()/merged_df.isnull().count()).sort_values(ascending=False)\n",
    "missing_columns_count = pd.concat([null_count, ratio], axis=1, keys=['Total', 'Ratio'])\n",
    "missing_columns_count.head(40)"
   ]
  },
  {
   "cell_type": "code",
   "execution_count": 47,
   "id": "3265c04e",
   "metadata": {
    "execution": {
     "iopub.execute_input": "2024-01-19T11:17:17.477699Z",
     "iopub.status.busy": "2024-01-19T11:17:17.477319Z",
     "iopub.status.idle": "2024-01-19T11:17:18.024724Z",
     "shell.execute_reply": "2024-01-19T11:17:18.023463Z"
    },
    "papermill": {
     "duration": 0.587875,
     "end_time": "2024-01-19T11:17:18.027408",
     "exception": false,
     "start_time": "2024-01-19T11:17:17.439533",
     "status": "completed"
    },
    "tags": []
   },
   "outputs": [],
   "source": [
    "merged_df = merged_df.loc[merged_df['id'].notnull()]"
   ]
  },
  {
   "cell_type": "code",
   "execution_count": 48,
   "id": "55cf246c",
   "metadata": {
    "execution": {
     "iopub.execute_input": "2024-01-19T11:17:18.102327Z",
     "iopub.status.busy": "2024-01-19T11:17:18.101406Z",
     "iopub.status.idle": "2024-01-19T11:17:18.137640Z",
     "shell.execute_reply": "2024-01-19T11:17:18.136582Z"
    },
    "papermill": {
     "duration": 0.075998,
     "end_time": "2024-01-19T11:17:18.139967",
     "exception": false,
     "start_time": "2024-01-19T11:17:18.063969",
     "status": "completed"
    },
    "tags": []
   },
   "outputs": [
    {
     "data": {
      "text/html": [
       "<div>\n",
       "<style scoped>\n",
       "    .dataframe tbody tr th:only-of-type {\n",
       "        vertical-align: middle;\n",
       "    }\n",
       "\n",
       "    .dataframe tbody tr th {\n",
       "        vertical-align: top;\n",
       "    }\n",
       "\n",
       "    .dataframe thead th {\n",
       "        text-align: right;\n",
       "    }\n",
       "</style>\n",
       "<table border=\"1\" class=\"dataframe\">\n",
       "  <thead>\n",
       "    <tr style=\"text-align: right;\">\n",
       "      <th></th>\n",
       "      <th>date</th>\n",
       "      <th>id</th>\n",
       "      <th>store_nbr</th>\n",
       "      <th>family</th>\n",
       "      <th>sales</th>\n",
       "      <th>onpromotion</th>\n",
       "      <th>test</th>\n",
       "      <th>locale</th>\n",
       "      <th>locale_name</th>\n",
       "      <th>holiday</th>\n",
       "      <th>city</th>\n",
       "      <th>state</th>\n",
       "      <th>type</th>\n",
       "      <th>cluster</th>\n",
       "      <th>contains_city</th>\n",
       "      <th>contains_state</th>\n",
       "      <th>transactions</th>\n",
       "      <th>dcoilwtico</th>\n",
       "    </tr>\n",
       "  </thead>\n",
       "  <tbody>\n",
       "    <tr>\n",
       "      <th>0</th>\n",
       "      <td>2013-01-01</td>\n",
       "      <td>0.0</td>\n",
       "      <td>1.0</td>\n",
       "      <td>AUTOMOTIVE</td>\n",
       "      <td>0.0</td>\n",
       "      <td>0.0</td>\n",
       "      <td>0.0</td>\n",
       "      <td>National</td>\n",
       "      <td>Ecuador</td>\n",
       "      <td>1.0</td>\n",
       "      <td>Quito</td>\n",
       "      <td>Pichincha</td>\n",
       "      <td>D</td>\n",
       "      <td>13.0</td>\n",
       "      <td>False</td>\n",
       "      <td>False</td>\n",
       "      <td></td>\n",
       "      <td>NaN</td>\n",
       "    </tr>\n",
       "    <tr>\n",
       "      <th>1</th>\n",
       "      <td>2013-01-01</td>\n",
       "      <td>1.0</td>\n",
       "      <td>1.0</td>\n",
       "      <td>BABY CARE</td>\n",
       "      <td>0.0</td>\n",
       "      <td>0.0</td>\n",
       "      <td>0.0</td>\n",
       "      <td>National</td>\n",
       "      <td>Ecuador</td>\n",
       "      <td>1.0</td>\n",
       "      <td>Quito</td>\n",
       "      <td>Pichincha</td>\n",
       "      <td>D</td>\n",
       "      <td>13.0</td>\n",
       "      <td>False</td>\n",
       "      <td>False</td>\n",
       "      <td></td>\n",
       "      <td>NaN</td>\n",
       "    </tr>\n",
       "    <tr>\n",
       "      <th>2</th>\n",
       "      <td>2013-01-01</td>\n",
       "      <td>2.0</td>\n",
       "      <td>1.0</td>\n",
       "      <td>BEAUTY</td>\n",
       "      <td>0.0</td>\n",
       "      <td>0.0</td>\n",
       "      <td>0.0</td>\n",
       "      <td>National</td>\n",
       "      <td>Ecuador</td>\n",
       "      <td>1.0</td>\n",
       "      <td>Quito</td>\n",
       "      <td>Pichincha</td>\n",
       "      <td>D</td>\n",
       "      <td>13.0</td>\n",
       "      <td>False</td>\n",
       "      <td>False</td>\n",
       "      <td></td>\n",
       "      <td>NaN</td>\n",
       "    </tr>\n",
       "    <tr>\n",
       "      <th>3</th>\n",
       "      <td>2013-01-01</td>\n",
       "      <td>3.0</td>\n",
       "      <td>1.0</td>\n",
       "      <td>BEVERAGES</td>\n",
       "      <td>0.0</td>\n",
       "      <td>0.0</td>\n",
       "      <td>0.0</td>\n",
       "      <td>National</td>\n",
       "      <td>Ecuador</td>\n",
       "      <td>1.0</td>\n",
       "      <td>Quito</td>\n",
       "      <td>Pichincha</td>\n",
       "      <td>D</td>\n",
       "      <td>13.0</td>\n",
       "      <td>False</td>\n",
       "      <td>False</td>\n",
       "      <td></td>\n",
       "      <td>NaN</td>\n",
       "    </tr>\n",
       "    <tr>\n",
       "      <th>4</th>\n",
       "      <td>2013-01-01</td>\n",
       "      <td>4.0</td>\n",
       "      <td>1.0</td>\n",
       "      <td>BOOKS</td>\n",
       "      <td>0.0</td>\n",
       "      <td>0.0</td>\n",
       "      <td>0.0</td>\n",
       "      <td>National</td>\n",
       "      <td>Ecuador</td>\n",
       "      <td>1.0</td>\n",
       "      <td>Quito</td>\n",
       "      <td>Pichincha</td>\n",
       "      <td>D</td>\n",
       "      <td>13.0</td>\n",
       "      <td>False</td>\n",
       "      <td>False</td>\n",
       "      <td></td>\n",
       "      <td>NaN</td>\n",
       "    </tr>\n",
       "    <tr>\n",
       "      <th>...</th>\n",
       "      <td>...</td>\n",
       "      <td>...</td>\n",
       "      <td>...</td>\n",
       "      <td>...</td>\n",
       "      <td>...</td>\n",
       "      <td>...</td>\n",
       "      <td>...</td>\n",
       "      <td>...</td>\n",
       "      <td>...</td>\n",
       "      <td>...</td>\n",
       "      <td>...</td>\n",
       "      <td>...</td>\n",
       "      <td>...</td>\n",
       "      <td>...</td>\n",
       "      <td>...</td>\n",
       "      <td>...</td>\n",
       "      <td>...</td>\n",
       "      <td>...</td>\n",
       "    </tr>\n",
       "    <tr>\n",
       "      <th>3082855</th>\n",
       "      <td>2017-08-31</td>\n",
       "      <td>3029395.0</td>\n",
       "      <td>9.0</td>\n",
       "      <td>POULTRY</td>\n",
       "      <td>NaN</td>\n",
       "      <td>1.0</td>\n",
       "      <td>1.0</td>\n",
       "      <td></td>\n",
       "      <td></td>\n",
       "      <td>NaN</td>\n",
       "      <td>Quito</td>\n",
       "      <td>Pichincha</td>\n",
       "      <td>B</td>\n",
       "      <td>6.0</td>\n",
       "      <td>False</td>\n",
       "      <td>False</td>\n",
       "      <td></td>\n",
       "      <td>47.26</td>\n",
       "    </tr>\n",
       "    <tr>\n",
       "      <th>3082856</th>\n",
       "      <td>2017-08-31</td>\n",
       "      <td>3029396.0</td>\n",
       "      <td>9.0</td>\n",
       "      <td>PREPARED FOODS</td>\n",
       "      <td>NaN</td>\n",
       "      <td>0.0</td>\n",
       "      <td>1.0</td>\n",
       "      <td></td>\n",
       "      <td></td>\n",
       "      <td>NaN</td>\n",
       "      <td>Quito</td>\n",
       "      <td>Pichincha</td>\n",
       "      <td>B</td>\n",
       "      <td>6.0</td>\n",
       "      <td>False</td>\n",
       "      <td>False</td>\n",
       "      <td></td>\n",
       "      <td>47.26</td>\n",
       "    </tr>\n",
       "    <tr>\n",
       "      <th>3082857</th>\n",
       "      <td>2017-08-31</td>\n",
       "      <td>3029397.0</td>\n",
       "      <td>9.0</td>\n",
       "      <td>PRODUCE</td>\n",
       "      <td>NaN</td>\n",
       "      <td>1.0</td>\n",
       "      <td>1.0</td>\n",
       "      <td></td>\n",
       "      <td></td>\n",
       "      <td>NaN</td>\n",
       "      <td>Quito</td>\n",
       "      <td>Pichincha</td>\n",
       "      <td>B</td>\n",
       "      <td>6.0</td>\n",
       "      <td>False</td>\n",
       "      <td>False</td>\n",
       "      <td></td>\n",
       "      <td>47.26</td>\n",
       "    </tr>\n",
       "    <tr>\n",
       "      <th>3082858</th>\n",
       "      <td>2017-08-31</td>\n",
       "      <td>3029398.0</td>\n",
       "      <td>9.0</td>\n",
       "      <td>SCHOOL AND OFFICE SUPPLIES</td>\n",
       "      <td>NaN</td>\n",
       "      <td>9.0</td>\n",
       "      <td>1.0</td>\n",
       "      <td></td>\n",
       "      <td></td>\n",
       "      <td>NaN</td>\n",
       "      <td>Quito</td>\n",
       "      <td>Pichincha</td>\n",
       "      <td>B</td>\n",
       "      <td>6.0</td>\n",
       "      <td>False</td>\n",
       "      <td>False</td>\n",
       "      <td></td>\n",
       "      <td>47.26</td>\n",
       "    </tr>\n",
       "    <tr>\n",
       "      <th>3082859</th>\n",
       "      <td>2017-08-31</td>\n",
       "      <td>3029399.0</td>\n",
       "      <td>9.0</td>\n",
       "      <td>SEAFOOD</td>\n",
       "      <td>NaN</td>\n",
       "      <td>0.0</td>\n",
       "      <td>1.0</td>\n",
       "      <td></td>\n",
       "      <td></td>\n",
       "      <td>NaN</td>\n",
       "      <td>Quito</td>\n",
       "      <td>Pichincha</td>\n",
       "      <td>B</td>\n",
       "      <td>6.0</td>\n",
       "      <td>False</td>\n",
       "      <td>False</td>\n",
       "      <td></td>\n",
       "      <td>47.26</td>\n",
       "    </tr>\n",
       "  </tbody>\n",
       "</table>\n",
       "<p>3082860 rows × 18 columns</p>\n",
       "</div>"
      ],
      "text/plain": [
       "              date         id  store_nbr                      family  sales  \\\n",
       "0       2013-01-01        0.0        1.0                  AUTOMOTIVE    0.0   \n",
       "1       2013-01-01        1.0        1.0                   BABY CARE    0.0   \n",
       "2       2013-01-01        2.0        1.0                      BEAUTY    0.0   \n",
       "3       2013-01-01        3.0        1.0                   BEVERAGES    0.0   \n",
       "4       2013-01-01        4.0        1.0                       BOOKS    0.0   \n",
       "...            ...        ...        ...                         ...    ...   \n",
       "3082855 2017-08-31  3029395.0        9.0                     POULTRY    NaN   \n",
       "3082856 2017-08-31  3029396.0        9.0              PREPARED FOODS    NaN   \n",
       "3082857 2017-08-31  3029397.0        9.0                     PRODUCE    NaN   \n",
       "3082858 2017-08-31  3029398.0        9.0  SCHOOL AND OFFICE SUPPLIES    NaN   \n",
       "3082859 2017-08-31  3029399.0        9.0                     SEAFOOD    NaN   \n",
       "\n",
       "         onpromotion  test    locale locale_name  holiday   city      state  \\\n",
       "0                0.0   0.0  National     Ecuador      1.0  Quito  Pichincha   \n",
       "1                0.0   0.0  National     Ecuador      1.0  Quito  Pichincha   \n",
       "2                0.0   0.0  National     Ecuador      1.0  Quito  Pichincha   \n",
       "3                0.0   0.0  National     Ecuador      1.0  Quito  Pichincha   \n",
       "4                0.0   0.0  National     Ecuador      1.0  Quito  Pichincha   \n",
       "...              ...   ...       ...         ...      ...    ...        ...   \n",
       "3082855          1.0   1.0                            NaN  Quito  Pichincha   \n",
       "3082856          0.0   1.0                            NaN  Quito  Pichincha   \n",
       "3082857          1.0   1.0                            NaN  Quito  Pichincha   \n",
       "3082858          9.0   1.0                            NaN  Quito  Pichincha   \n",
       "3082859          0.0   1.0                            NaN  Quito  Pichincha   \n",
       "\n",
       "        type  cluster contains_city contains_state transactions  dcoilwtico  \n",
       "0          D     13.0         False          False                      NaN  \n",
       "1          D     13.0         False          False                      NaN  \n",
       "2          D     13.0         False          False                      NaN  \n",
       "3          D     13.0         False          False                      NaN  \n",
       "4          D     13.0         False          False                      NaN  \n",
       "...      ...      ...           ...            ...          ...         ...  \n",
       "3082855    B      6.0         False          False                    47.26  \n",
       "3082856    B      6.0         False          False                    47.26  \n",
       "3082857    B      6.0         False          False                    47.26  \n",
       "3082858    B      6.0         False          False                    47.26  \n",
       "3082859    B      6.0         False          False                    47.26  \n",
       "\n",
       "[3082860 rows x 18 columns]"
      ]
     },
     "execution_count": 48,
     "metadata": {},
     "output_type": "execute_result"
    }
   ],
   "source": [
    "merged_df"
   ]
  },
  {
   "cell_type": "code",
   "execution_count": 49,
   "id": "dd13a56f",
   "metadata": {
    "execution": {
     "iopub.execute_input": "2024-01-19T11:17:18.214977Z",
     "iopub.status.busy": "2024-01-19T11:17:18.214332Z",
     "iopub.status.idle": "2024-01-19T11:17:18.242363Z",
     "shell.execute_reply": "2024-01-19T11:17:18.241196Z"
    },
    "papermill": {
     "duration": 0.068107,
     "end_time": "2024-01-19T11:17:18.245027",
     "exception": false,
     "start_time": "2024-01-19T11:17:18.176920",
     "status": "completed"
    },
    "tags": []
   },
   "outputs": [],
   "source": [
    "merged_df.loc[:, 'holiday'] = merged_df['holiday'].fillna(0)"
   ]
  },
  {
   "cell_type": "code",
   "execution_count": 50,
   "id": "80f014bb",
   "metadata": {
    "execution": {
     "iopub.execute_input": "2024-01-19T11:17:18.319286Z",
     "iopub.status.busy": "2024-01-19T11:17:18.318887Z",
     "iopub.status.idle": "2024-01-19T11:17:18.627042Z",
     "shell.execute_reply": "2024-01-19T11:17:18.625824Z"
    },
    "papermill": {
     "duration": 0.348407,
     "end_time": "2024-01-19T11:17:18.629600",
     "exception": false,
     "start_time": "2024-01-19T11:17:18.281193",
     "status": "completed"
    },
    "tags": []
   },
   "outputs": [
    {
     "name": "stderr",
     "output_type": "stream",
     "text": [
      "/tmp/ipykernel_18/4014187736.py:2: SettingWithCopyWarning: \n",
      "A value is trying to be set on a copy of a slice from a DataFrame.\n",
      "Try using .loc[row_indexer,col_indexer] = value instead\n",
      "\n",
      "See the caveats in the documentation: https://pandas.pydata.org/pandas-docs/stable/user_guide/indexing.html#returning-a-view-versus-a-copy\n",
      "  merged_df.loc[:, 'weekday'] = merged_df['date'].dt.weekday\n"
     ]
    }
   ],
   "source": [
    "# weekend\n",
    "merged_df.loc[:, 'weekday'] = merged_df['date'].dt.weekday"
   ]
  },
  {
   "cell_type": "code",
   "execution_count": 51,
   "id": "b08ced87",
   "metadata": {
    "execution": {
     "iopub.execute_input": "2024-01-19T11:17:18.705108Z",
     "iopub.status.busy": "2024-01-19T11:17:18.704670Z",
     "iopub.status.idle": "2024-01-19T11:17:18.730795Z",
     "shell.execute_reply": "2024-01-19T11:17:18.729666Z"
    },
    "papermill": {
     "duration": 0.067005,
     "end_time": "2024-01-19T11:17:18.733381",
     "exception": false,
     "start_time": "2024-01-19T11:17:18.666376",
     "status": "completed"
    },
    "tags": []
   },
   "outputs": [
    {
     "name": "stderr",
     "output_type": "stream",
     "text": [
      "/tmp/ipykernel_18/3536395785.py:1: SettingWithCopyWarning: \n",
      "A value is trying to be set on a copy of a slice from a DataFrame.\n",
      "Try using .loc[row_indexer,col_indexer] = value instead\n",
      "\n",
      "See the caveats in the documentation: https://pandas.pydata.org/pandas-docs/stable/user_guide/indexing.html#returning-a-view-versus-a-copy\n",
      "  merged_df.loc[:, 'weekend_holi'] = (merged_df['weekday'].isin([5, 6])) | (merged_df['holiday'] == 1.0)\n"
     ]
    }
   ],
   "source": [
    "merged_df.loc[:, 'weekend_holi'] = (merged_df['weekday'].isin([5, 6])) | (merged_df['holiday'] == 1.0)"
   ]
  },
  {
   "cell_type": "code",
   "execution_count": 52,
   "id": "a85e9b53",
   "metadata": {
    "execution": {
     "iopub.execute_input": "2024-01-19T11:17:18.810256Z",
     "iopub.status.busy": "2024-01-19T11:17:18.809837Z",
     "iopub.status.idle": "2024-01-19T11:17:18.842597Z",
     "shell.execute_reply": "2024-01-19T11:17:18.841528Z"
    },
    "papermill": {
     "duration": 0.07318,
     "end_time": "2024-01-19T11:17:18.844976",
     "exception": false,
     "start_time": "2024-01-19T11:17:18.771796",
     "status": "completed"
    },
    "tags": []
   },
   "outputs": [
    {
     "data": {
      "text/plain": [
       "weekend_holi\n",
       "False    1856844\n",
       "True     1226016\n",
       "Name: count, dtype: int64"
      ]
     },
     "execution_count": 52,
     "metadata": {},
     "output_type": "execute_result"
    }
   ],
   "source": [
    "merged_df['weekend_holi'].value_counts()"
   ]
  },
  {
   "cell_type": "code",
   "execution_count": 53,
   "id": "f4c7efae",
   "metadata": {
    "execution": {
     "iopub.execute_input": "2024-01-19T11:17:18.920469Z",
     "iopub.status.busy": "2024-01-19T11:17:18.919616Z",
     "iopub.status.idle": "2024-01-19T11:17:19.329682Z",
     "shell.execute_reply": "2024-01-19T11:17:19.328229Z"
    },
    "papermill": {
     "duration": 0.450287,
     "end_time": "2024-01-19T11:17:19.331894",
     "exception": false,
     "start_time": "2024-01-19T11:17:18.881607",
     "status": "completed"
    },
    "tags": []
   },
   "outputs": [
    {
     "name": "stderr",
     "output_type": "stream",
     "text": [
      "/tmp/ipykernel_18/2402107974.py:2: SettingWithCopyWarning: \n",
      "A value is trying to be set on a copy of a slice from a DataFrame.\n",
      "Try using .loc[row_indexer,col_indexer] = value instead\n",
      "\n",
      "See the caveats in the documentation: https://pandas.pydata.org/pandas-docs/stable/user_guide/indexing.html#returning-a-view-versus-a-copy\n",
      "  merged_df['dcoilwtico'] = merged_df['dcoilwtico'].interpolate()\n",
      "/tmp/ipykernel_18/2402107974.py:5: SettingWithCopyWarning: \n",
      "A value is trying to be set on a copy of a slice from a DataFrame.\n",
      "Try using .loc[row_indexer,col_indexer] = value instead\n",
      "\n",
      "See the caveats in the documentation: https://pandas.pydata.org/pandas-docs/stable/user_guide/indexing.html#returning-a-view-versus-a-copy\n",
      "  merged_df['dcoilwtico'] = merged_df['dcoilwtico'].fillna(method='bfill')\n"
     ]
    }
   ],
   "source": [
    "# Interpolation oil price\n",
    "merged_df['dcoilwtico'] = merged_df['dcoilwtico'].interpolate()\n",
    "\n",
    "# Backward Fill the first day missing oil price\n",
    "merged_df['dcoilwtico'] = merged_df['dcoilwtico'].fillna(method='bfill')"
   ]
  },
  {
   "cell_type": "code",
   "execution_count": 54,
   "id": "ba3360a1",
   "metadata": {
    "execution": {
     "iopub.execute_input": "2024-01-19T11:17:19.408156Z",
     "iopub.status.busy": "2024-01-19T11:17:19.407763Z",
     "iopub.status.idle": "2024-01-19T11:17:27.593192Z",
     "shell.execute_reply": "2024-01-19T11:17:27.592061Z"
    },
    "papermill": {
     "duration": 8.226643,
     "end_time": "2024-01-19T11:17:27.595499",
     "exception": false,
     "start_time": "2024-01-19T11:17:19.368856",
     "status": "completed"
    },
    "tags": []
   },
   "outputs": [
    {
     "data": {
      "text/html": [
       "<div>\n",
       "<style scoped>\n",
       "    .dataframe tbody tr th:only-of-type {\n",
       "        vertical-align: middle;\n",
       "    }\n",
       "\n",
       "    .dataframe tbody tr th {\n",
       "        vertical-align: top;\n",
       "    }\n",
       "\n",
       "    .dataframe thead th {\n",
       "        text-align: right;\n",
       "    }\n",
       "</style>\n",
       "<table border=\"1\" class=\"dataframe\">\n",
       "  <thead>\n",
       "    <tr style=\"text-align: right;\">\n",
       "      <th></th>\n",
       "      <th>Total</th>\n",
       "      <th>Ratio</th>\n",
       "    </tr>\n",
       "  </thead>\n",
       "  <tbody>\n",
       "    <tr>\n",
       "      <th>sales</th>\n",
       "      <td>28512</td>\n",
       "      <td>0.009249</td>\n",
       "    </tr>\n",
       "    <tr>\n",
       "      <th>date</th>\n",
       "      <td>0</td>\n",
       "      <td>0.000000</td>\n",
       "    </tr>\n",
       "    <tr>\n",
       "      <th>state</th>\n",
       "      <td>0</td>\n",
       "      <td>0.000000</td>\n",
       "    </tr>\n",
       "    <tr>\n",
       "      <th>weekday</th>\n",
       "      <td>0</td>\n",
       "      <td>0.000000</td>\n",
       "    </tr>\n",
       "    <tr>\n",
       "      <th>dcoilwtico</th>\n",
       "      <td>0</td>\n",
       "      <td>0.000000</td>\n",
       "    </tr>\n",
       "    <tr>\n",
       "      <th>transactions</th>\n",
       "      <td>0</td>\n",
       "      <td>0.000000</td>\n",
       "    </tr>\n",
       "    <tr>\n",
       "      <th>contains_state</th>\n",
       "      <td>0</td>\n",
       "      <td>0.000000</td>\n",
       "    </tr>\n",
       "    <tr>\n",
       "      <th>contains_city</th>\n",
       "      <td>0</td>\n",
       "      <td>0.000000</td>\n",
       "    </tr>\n",
       "    <tr>\n",
       "      <th>cluster</th>\n",
       "      <td>0</td>\n",
       "      <td>0.000000</td>\n",
       "    </tr>\n",
       "    <tr>\n",
       "      <th>type</th>\n",
       "      <td>0</td>\n",
       "      <td>0.000000</td>\n",
       "    </tr>\n",
       "    <tr>\n",
       "      <th>city</th>\n",
       "      <td>0</td>\n",
       "      <td>0.000000</td>\n",
       "    </tr>\n",
       "    <tr>\n",
       "      <th>id</th>\n",
       "      <td>0</td>\n",
       "      <td>0.000000</td>\n",
       "    </tr>\n",
       "    <tr>\n",
       "      <th>holiday</th>\n",
       "      <td>0</td>\n",
       "      <td>0.000000</td>\n",
       "    </tr>\n",
       "    <tr>\n",
       "      <th>locale_name</th>\n",
       "      <td>0</td>\n",
       "      <td>0.000000</td>\n",
       "    </tr>\n",
       "    <tr>\n",
       "      <th>locale</th>\n",
       "      <td>0</td>\n",
       "      <td>0.000000</td>\n",
       "    </tr>\n",
       "    <tr>\n",
       "      <th>test</th>\n",
       "      <td>0</td>\n",
       "      <td>0.000000</td>\n",
       "    </tr>\n",
       "    <tr>\n",
       "      <th>onpromotion</th>\n",
       "      <td>0</td>\n",
       "      <td>0.000000</td>\n",
       "    </tr>\n",
       "    <tr>\n",
       "      <th>family</th>\n",
       "      <td>0</td>\n",
       "      <td>0.000000</td>\n",
       "    </tr>\n",
       "    <tr>\n",
       "      <th>store_nbr</th>\n",
       "      <td>0</td>\n",
       "      <td>0.000000</td>\n",
       "    </tr>\n",
       "    <tr>\n",
       "      <th>weekend_holi</th>\n",
       "      <td>0</td>\n",
       "      <td>0.000000</td>\n",
       "    </tr>\n",
       "  </tbody>\n",
       "</table>\n",
       "</div>"
      ],
      "text/plain": [
       "                Total     Ratio\n",
       "sales           28512  0.009249\n",
       "date                0  0.000000\n",
       "state               0  0.000000\n",
       "weekday             0  0.000000\n",
       "dcoilwtico          0  0.000000\n",
       "transactions        0  0.000000\n",
       "contains_state      0  0.000000\n",
       "contains_city       0  0.000000\n",
       "cluster             0  0.000000\n",
       "type                0  0.000000\n",
       "city                0  0.000000\n",
       "id                  0  0.000000\n",
       "holiday             0  0.000000\n",
       "locale_name         0  0.000000\n",
       "locale              0  0.000000\n",
       "test                0  0.000000\n",
       "onpromotion         0  0.000000\n",
       "family              0  0.000000\n",
       "store_nbr           0  0.000000\n",
       "weekend_holi        0  0.000000"
      ]
     },
     "execution_count": 54,
     "metadata": {},
     "output_type": "execute_result"
    }
   ],
   "source": [
    "#missing data\n",
    "null_count = merged_df.isnull().sum().sort_values(ascending=False)\n",
    "ratio = (merged_df.isnull().sum()/merged_df.isnull().count()).sort_values(ascending=False)\n",
    "missing_columns_count = pd.concat([null_count, ratio], axis=1, keys=['Total', 'Ratio'])\n",
    "missing_columns_count.head(40)"
   ]
  },
  {
   "cell_type": "markdown",
   "id": "53d99374",
   "metadata": {
    "papermill": {
     "duration": 0.036678,
     "end_time": "2024-01-19T11:17:27.669385",
     "exception": false,
     "start_time": "2024-01-19T11:17:27.632707",
     "status": "completed"
    },
    "tags": []
   },
   "source": [
    "### Check data type"
   ]
  },
  {
   "cell_type": "code",
   "execution_count": 55,
   "id": "6ab23434",
   "metadata": {
    "execution": {
     "iopub.execute_input": "2024-01-19T11:17:27.744967Z",
     "iopub.status.busy": "2024-01-19T11:17:27.744591Z",
     "iopub.status.idle": "2024-01-19T11:17:27.756827Z",
     "shell.execute_reply": "2024-01-19T11:17:27.755745Z"
    },
    "papermill": {
     "duration": 0.052901,
     "end_time": "2024-01-19T11:17:27.759013",
     "exception": false,
     "start_time": "2024-01-19T11:17:27.706112",
     "status": "completed"
    },
    "tags": []
   },
   "outputs": [
    {
     "name": "stdout",
     "output_type": "stream",
     "text": [
      "<class 'pandas.core.frame.DataFrame'>\n",
      "Index: 3082860 entries, 0 to 3082859\n",
      "Data columns (total 20 columns):\n",
      " #   Column          Dtype         \n",
      "---  ------          -----         \n",
      " 0   date            datetime64[ns]\n",
      " 1   id              float64       \n",
      " 2   store_nbr       float64       \n",
      " 3   family          object        \n",
      " 4   sales           float64       \n",
      " 5   onpromotion     float64       \n",
      " 6   test            float64       \n",
      " 7   locale          object        \n",
      " 8   locale_name     object        \n",
      " 9   holiday         float64       \n",
      " 10  city            object        \n",
      " 11  state           object        \n",
      " 12  type            object        \n",
      " 13  cluster         float64       \n",
      " 14  contains_city   object        \n",
      " 15  contains_state  object        \n",
      " 16  transactions    object        \n",
      " 17  dcoilwtico      float64       \n",
      " 18  weekday         int32         \n",
      " 19  weekend_holi    bool          \n",
      "dtypes: bool(1), datetime64[ns](1), float64(8), int32(1), object(9)\n",
      "memory usage: 461.6+ MB\n"
     ]
    }
   ],
   "source": [
    "merged_df.info()"
   ]
  },
  {
   "cell_type": "code",
   "execution_count": 56,
   "id": "bbdcca4a",
   "metadata": {
    "execution": {
     "iopub.execute_input": "2024-01-19T11:17:27.837271Z",
     "iopub.status.busy": "2024-01-19T11:17:27.836895Z",
     "iopub.status.idle": "2024-01-19T11:17:28.810720Z",
     "shell.execute_reply": "2024-01-19T11:17:28.809408Z"
    },
    "papermill": {
     "duration": 1.015563,
     "end_time": "2024-01-19T11:17:28.813530",
     "exception": false,
     "start_time": "2024-01-19T11:17:27.797967",
     "status": "completed"
    },
    "tags": []
   },
   "outputs": [],
   "source": [
    "# 设置条件：'locale' 是 'Local' 或 'Regional'，且 'contains_city' 和 'contains_state' 都是 False\n",
    "condition = merged_df['locale'].isin(['Local', 'Regional']) & ~(merged_df['contains_city'] | merged_df['contains_state'])\n",
    "\n",
    "# 只更新符合条件且 'weekend_holi' 当前为 True 的行\n",
    "merged_df.loc[condition & (merged_df['weekend_holi'] == True), 'weekend_holi'] = False"
   ]
  },
  {
   "cell_type": "code",
   "execution_count": 57,
   "id": "7beabad6",
   "metadata": {
    "execution": {
     "iopub.execute_input": "2024-01-19T11:17:28.890894Z",
     "iopub.status.busy": "2024-01-19T11:17:28.890467Z",
     "iopub.status.idle": "2024-01-19T11:17:28.991482Z",
     "shell.execute_reply": "2024-01-19T11:17:28.990131Z"
    },
    "papermill": {
     "duration": 0.142188,
     "end_time": "2024-01-19T11:17:28.993915",
     "exception": false,
     "start_time": "2024-01-19T11:17:28.851727",
     "status": "completed"
    },
    "tags": []
   },
   "outputs": [
    {
     "name": "stdout",
     "output_type": "stream",
     "text": [
      "Fit local name btw store place and local/regional holiday： 13233\n"
     ]
    }
   ],
   "source": [
    "# set condition as locale name fits 'Local' or 'Regional' in holiday data\n",
    "condition = (merged_df['weekend_holi'] == True) & merged_df['locale'].isin(['Local', 'Regional'])\n",
    "\n",
    "# find if there's any fit and how many\n",
    "count = merged_df[condition].shape[0]\n",
    "\n",
    "print(\"Fit local name btw store place and local/regional holiday：\", count)"
   ]
  },
  {
   "cell_type": "markdown",
   "id": "96fcee9a",
   "metadata": {
    "papermill": {
     "duration": 0.037136,
     "end_time": "2024-01-19T11:17:29.068751",
     "exception": false,
     "start_time": "2024-01-19T11:17:29.031615",
     "status": "completed"
    },
    "tags": []
   },
   "source": [
    "### Drop unnecessary columns to save memory"
   ]
  },
  {
   "cell_type": "code",
   "execution_count": 58,
   "id": "d5ebf178",
   "metadata": {
    "execution": {
     "iopub.execute_input": "2024-01-19T11:17:29.145975Z",
     "iopub.status.busy": "2024-01-19T11:17:29.145116Z",
     "iopub.status.idle": "2024-01-19T11:17:29.343773Z",
     "shell.execute_reply": "2024-01-19T11:17:29.342838Z"
    },
    "papermill": {
     "duration": 0.240101,
     "end_time": "2024-01-19T11:17:29.346458",
     "exception": false,
     "start_time": "2024-01-19T11:17:29.106357",
     "status": "completed"
    },
    "tags": []
   },
   "outputs": [],
   "source": [
    "merged_df = merged_df.drop(['test', 'locale', 'locale_name', 'holiday', 'city', 'state', 'contains_city', 'contains_state', 'weekday'], axis=1)"
   ]
  },
  {
   "cell_type": "code",
   "execution_count": 59,
   "id": "053fa1d0",
   "metadata": {
    "execution": {
     "iopub.execute_input": "2024-01-19T11:17:29.424092Z",
     "iopub.status.busy": "2024-01-19T11:17:29.423419Z",
     "iopub.status.idle": "2024-01-19T11:17:30.253550Z",
     "shell.execute_reply": "2024-01-19T11:17:30.252482Z"
    },
    "papermill": {
     "duration": 0.872301,
     "end_time": "2024-01-19T11:17:30.256326",
     "exception": false,
     "start_time": "2024-01-19T11:17:29.384025",
     "status": "completed"
    },
    "tags": []
   },
   "outputs": [],
   "source": [
    "merged_df['transactions'] = merged_df['transactions'].replace('', 0)"
   ]
  },
  {
   "cell_type": "code",
   "execution_count": 60,
   "id": "fcfb461e",
   "metadata": {
    "execution": {
     "iopub.execute_input": "2024-01-19T11:17:30.333170Z",
     "iopub.status.busy": "2024-01-19T11:17:30.332751Z",
     "iopub.status.idle": "2024-01-19T11:17:56.666800Z",
     "shell.execute_reply": "2024-01-19T11:17:56.665839Z"
    },
    "papermill": {
     "duration": 26.375801,
     "end_time": "2024-01-19T11:17:56.669612",
     "exception": false,
     "start_time": "2024-01-19T11:17:30.293811",
     "status": "completed"
    },
    "tags": []
   },
   "outputs": [],
   "source": [
    "merged_df['date'] = merged_df['date'].dt.strftime(\"%Y%m%d\").astype(int)\n",
    "merged_df['store_nbr'] = merged_df['store_nbr'].astype('int')\n",
    "merged_df['transactions'] = merged_df['transactions'].astype('int')\n",
    "merged_df['weekend_holi'] = merged_df['weekend_holi'].astype('int')"
   ]
  },
  {
   "cell_type": "code",
   "execution_count": 61,
   "id": "e96d3736",
   "metadata": {
    "execution": {
     "iopub.execute_input": "2024-01-19T11:17:56.747861Z",
     "iopub.status.busy": "2024-01-19T11:17:56.747230Z",
     "iopub.status.idle": "2024-01-19T11:17:58.971692Z",
     "shell.execute_reply": "2024-01-19T11:17:58.970565Z"
    },
    "papermill": {
     "duration": 2.266437,
     "end_time": "2024-01-19T11:17:58.974476",
     "exception": false,
     "start_time": "2024-01-19T11:17:56.708039",
     "status": "completed"
    },
    "tags": []
   },
   "outputs": [],
   "source": [
    "# Encode labels\n",
    "\n",
    "from sklearn.preprocessing import LabelEncoder\n",
    "\n",
    "label_encoder = LabelEncoder()\n",
    "\n",
    "#merged_df['date_encoded'] = label_encoder.fit_transform(merged_df['date'])\n",
    "merged_df['family_encoded'] = label_encoder.fit_transform(merged_df['family'])\n",
    "merged_df['type_encoded'] = label_encoder.fit_transform(merged_df['type'])\n",
    "merged_df['onpromotion_encoded'] = label_encoder.fit_transform(merged_df['onpromotion'])\n",
    "merged_df['cluster_encoded'] = label_encoder.fit_transform(merged_df['cluster'])"
   ]
  },
  {
   "cell_type": "code",
   "execution_count": 62,
   "id": "1db74d05",
   "metadata": {
    "execution": {
     "iopub.execute_input": "2024-01-19T11:17:59.053622Z",
     "iopub.status.busy": "2024-01-19T11:17:59.052937Z",
     "iopub.status.idle": "2024-01-19T11:17:59.232419Z",
     "shell.execute_reply": "2024-01-19T11:17:59.231123Z"
    },
    "papermill": {
     "duration": 0.221757,
     "end_time": "2024-01-19T11:17:59.235169",
     "exception": false,
     "start_time": "2024-01-19T11:17:59.013412",
     "status": "completed"
    },
    "tags": []
   },
   "outputs": [],
   "source": [
    "merged_df = merged_df.drop(['id', 'family', 'type', 'onpromotion', 'cluster'], axis=1)"
   ]
  },
  {
   "cell_type": "code",
   "execution_count": 63,
   "id": "e6a2a4cd",
   "metadata": {
    "execution": {
     "iopub.execute_input": "2024-01-19T11:17:59.312296Z",
     "iopub.status.busy": "2024-01-19T11:17:59.311624Z",
     "iopub.status.idle": "2024-01-19T11:17:59.322646Z",
     "shell.execute_reply": "2024-01-19T11:17:59.321595Z"
    },
    "papermill": {
     "duration": 0.052067,
     "end_time": "2024-01-19T11:17:59.325264",
     "exception": false,
     "start_time": "2024-01-19T11:17:59.273197",
     "status": "completed"
    },
    "tags": []
   },
   "outputs": [
    {
     "name": "stdout",
     "output_type": "stream",
     "text": [
      "<class 'pandas.core.frame.DataFrame'>\n",
      "Index: 3082860 entries, 0 to 3082859\n",
      "Data columns (total 10 columns):\n",
      " #   Column               Dtype  \n",
      "---  ------               -----  \n",
      " 0   date                 int64  \n",
      " 1   store_nbr            int64  \n",
      " 2   sales                float64\n",
      " 3   transactions         int64  \n",
      " 4   dcoilwtico           float64\n",
      " 5   weekend_holi         int64  \n",
      " 6   family_encoded       int64  \n",
      " 7   type_encoded         int64  \n",
      " 8   onpromotion_encoded  int64  \n",
      " 9   cluster_encoded      int64  \n",
      "dtypes: float64(2), int64(8)\n",
      "memory usage: 258.7 MB\n"
     ]
    }
   ],
   "source": [
    "merged_df.info()"
   ]
  },
  {
   "cell_type": "code",
   "execution_count": 64,
   "id": "5fb3ed72",
   "metadata": {
    "execution": {
     "iopub.execute_input": "2024-01-19T11:17:59.402241Z",
     "iopub.status.busy": "2024-01-19T11:17:59.401821Z",
     "iopub.status.idle": "2024-01-19T11:17:59.422186Z",
     "shell.execute_reply": "2024-01-19T11:17:59.421372Z"
    },
    "papermill": {
     "duration": 0.061914,
     "end_time": "2024-01-19T11:17:59.424331",
     "exception": false,
     "start_time": "2024-01-19T11:17:59.362417",
     "status": "completed"
    },
    "tags": []
   },
   "outputs": [
    {
     "data": {
      "text/html": [
       "<div>\n",
       "<style scoped>\n",
       "    .dataframe tbody tr th:only-of-type {\n",
       "        vertical-align: middle;\n",
       "    }\n",
       "\n",
       "    .dataframe tbody tr th {\n",
       "        vertical-align: top;\n",
       "    }\n",
       "\n",
       "    .dataframe thead th {\n",
       "        text-align: right;\n",
       "    }\n",
       "</style>\n",
       "<table border=\"1\" class=\"dataframe\">\n",
       "  <thead>\n",
       "    <tr style=\"text-align: right;\">\n",
       "      <th></th>\n",
       "      <th>date</th>\n",
       "      <th>store_nbr</th>\n",
       "      <th>sales</th>\n",
       "      <th>transactions</th>\n",
       "      <th>dcoilwtico</th>\n",
       "      <th>weekend_holi</th>\n",
       "      <th>family_encoded</th>\n",
       "      <th>type_encoded</th>\n",
       "      <th>onpromotion_encoded</th>\n",
       "      <th>cluster_encoded</th>\n",
       "    </tr>\n",
       "  </thead>\n",
       "  <tbody>\n",
       "    <tr>\n",
       "      <th>0</th>\n",
       "      <td>20130101</td>\n",
       "      <td>1</td>\n",
       "      <td>0.0</td>\n",
       "      <td>0</td>\n",
       "      <td>93.14</td>\n",
       "      <td>1</td>\n",
       "      <td>0</td>\n",
       "      <td>3</td>\n",
       "      <td>0</td>\n",
       "      <td>12</td>\n",
       "    </tr>\n",
       "    <tr>\n",
       "      <th>1</th>\n",
       "      <td>20130101</td>\n",
       "      <td>1</td>\n",
       "      <td>0.0</td>\n",
       "      <td>0</td>\n",
       "      <td>93.14</td>\n",
       "      <td>1</td>\n",
       "      <td>1</td>\n",
       "      <td>3</td>\n",
       "      <td>0</td>\n",
       "      <td>12</td>\n",
       "    </tr>\n",
       "    <tr>\n",
       "      <th>2</th>\n",
       "      <td>20130101</td>\n",
       "      <td>1</td>\n",
       "      <td>0.0</td>\n",
       "      <td>0</td>\n",
       "      <td>93.14</td>\n",
       "      <td>1</td>\n",
       "      <td>2</td>\n",
       "      <td>3</td>\n",
       "      <td>0</td>\n",
       "      <td>12</td>\n",
       "    </tr>\n",
       "    <tr>\n",
       "      <th>3</th>\n",
       "      <td>20130101</td>\n",
       "      <td>1</td>\n",
       "      <td>0.0</td>\n",
       "      <td>0</td>\n",
       "      <td>93.14</td>\n",
       "      <td>1</td>\n",
       "      <td>3</td>\n",
       "      <td>3</td>\n",
       "      <td>0</td>\n",
       "      <td>12</td>\n",
       "    </tr>\n",
       "    <tr>\n",
       "      <th>4</th>\n",
       "      <td>20130101</td>\n",
       "      <td>1</td>\n",
       "      <td>0.0</td>\n",
       "      <td>0</td>\n",
       "      <td>93.14</td>\n",
       "      <td>1</td>\n",
       "      <td>4</td>\n",
       "      <td>3</td>\n",
       "      <td>0</td>\n",
       "      <td>12</td>\n",
       "    </tr>\n",
       "    <tr>\n",
       "      <th>...</th>\n",
       "      <td>...</td>\n",
       "      <td>...</td>\n",
       "      <td>...</td>\n",
       "      <td>...</td>\n",
       "      <td>...</td>\n",
       "      <td>...</td>\n",
       "      <td>...</td>\n",
       "      <td>...</td>\n",
       "      <td>...</td>\n",
       "      <td>...</td>\n",
       "    </tr>\n",
       "    <tr>\n",
       "      <th>3082855</th>\n",
       "      <td>20170831</td>\n",
       "      <td>9</td>\n",
       "      <td>NaN</td>\n",
       "      <td>0</td>\n",
       "      <td>47.26</td>\n",
       "      <td>0</td>\n",
       "      <td>28</td>\n",
       "      <td>1</td>\n",
       "      <td>1</td>\n",
       "      <td>5</td>\n",
       "    </tr>\n",
       "    <tr>\n",
       "      <th>3082856</th>\n",
       "      <td>20170831</td>\n",
       "      <td>9</td>\n",
       "      <td>NaN</td>\n",
       "      <td>0</td>\n",
       "      <td>47.26</td>\n",
       "      <td>0</td>\n",
       "      <td>29</td>\n",
       "      <td>1</td>\n",
       "      <td>0</td>\n",
       "      <td>5</td>\n",
       "    </tr>\n",
       "    <tr>\n",
       "      <th>3082857</th>\n",
       "      <td>20170831</td>\n",
       "      <td>9</td>\n",
       "      <td>NaN</td>\n",
       "      <td>0</td>\n",
       "      <td>47.26</td>\n",
       "      <td>0</td>\n",
       "      <td>30</td>\n",
       "      <td>1</td>\n",
       "      <td>1</td>\n",
       "      <td>5</td>\n",
       "    </tr>\n",
       "    <tr>\n",
       "      <th>3082858</th>\n",
       "      <td>20170831</td>\n",
       "      <td>9</td>\n",
       "      <td>NaN</td>\n",
       "      <td>0</td>\n",
       "      <td>47.26</td>\n",
       "      <td>0</td>\n",
       "      <td>31</td>\n",
       "      <td>1</td>\n",
       "      <td>9</td>\n",
       "      <td>5</td>\n",
       "    </tr>\n",
       "    <tr>\n",
       "      <th>3082859</th>\n",
       "      <td>20170831</td>\n",
       "      <td>9</td>\n",
       "      <td>NaN</td>\n",
       "      <td>0</td>\n",
       "      <td>47.26</td>\n",
       "      <td>0</td>\n",
       "      <td>32</td>\n",
       "      <td>1</td>\n",
       "      <td>0</td>\n",
       "      <td>5</td>\n",
       "    </tr>\n",
       "  </tbody>\n",
       "</table>\n",
       "<p>3082860 rows × 10 columns</p>\n",
       "</div>"
      ],
      "text/plain": [
       "             date  store_nbr  sales  transactions  dcoilwtico  weekend_holi  \\\n",
       "0        20130101          1    0.0             0       93.14             1   \n",
       "1        20130101          1    0.0             0       93.14             1   \n",
       "2        20130101          1    0.0             0       93.14             1   \n",
       "3        20130101          1    0.0             0       93.14             1   \n",
       "4        20130101          1    0.0             0       93.14             1   \n",
       "...           ...        ...    ...           ...         ...           ...   \n",
       "3082855  20170831          9    NaN             0       47.26             0   \n",
       "3082856  20170831          9    NaN             0       47.26             0   \n",
       "3082857  20170831          9    NaN             0       47.26             0   \n",
       "3082858  20170831          9    NaN             0       47.26             0   \n",
       "3082859  20170831          9    NaN             0       47.26             0   \n",
       "\n",
       "         family_encoded  type_encoded  onpromotion_encoded  cluster_encoded  \n",
       "0                     0             3                    0               12  \n",
       "1                     1             3                    0               12  \n",
       "2                     2             3                    0               12  \n",
       "3                     3             3                    0               12  \n",
       "4                     4             3                    0               12  \n",
       "...                 ...           ...                  ...              ...  \n",
       "3082855              28             1                    1                5  \n",
       "3082856              29             1                    0                5  \n",
       "3082857              30             1                    1                5  \n",
       "3082858              31             1                    9                5  \n",
       "3082859              32             1                    0                5  \n",
       "\n",
       "[3082860 rows x 10 columns]"
      ]
     },
     "execution_count": 64,
     "metadata": {},
     "output_type": "execute_result"
    }
   ],
   "source": [
    "merged_df"
   ]
  },
  {
   "cell_type": "markdown",
   "id": "94e8b5c7",
   "metadata": {
    "papermill": {
     "duration": 0.037767,
     "end_time": "2024-01-19T11:17:59.499795",
     "exception": false,
     "start_time": "2024-01-19T11:17:59.462028",
     "status": "completed"
    },
    "tags": []
   },
   "source": [
    "## Split to train, valid, and test\n",
    "- (to do) train deep learning model"
   ]
  },
  {
   "cell_type": "code",
   "execution_count": 65,
   "id": "b36f1d64",
   "metadata": {
    "execution": {
     "iopub.execute_input": "2024-01-19T11:17:59.577740Z",
     "iopub.status.busy": "2024-01-19T11:17:59.577333Z",
     "iopub.status.idle": "2024-01-19T11:17:59.791196Z",
     "shell.execute_reply": "2024-01-19T11:17:59.789996Z"
    },
    "papermill": {
     "duration": 0.255718,
     "end_time": "2024-01-19T11:17:59.793808",
     "exception": false,
     "start_time": "2024-01-19T11:17:59.538090",
     "status": "completed"
    },
    "tags": []
   },
   "outputs": [],
   "source": [
    "df_train = merged_df.loc[merged_df['sales'].notnull()]\n",
    "df_test = merged_df.loc[merged_df['sales'].isnull()]\n",
    "df_test = df_test.drop(['sales'], axis=1)"
   ]
  },
  {
   "cell_type": "code",
   "execution_count": 66,
   "id": "f5e875bd",
   "metadata": {
    "execution": {
     "iopub.execute_input": "2024-01-19T11:17:59.872597Z",
     "iopub.status.busy": "2024-01-19T11:17:59.872181Z",
     "iopub.status.idle": "2024-01-19T11:17:59.942470Z",
     "shell.execute_reply": "2024-01-19T11:17:59.941342Z"
    },
    "papermill": {
     "duration": 0.113202,
     "end_time": "2024-01-19T11:17:59.945139",
     "exception": false,
     "start_time": "2024-01-19T11:17:59.831937",
     "status": "completed"
    },
    "tags": []
   },
   "outputs": [
    {
     "name": "stderr",
     "output_type": "stream",
     "text": [
      "/tmp/ipykernel_18/376460148.py:2: SettingWithCopyWarning: \n",
      "A value is trying to be set on a copy of a slice from a DataFrame.\n",
      "Try using .loc[row_indexer,col_indexer] = value instead\n",
      "\n",
      "See the caveats in the documentation: https://pandas.pydata.org/pandas-docs/stable/user_guide/indexing.html#returning-a-view-versus-a-copy\n",
      "  df_train['date'] = pd.to_datetime(df_train['date'], format='%Y%m%d')\n"
     ]
    }
   ],
   "source": [
    "# convert date index to datetime datatype\n",
    "df_train['date'] = pd.to_datetime(df_train['date'], format='%Y%m%d')\n",
    "df_test['date'] = pd.to_datetime(df_test['date'], format='%Y%m%d')"
   ]
  },
  {
   "cell_type": "code",
   "execution_count": 67,
   "id": "eaa4a67b",
   "metadata": {
    "execution": {
     "iopub.execute_input": "2024-01-19T11:18:00.023261Z",
     "iopub.status.busy": "2024-01-19T11:18:00.022806Z",
     "iopub.status.idle": "2024-01-19T11:18:00.355011Z",
     "shell.execute_reply": "2024-01-19T11:18:00.353941Z"
    },
    "papermill": {
     "duration": 0.37492,
     "end_time": "2024-01-19T11:18:00.357962",
     "exception": false,
     "start_time": "2024-01-19T11:17:59.983042",
     "status": "completed"
    },
    "tags": []
   },
   "outputs": [
    {
     "data": {
      "text/html": [
       "<div>\n",
       "<style scoped>\n",
       "    .dataframe tbody tr th:only-of-type {\n",
       "        vertical-align: middle;\n",
       "    }\n",
       "\n",
       "    .dataframe tbody tr th {\n",
       "        vertical-align: top;\n",
       "    }\n",
       "\n",
       "    .dataframe thead th {\n",
       "        text-align: right;\n",
       "    }\n",
       "</style>\n",
       "<table border=\"1\" class=\"dataframe\">\n",
       "  <thead>\n",
       "    <tr style=\"text-align: right;\">\n",
       "      <th></th>\n",
       "      <th>store_nbr</th>\n",
       "      <th>sales</th>\n",
       "      <th>transactions</th>\n",
       "      <th>dcoilwtico</th>\n",
       "      <th>weekend_holi</th>\n",
       "      <th>family_encoded</th>\n",
       "      <th>type_encoded</th>\n",
       "      <th>onpromotion_encoded</th>\n",
       "      <th>cluster_encoded</th>\n",
       "    </tr>\n",
       "    <tr>\n",
       "      <th>date</th>\n",
       "      <th></th>\n",
       "      <th></th>\n",
       "      <th></th>\n",
       "      <th></th>\n",
       "      <th></th>\n",
       "      <th></th>\n",
       "      <th></th>\n",
       "      <th></th>\n",
       "      <th></th>\n",
       "    </tr>\n",
       "  </thead>\n",
       "  <tbody>\n",
       "    <tr>\n",
       "      <th>2013-01-01</th>\n",
       "      <td>27.5</td>\n",
       "      <td>1.409438</td>\n",
       "      <td>14.259259</td>\n",
       "      <td>93.140000</td>\n",
       "      <td>1.000000</td>\n",
       "      <td>16.0</td>\n",
       "      <td>2.0</td>\n",
       "      <td>0.000000</td>\n",
       "      <td>7.481481</td>\n",
       "    </tr>\n",
       "    <tr>\n",
       "      <th>2013-01-02</th>\n",
       "      <td>27.5</td>\n",
       "      <td>278.390807</td>\n",
       "      <td>1726.203704</td>\n",
       "      <td>93.140000</td>\n",
       "      <td>0.000000</td>\n",
       "      <td>16.0</td>\n",
       "      <td>2.0</td>\n",
       "      <td>0.000000</td>\n",
       "      <td>7.481481</td>\n",
       "    </tr>\n",
       "    <tr>\n",
       "      <th>2013-01-03</th>\n",
       "      <td>27.5</td>\n",
       "      <td>202.840197</td>\n",
       "      <td>1453.777778</td>\n",
       "      <td>92.970000</td>\n",
       "      <td>0.000000</td>\n",
       "      <td>16.0</td>\n",
       "      <td>2.0</td>\n",
       "      <td>0.000000</td>\n",
       "      <td>7.481481</td>\n",
       "    </tr>\n",
       "    <tr>\n",
       "      <th>2013-01-04</th>\n",
       "      <td>27.5</td>\n",
       "      <td>198.911154</td>\n",
       "      <td>1453.592593</td>\n",
       "      <td>93.120000</td>\n",
       "      <td>0.000000</td>\n",
       "      <td>16.0</td>\n",
       "      <td>2.0</td>\n",
       "      <td>0.000000</td>\n",
       "      <td>7.481481</td>\n",
       "    </tr>\n",
       "    <tr>\n",
       "      <th>2013-01-05</th>\n",
       "      <td>27.5</td>\n",
       "      <td>267.873244</td>\n",
       "      <td>1732.833333</td>\n",
       "      <td>93.140006</td>\n",
       "      <td>1.000000</td>\n",
       "      <td>16.0</td>\n",
       "      <td>2.0</td>\n",
       "      <td>0.000000</td>\n",
       "      <td>7.481481</td>\n",
       "    </tr>\n",
       "    <tr>\n",
       "      <th>...</th>\n",
       "      <td>...</td>\n",
       "      <td>...</td>\n",
       "      <td>...</td>\n",
       "      <td>...</td>\n",
       "      <td>...</td>\n",
       "      <td>...</td>\n",
       "      <td>...</td>\n",
       "      <td>...</td>\n",
       "      <td>...</td>\n",
       "    </tr>\n",
       "    <tr>\n",
       "      <th>2017-08-11</th>\n",
       "      <td>27.5</td>\n",
       "      <td>463.733851</td>\n",
       "      <td>1658.351852</td>\n",
       "      <td>48.810000</td>\n",
       "      <td>1.000000</td>\n",
       "      <td>16.0</td>\n",
       "      <td>2.0</td>\n",
       "      <td>7.956790</td>\n",
       "      <td>7.481481</td>\n",
       "    </tr>\n",
       "    <tr>\n",
       "      <th>2017-08-12</th>\n",
       "      <td>27.5</td>\n",
       "      <td>444.798280</td>\n",
       "      <td>1665.314815</td>\n",
       "      <td>48.504914</td>\n",
       "      <td>1.000000</td>\n",
       "      <td>16.0</td>\n",
       "      <td>2.0</td>\n",
       "      <td>4.664422</td>\n",
       "      <td>7.481481</td>\n",
       "    </tr>\n",
       "    <tr>\n",
       "      <th>2017-08-13</th>\n",
       "      <td>27.5</td>\n",
       "      <td>485.768618</td>\n",
       "      <td>1592.462963</td>\n",
       "      <td>47.895086</td>\n",
       "      <td>1.000000</td>\n",
       "      <td>16.0</td>\n",
       "      <td>2.0</td>\n",
       "      <td>5.209315</td>\n",
       "      <td>7.481481</td>\n",
       "    </tr>\n",
       "    <tr>\n",
       "      <th>2017-08-14</th>\n",
       "      <td>27.5</td>\n",
       "      <td>427.004717</td>\n",
       "      <td>1582.370370</td>\n",
       "      <td>47.590000</td>\n",
       "      <td>0.000000</td>\n",
       "      <td>16.0</td>\n",
       "      <td>2.0</td>\n",
       "      <td>4.513468</td>\n",
       "      <td>7.481481</td>\n",
       "    </tr>\n",
       "    <tr>\n",
       "      <th>2017-08-15</th>\n",
       "      <td>27.5</td>\n",
       "      <td>427.980884</td>\n",
       "      <td>1602.981481</td>\n",
       "      <td>47.570000</td>\n",
       "      <td>0.018519</td>\n",
       "      <td>16.0</td>\n",
       "      <td>2.0</td>\n",
       "      <td>5.951178</td>\n",
       "      <td>7.481481</td>\n",
       "    </tr>\n",
       "  </tbody>\n",
       "</table>\n",
       "<p>1684 rows × 9 columns</p>\n",
       "</div>"
      ],
      "text/plain": [
       "            store_nbr       sales  transactions  dcoilwtico  weekend_holi  \\\n",
       "date                                                                        \n",
       "2013-01-01       27.5    1.409438     14.259259   93.140000      1.000000   \n",
       "2013-01-02       27.5  278.390807   1726.203704   93.140000      0.000000   \n",
       "2013-01-03       27.5  202.840197   1453.777778   92.970000      0.000000   \n",
       "2013-01-04       27.5  198.911154   1453.592593   93.120000      0.000000   \n",
       "2013-01-05       27.5  267.873244   1732.833333   93.140006      1.000000   \n",
       "...               ...         ...           ...         ...           ...   \n",
       "2017-08-11       27.5  463.733851   1658.351852   48.810000      1.000000   \n",
       "2017-08-12       27.5  444.798280   1665.314815   48.504914      1.000000   \n",
       "2017-08-13       27.5  485.768618   1592.462963   47.895086      1.000000   \n",
       "2017-08-14       27.5  427.004717   1582.370370   47.590000      0.000000   \n",
       "2017-08-15       27.5  427.980884   1602.981481   47.570000      0.018519   \n",
       "\n",
       "            family_encoded  type_encoded  onpromotion_encoded  cluster_encoded  \n",
       "date                                                                            \n",
       "2013-01-01            16.0           2.0             0.000000         7.481481  \n",
       "2013-01-02            16.0           2.0             0.000000         7.481481  \n",
       "2013-01-03            16.0           2.0             0.000000         7.481481  \n",
       "2013-01-04            16.0           2.0             0.000000         7.481481  \n",
       "2013-01-05            16.0           2.0             0.000000         7.481481  \n",
       "...                    ...           ...                  ...              ...  \n",
       "2017-08-11            16.0           2.0             7.956790         7.481481  \n",
       "2017-08-12            16.0           2.0             4.664422         7.481481  \n",
       "2017-08-13            16.0           2.0             5.209315         7.481481  \n",
       "2017-08-14            16.0           2.0             4.513468         7.481481  \n",
       "2017-08-15            16.0           2.0             5.951178         7.481481  \n",
       "\n",
       "[1684 rows x 9 columns]"
      ]
     },
     "execution_count": 67,
     "metadata": {},
     "output_type": "execute_result"
    }
   ],
   "source": [
    "df_train.groupby(df_train.date).mean()"
   ]
  },
  {
   "cell_type": "markdown",
   "id": "06e7e00e",
   "metadata": {
    "papermill": {
     "duration": 0.038286,
     "end_time": "2024-01-19T11:18:00.436515",
     "exception": false,
     "start_time": "2024-01-19T11:18:00.398229",
     "status": "completed"
    },
    "tags": []
   },
   "source": [
    "### Prepare data for VAR model"
   ]
  },
  {
   "cell_type": "code",
   "execution_count": 68,
   "id": "828dbad5",
   "metadata": {
    "execution": {
     "iopub.execute_input": "2024-01-19T11:18:00.516187Z",
     "iopub.status.busy": "2024-01-19T11:18:00.515756Z",
     "iopub.status.idle": "2024-01-19T11:18:00.829358Z",
     "shell.execute_reply": "2024-01-19T11:18:00.828406Z"
    },
    "papermill": {
     "duration": 0.35629,
     "end_time": "2024-01-19T11:18:00.832023",
     "exception": false,
     "start_time": "2024-01-19T11:18:00.475733",
     "status": "completed"
    },
    "tags": []
   },
   "outputs": [],
   "source": [
    "df_grouptrain = df_train.groupby(df_train.date).mean()\n",
    "df_grouptrain = df_grouptrain.drop(['store_nbr', 'family_encoded', 'type_encoded', 'cluster_encoded'], axis=1)"
   ]
  },
  {
   "cell_type": "code",
   "execution_count": 69,
   "id": "81b0ea2c",
   "metadata": {
    "execution": {
     "iopub.execute_input": "2024-01-19T11:18:00.912133Z",
     "iopub.status.busy": "2024-01-19T11:18:00.911717Z",
     "iopub.status.idle": "2024-01-19T11:18:00.929393Z",
     "shell.execute_reply": "2024-01-19T11:18:00.928274Z"
    },
    "papermill": {
     "duration": 0.061055,
     "end_time": "2024-01-19T11:18:00.931647",
     "exception": false,
     "start_time": "2024-01-19T11:18:00.870592",
     "status": "completed"
    },
    "tags": []
   },
   "outputs": [
    {
     "data": {
      "text/html": [
       "<div>\n",
       "<style scoped>\n",
       "    .dataframe tbody tr th:only-of-type {\n",
       "        vertical-align: middle;\n",
       "    }\n",
       "\n",
       "    .dataframe tbody tr th {\n",
       "        vertical-align: top;\n",
       "    }\n",
       "\n",
       "    .dataframe thead th {\n",
       "        text-align: right;\n",
       "    }\n",
       "</style>\n",
       "<table border=\"1\" class=\"dataframe\">\n",
       "  <thead>\n",
       "    <tr style=\"text-align: right;\">\n",
       "      <th></th>\n",
       "      <th>sales</th>\n",
       "      <th>transactions</th>\n",
       "      <th>dcoilwtico</th>\n",
       "      <th>weekend_holi</th>\n",
       "      <th>onpromotion_encoded</th>\n",
       "    </tr>\n",
       "    <tr>\n",
       "      <th>date</th>\n",
       "      <th></th>\n",
       "      <th></th>\n",
       "      <th></th>\n",
       "      <th></th>\n",
       "      <th></th>\n",
       "    </tr>\n",
       "  </thead>\n",
       "  <tbody>\n",
       "    <tr>\n",
       "      <th>2013-01-01</th>\n",
       "      <td>1.409438</td>\n",
       "      <td>14.259259</td>\n",
       "      <td>93.140000</td>\n",
       "      <td>1.000000</td>\n",
       "      <td>0.000000</td>\n",
       "    </tr>\n",
       "    <tr>\n",
       "      <th>2013-01-02</th>\n",
       "      <td>278.390807</td>\n",
       "      <td>1726.203704</td>\n",
       "      <td>93.140000</td>\n",
       "      <td>0.000000</td>\n",
       "      <td>0.000000</td>\n",
       "    </tr>\n",
       "    <tr>\n",
       "      <th>2013-01-03</th>\n",
       "      <td>202.840197</td>\n",
       "      <td>1453.777778</td>\n",
       "      <td>92.970000</td>\n",
       "      <td>0.000000</td>\n",
       "      <td>0.000000</td>\n",
       "    </tr>\n",
       "    <tr>\n",
       "      <th>2013-01-04</th>\n",
       "      <td>198.911154</td>\n",
       "      <td>1453.592593</td>\n",
       "      <td>93.120000</td>\n",
       "      <td>0.000000</td>\n",
       "      <td>0.000000</td>\n",
       "    </tr>\n",
       "    <tr>\n",
       "      <th>2013-01-05</th>\n",
       "      <td>267.873244</td>\n",
       "      <td>1732.833333</td>\n",
       "      <td>93.140006</td>\n",
       "      <td>1.000000</td>\n",
       "      <td>0.000000</td>\n",
       "    </tr>\n",
       "    <tr>\n",
       "      <th>...</th>\n",
       "      <td>...</td>\n",
       "      <td>...</td>\n",
       "      <td>...</td>\n",
       "      <td>...</td>\n",
       "      <td>...</td>\n",
       "    </tr>\n",
       "    <tr>\n",
       "      <th>2017-08-11</th>\n",
       "      <td>463.733851</td>\n",
       "      <td>1658.351852</td>\n",
       "      <td>48.810000</td>\n",
       "      <td>1.000000</td>\n",
       "      <td>7.956790</td>\n",
       "    </tr>\n",
       "    <tr>\n",
       "      <th>2017-08-12</th>\n",
       "      <td>444.798280</td>\n",
       "      <td>1665.314815</td>\n",
       "      <td>48.504914</td>\n",
       "      <td>1.000000</td>\n",
       "      <td>4.664422</td>\n",
       "    </tr>\n",
       "    <tr>\n",
       "      <th>2017-08-13</th>\n",
       "      <td>485.768618</td>\n",
       "      <td>1592.462963</td>\n",
       "      <td>47.895086</td>\n",
       "      <td>1.000000</td>\n",
       "      <td>5.209315</td>\n",
       "    </tr>\n",
       "    <tr>\n",
       "      <th>2017-08-14</th>\n",
       "      <td>427.004717</td>\n",
       "      <td>1582.370370</td>\n",
       "      <td>47.590000</td>\n",
       "      <td>0.000000</td>\n",
       "      <td>4.513468</td>\n",
       "    </tr>\n",
       "    <tr>\n",
       "      <th>2017-08-15</th>\n",
       "      <td>427.980884</td>\n",
       "      <td>1602.981481</td>\n",
       "      <td>47.570000</td>\n",
       "      <td>0.018519</td>\n",
       "      <td>5.951178</td>\n",
       "    </tr>\n",
       "  </tbody>\n",
       "</table>\n",
       "<p>1684 rows × 5 columns</p>\n",
       "</div>"
      ],
      "text/plain": [
       "                 sales  transactions  dcoilwtico  weekend_holi  \\\n",
       "date                                                             \n",
       "2013-01-01    1.409438     14.259259   93.140000      1.000000   \n",
       "2013-01-02  278.390807   1726.203704   93.140000      0.000000   \n",
       "2013-01-03  202.840197   1453.777778   92.970000      0.000000   \n",
       "2013-01-04  198.911154   1453.592593   93.120000      0.000000   \n",
       "2013-01-05  267.873244   1732.833333   93.140006      1.000000   \n",
       "...                ...           ...         ...           ...   \n",
       "2017-08-11  463.733851   1658.351852   48.810000      1.000000   \n",
       "2017-08-12  444.798280   1665.314815   48.504914      1.000000   \n",
       "2017-08-13  485.768618   1592.462963   47.895086      1.000000   \n",
       "2017-08-14  427.004717   1582.370370   47.590000      0.000000   \n",
       "2017-08-15  427.980884   1602.981481   47.570000      0.018519   \n",
       "\n",
       "            onpromotion_encoded  \n",
       "date                             \n",
       "2013-01-01             0.000000  \n",
       "2013-01-02             0.000000  \n",
       "2013-01-03             0.000000  \n",
       "2013-01-04             0.000000  \n",
       "2013-01-05             0.000000  \n",
       "...                         ...  \n",
       "2017-08-11             7.956790  \n",
       "2017-08-12             4.664422  \n",
       "2017-08-13             5.209315  \n",
       "2017-08-14             4.513468  \n",
       "2017-08-15             5.951178  \n",
       "\n",
       "[1684 rows x 5 columns]"
      ]
     },
     "execution_count": 69,
     "metadata": {},
     "output_type": "execute_result"
    }
   ],
   "source": [
    "df_grouptrain"
   ]
  },
  {
   "cell_type": "code",
   "execution_count": 70,
   "id": "31c11c26",
   "metadata": {
    "execution": {
     "iopub.execute_input": "2024-01-19T11:18:01.011571Z",
     "iopub.status.busy": "2024-01-19T11:18:01.011175Z",
     "iopub.status.idle": "2024-01-19T11:18:01.018134Z",
     "shell.execute_reply": "2024-01-19T11:18:01.017041Z"
    },
    "papermill": {
     "duration": 0.049908,
     "end_time": "2024-01-19T11:18:01.020831",
     "exception": false,
     "start_time": "2024-01-19T11:18:00.970923",
     "status": "completed"
    },
    "tags": []
   },
   "outputs": [
    {
     "name": "stdout",
     "output_type": "stream",
     "text": [
      "Valid shape: (10, 5)\n",
      "Train shape (1674, 5)\n"
     ]
    }
   ],
   "source": [
    "n_valid = 10\n",
    "groupvalid = df_grouptrain[-n_valid:]\n",
    "grouptrain = df_grouptrain[:-n_valid]\n",
    "print('Valid shape:', groupvalid.shape)\n",
    "print('Train shape', grouptrain.shape)"
   ]
  },
  {
   "cell_type": "markdown",
   "id": "d3e4d41f",
   "metadata": {
    "papermill": {
     "duration": 0.038779,
     "end_time": "2024-01-19T11:18:01.098621",
     "exception": false,
     "start_time": "2024-01-19T11:18:01.059842",
     "status": "completed"
    },
    "tags": []
   },
   "source": [
    "# VAR Forecasting\n",
    "- predict 10 periods"
   ]
  },
  {
   "cell_type": "code",
   "execution_count": 71,
   "id": "894f4f89",
   "metadata": {
    "execution": {
     "iopub.execute_input": "2024-01-19T11:18:01.179064Z",
     "iopub.status.busy": "2024-01-19T11:18:01.177907Z",
     "iopub.status.idle": "2024-01-19T11:18:01.182655Z",
     "shell.execute_reply": "2024-01-19T11:18:01.181764Z"
    },
    "papermill": {
     "duration": 0.047288,
     "end_time": "2024-01-19T11:18:01.184850",
     "exception": false,
     "start_time": "2024-01-19T11:18:01.137562",
     "status": "completed"
    },
    "tags": []
   },
   "outputs": [],
   "source": [
    "nobs = 10"
   ]
  },
  {
   "cell_type": "code",
   "execution_count": 72,
   "id": "ca86e7b1",
   "metadata": {
    "execution": {
     "iopub.execute_input": "2024-01-19T11:18:01.265152Z",
     "iopub.status.busy": "2024-01-19T11:18:01.264073Z",
     "iopub.status.idle": "2024-01-19T11:18:01.816819Z",
     "shell.execute_reply": "2024-01-19T11:18:01.815338Z"
    },
    "papermill": {
     "duration": 0.597264,
     "end_time": "2024-01-19T11:18:01.821181",
     "exception": false,
     "start_time": "2024-01-19T11:18:01.223917",
     "status": "completed"
    },
    "tags": []
   },
   "outputs": [
    {
     "name": "stderr",
     "output_type": "stream",
     "text": [
      "/opt/conda/lib/python3.10/site-packages/statsmodels/tsa/base/tsa_model.py:473: ValueWarning: A date index has been provided, but it has no associated frequency information and so will be ignored when e.g. forecasting.\n",
      "  self._init_dates(dates, freq)\n",
      "/opt/conda/lib/python3.10/site-packages/statsmodels/tsa/base/tsa_model.py:473: ValueWarning: A date index has been provided, but it has no associated frequency information and so will be ignored when e.g. forecasting.\n",
      "  self._init_dates(dates, freq)\n",
      "/opt/conda/lib/python3.10/site-packages/statsmodels/tsa/base/tsa_model.py:473: ValueWarning: A date index has been provided, but it has no associated frequency information and so will be ignored when e.g. forecasting.\n",
      "  self._init_dates(dates, freq)\n",
      "/opt/conda/lib/python3.10/site-packages/statsmodels/tsa/base/tsa_model.py:473: ValueWarning: A date index has been provided, but it has no associated frequency information and so will be ignored when e.g. forecasting.\n",
      "  self._init_dates(dates, freq)\n",
      "/opt/conda/lib/python3.10/site-packages/statsmodels/tsa/base/tsa_model.py:473: ValueWarning: A date index has been provided, but it has no associated frequency information and so will be ignored when e.g. forecasting.\n",
      "  self._init_dates(dates, freq)\n",
      "/opt/conda/lib/python3.10/site-packages/statsmodels/tsa/base/tsa_model.py:473: ValueWarning: A date index has been provided, but it has no associated frequency information and so will be ignored when e.g. forecasting.\n",
      "  self._init_dates(dates, freq)\n",
      "/opt/conda/lib/python3.10/site-packages/statsmodels/tsa/base/tsa_model.py:473: ValueWarning: A date index has been provided, but it has no associated frequency information and so will be ignored when e.g. forecasting.\n",
      "  self._init_dates(dates, freq)\n",
      "/opt/conda/lib/python3.10/site-packages/statsmodels/tsa/base/tsa_model.py:473: ValueWarning: A date index has been provided, but it has no associated frequency information and so will be ignored when e.g. forecasting.\n",
      "  self._init_dates(dates, freq)\n",
      "/opt/conda/lib/python3.10/site-packages/statsmodels/tsa/base/tsa_model.py:473: ValueWarning: A date index has been provided, but it has no associated frequency information and so will be ignored when e.g. forecasting.\n",
      "  self._init_dates(dates, freq)\n",
      "/opt/conda/lib/python3.10/site-packages/statsmodels/tsa/base/tsa_model.py:473: ValueWarning: A date index has been provided, but it has no associated frequency information and so will be ignored when e.g. forecasting.\n",
      "  self._init_dates(dates, freq)\n"
     ]
    },
    {
     "name": "stdout",
     "output_type": "stream",
     "text": [
      "VAR(1) - AIC All:16.938398507743745\n",
      "VAR(2) - AIC All:16.11728264228674\n",
      "VAR(3) - AIC All:15.65559914143497\n",
      "VAR(4) - AIC All:15.380321805161758\n",
      "VAR(5) - AIC All:14.970462690846222\n",
      "VAR(6) - AIC All:14.64394681236562\n",
      "VAR(7) - AIC All:13.50451721600791\n",
      "VAR(8) - AIC All:13.224738758656573\n",
      "VAR(9) - AIC All:13.142897098416864\n",
      "VAR(10) - AIC All:13.113502711214554\n",
      "VAR(11) - AIC All:13.11603217522463\n",
      "VAR(12) - AIC All:13.101517641737411\n",
      "VAR(13) - AIC All:13.057987733774857\n",
      "VAR(14) - AIC All:12.978795591396679\n",
      "VAR(15) - AIC All:12.971729740666065\n",
      "VAR(16) - AIC All:12.96693067463815\n",
      "VAR(17) - AIC All:12.978399269074897\n"
     ]
    },
    {
     "name": "stderr",
     "output_type": "stream",
     "text": [
      "/opt/conda/lib/python3.10/site-packages/statsmodels/tsa/base/tsa_model.py:473: ValueWarning: A date index has been provided, but it has no associated frequency information and so will be ignored when e.g. forecasting.\n",
      "  self._init_dates(dates, freq)\n",
      "/opt/conda/lib/python3.10/site-packages/statsmodels/tsa/base/tsa_model.py:473: ValueWarning: A date index has been provided, but it has no associated frequency information and so will be ignored when e.g. forecasting.\n",
      "  self._init_dates(dates, freq)\n",
      "/opt/conda/lib/python3.10/site-packages/statsmodels/tsa/base/tsa_model.py:473: ValueWarning: A date index has been provided, but it has no associated frequency information and so will be ignored when e.g. forecasting.\n",
      "  self._init_dates(dates, freq)\n",
      "/opt/conda/lib/python3.10/site-packages/statsmodels/tsa/base/tsa_model.py:473: ValueWarning: A date index has been provided, but it has no associated frequency information and so will be ignored when e.g. forecasting.\n",
      "  self._init_dates(dates, freq)\n",
      "/opt/conda/lib/python3.10/site-packages/statsmodels/tsa/base/tsa_model.py:473: ValueWarning: A date index has been provided, but it has no associated frequency information and so will be ignored when e.g. forecasting.\n",
      "  self._init_dates(dates, freq)\n",
      "/opt/conda/lib/python3.10/site-packages/statsmodels/tsa/base/tsa_model.py:473: ValueWarning: A date index has been provided, but it has no associated frequency information and so will be ignored when e.g. forecasting.\n",
      "  self._init_dates(dates, freq)\n",
      "/opt/conda/lib/python3.10/site-packages/statsmodels/tsa/base/tsa_model.py:473: ValueWarning: A date index has been provided, but it has no associated frequency information and so will be ignored when e.g. forecasting.\n",
      "  self._init_dates(dates, freq)\n",
      "/opt/conda/lib/python3.10/site-packages/statsmodels/tsa/base/tsa_model.py:473: ValueWarning: A date index has been provided, but it has no associated frequency information and so will be ignored when e.g. forecasting.\n",
      "  self._init_dates(dates, freq)\n"
     ]
    },
    {
     "name": "stdout",
     "output_type": "stream",
     "text": [
      "VAR(18) - AIC All:12.99436737180653\n",
      "VAR(19) - AIC All:13.002354815614511\n",
      "VAR(20) - AIC All:13.006785811220546\n"
     ]
    },
    {
     "name": "stderr",
     "output_type": "stream",
     "text": [
      "/opt/conda/lib/python3.10/site-packages/statsmodels/tsa/base/tsa_model.py:473: ValueWarning: A date index has been provided, but it has no associated frequency information and so will be ignored when e.g. forecasting.\n",
      "  self._init_dates(dates, freq)\n",
      "/opt/conda/lib/python3.10/site-packages/statsmodels/tsa/base/tsa_model.py:473: ValueWarning: A date index has been provided, but it has no associated frequency information and so will be ignored when e.g. forecasting.\n",
      "  self._init_dates(dates, freq)\n"
     ]
    }
   ],
   "source": [
    "# Check AIC and find the best lag order\n",
    "aic_all_list = []\n",
    "lag_order_list = [1, 2, 3, 4, 5, 6, 7, 8, 9, 10, 11, 12, 13, 14, 15, 16, 17, 18, 19, 20]\n",
    "for order in lag_order_list:\n",
    "    model = sm.tsa.VAR(grouptrain[:-nobs])\n",
    "    result = model.fit(order)\n",
    "    aic_all = result.aic\n",
    "    aic_all_list.append(aic_all)\n",
    "    print('VAR({}) - AIC All:{}'.format(order, aic_all))"
   ]
  },
  {
   "cell_type": "code",
   "execution_count": 73,
   "id": "619d2572",
   "metadata": {
    "execution": {
     "iopub.execute_input": "2024-01-19T11:18:01.960421Z",
     "iopub.status.busy": "2024-01-19T11:18:01.960023Z",
     "iopub.status.idle": "2024-01-19T11:18:01.965035Z",
     "shell.execute_reply": "2024-01-19T11:18:01.963994Z"
    },
    "papermill": {
     "duration": 0.059732,
     "end_time": "2024-01-19T11:18:01.967468",
     "exception": false,
     "start_time": "2024-01-19T11:18:01.907736",
     "status": "completed"
    },
    "tags": []
   },
   "outputs": [],
   "source": [
    "best_lag = lag_order_list[aic_all_list.index(np.min(aic_all_list))]"
   ]
  },
  {
   "cell_type": "code",
   "execution_count": 74,
   "id": "3057fda4",
   "metadata": {
    "execution": {
     "iopub.execute_input": "2024-01-19T11:18:02.048926Z",
     "iopub.status.busy": "2024-01-19T11:18:02.048534Z",
     "iopub.status.idle": "2024-01-19T11:18:02.074404Z",
     "shell.execute_reply": "2024-01-19T11:18:02.072756Z"
    },
    "papermill": {
     "duration": 0.07142,
     "end_time": "2024-01-19T11:18:02.078337",
     "exception": false,
     "start_time": "2024-01-19T11:18:02.006917",
     "status": "completed"
    },
    "tags": []
   },
   "outputs": [
    {
     "name": "stderr",
     "output_type": "stream",
     "text": [
      "/opt/conda/lib/python3.10/site-packages/statsmodels/tsa/base/tsa_model.py:473: ValueWarning: A date index has been provided, but it has no associated frequency information and so will be ignored when e.g. forecasting.\n",
      "  self._init_dates(dates, freq)\n"
     ]
    }
   ],
   "source": [
    "model = sm.tsa.VAR(grouptrain)\n",
    "result = model.fit(best_lag)\n",
    "lag_order = result.k_ar"
   ]
  },
  {
   "cell_type": "code",
   "execution_count": 75,
   "id": "fda6faa4",
   "metadata": {
    "execution": {
     "iopub.execute_input": "2024-01-19T11:18:02.219705Z",
     "iopub.status.busy": "2024-01-19T11:18:02.219276Z",
     "iopub.status.idle": "2024-01-19T11:18:02.224806Z",
     "shell.execute_reply": "2024-01-19T11:18:02.223678Z"
    },
    "papermill": {
     "duration": 0.062976,
     "end_time": "2024-01-19T11:18:02.226980",
     "exception": false,
     "start_time": "2024-01-19T11:18:02.164004",
     "status": "completed"
    },
    "tags": []
   },
   "outputs": [],
   "source": [
    "forecast_input = grouptrain.values[-lag_order:]"
   ]
  },
  {
   "cell_type": "code",
   "execution_count": 76,
   "id": "28f4f0a9",
   "metadata": {
    "execution": {
     "iopub.execute_input": "2024-01-19T11:18:02.308670Z",
     "iopub.status.busy": "2024-01-19T11:18:02.308257Z",
     "iopub.status.idle": "2024-01-19T11:18:02.315251Z",
     "shell.execute_reply": "2024-01-19T11:18:02.313952Z"
    },
    "papermill": {
     "duration": 0.050745,
     "end_time": "2024-01-19T11:18:02.317771",
     "exception": false,
     "start_time": "2024-01-19T11:18:02.267026",
     "status": "completed"
    },
    "tags": []
   },
   "outputs": [],
   "source": [
    "fc = result.forecast(y=forecast_input, steps=nobs)\n",
    "var_forecast = pd.DataFrame(fc, index=groupvalid.index,\n",
    "                            columns=grouptrain.columns)"
   ]
  },
  {
   "cell_type": "code",
   "execution_count": 77,
   "id": "f5922282",
   "metadata": {
    "execution": {
     "iopub.execute_input": "2024-01-19T11:18:02.400815Z",
     "iopub.status.busy": "2024-01-19T11:18:02.399660Z",
     "iopub.status.idle": "2024-01-19T11:18:02.405967Z",
     "shell.execute_reply": "2024-01-19T11:18:02.405021Z"
    },
    "papermill": {
     "duration": 0.049801,
     "end_time": "2024-01-19T11:18:02.408248",
     "exception": false,
     "start_time": "2024-01-19T11:18:02.358447",
     "status": "completed"
    },
    "tags": []
   },
   "outputs": [
    {
     "name": "stdout",
     "output_type": "stream",
     "text": [
      "35248.81924623842\n"
     ]
    }
   ],
   "source": [
    "# MSE\n",
    "print(sum((groupvalid['sales'] - var_forecast['sales'])**2))"
   ]
  },
  {
   "cell_type": "code",
   "execution_count": 78,
   "id": "7a7cce3e",
   "metadata": {
    "execution": {
     "iopub.execute_input": "2024-01-19T11:18:02.490480Z",
     "iopub.status.busy": "2024-01-19T11:18:02.490091Z",
     "iopub.status.idle": "2024-01-19T11:18:02.830415Z",
     "shell.execute_reply": "2024-01-19T11:18:02.829330Z"
    },
    "papermill": {
     "duration": 0.384711,
     "end_time": "2024-01-19T11:18:02.833171",
     "exception": false,
     "start_time": "2024-01-19T11:18:02.448460",
     "status": "completed"
    },
    "tags": []
   },
   "outputs": [
    {
     "data": {
      "image/png": "[encoded data removed]",
      "text/plain": [
       "<Figure size 640x480 with 1 Axes>"
      ]
     },
     "metadata": {},
     "output_type": "display_data"
    }
   ],
   "source": [
    "# plot prediction\n",
    "plt.plot(groupvalid.index, var_forecast['sales'], color='r', linestyle='--', label='Forecast Value')\n",
    "plt.plot(groupvalid.index, groupvalid['sales'], color='g', linestyle='-', label='Actual Value')\n",
    "plt.xticks(rotation=45)\n",
    "plt.legend()\n",
    "plt.show()"
   ]
  },
  {
   "cell_type": "code",
   "execution_count": null,
   "id": "4bc74164",
   "metadata": {
    "papermill": {
     "duration": 0.042055,
     "end_time": "2024-01-19T11:18:02.915493",
     "exception": false,
     "start_time": "2024-01-19T11:18:02.873438",
     "status": "completed"
    },
    "tags": []
   },
   "outputs": [],
   "source": []
  }
 ],
 "metadata": {
  "kaggle": {
   "accelerator": "none",
   "dataSources": [
    {
     "databundleVersionId": 2887556,
     "sourceId": 29781,
     "sourceType": "competition"
    }
   ],
   "dockerImageVersionId": 30635,
   "isGpuEnabled": false,
   "isInternetEnabled": true,
   "language": "python",
   "sourceType": "notebook"
  },
  "kernelspec": {
   "display_name": "Python 3",
   "language": "python",
   "name": "python3"
  },
  "language_info": {
   "codemirror_mode": {
    "name": "ipython",
    "version": 3
   },
   "file_extension": ".py",
   "mimetype": "text/x-python",
   "name": "python",
   "nbconvert_exporter": "python",
   "pygments_lexer": "ipython3",
   "version": "3.10.12"
  },
  "papermill": {
   "default_parameters": {},
   "duration": 199.719474,
   "end_time": "2024-01-19T11:18:04.181018",
   "environment_variables": {},
   "exception": null,
   "input_path": "__notebook__.ipynb",
   "output_path": "__notebook__.ipynb",
   "parameters": {},
   "start_time": "2024-01-19T11:14:44.461544",
   "version": "2.4.0"
  }
 },
 "nbformat": 4,
 "nbformat_minor": 5
}
